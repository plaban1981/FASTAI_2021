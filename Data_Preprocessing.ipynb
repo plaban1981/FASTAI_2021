{
 "cells": [
  {
   "cell_type": "code",
   "execution_count": 12,
   "id": "06849455",
   "metadata": {},
   "outputs": [],
   "source": [
    "import pandas as pd\n",
    "import numpy as np\n",
    "import os\n",
    "import shutil\n",
    "from glob import glob\n",
    "import bentoml"
   ]
  },
  {
   "cell_type": "code",
   "execution_count": 11,
   "id": "c402e19f",
   "metadata": {},
   "outputs": [
    {
     "name": "stdout",
     "output_type": "stream",
     "text": [
      "Collecting bentoml\n",
      "  Using cached bentoml-1.0.5-py3-none-any.whl (792 kB)\n",
      "Collecting opentelemetry-api>=1.9.0\n",
      "  Using cached opentelemetry_api-1.12.0-py3-none-any.whl (52 kB)\n",
      "Collecting prometheus-client<0.14.0,>=0.10.0\n",
      "  Using cached prometheus_client-0.13.1-py3-none-any.whl (57 kB)\n",
      "Collecting python-dotenv>=0.20.0\n",
      "  Using cached python_dotenv-0.21.0-py3-none-any.whl (18 kB)\n",
      "Collecting watchfiles>=0.15.0\n",
      "  Using cached watchfiles-0.16.1-cp37-abi3-manylinux_2_12_x86_64.manylinux2010_x86_64.whl (1.2 MB)\n",
      "Collecting opentelemetry-sdk>=1.9.0\n",
      "  Using cached opentelemetry_sdk-1.12.0-py3-none-any.whl (81 kB)\n",
      "Requirement already satisfied: cloudpickle in /home/plaban/anaconda3/lib/python3.9/site-packages (from bentoml) (2.0.0)\n",
      "Requirement already satisfied: requests in /home/plaban/anaconda3/lib/python3.9/site-packages (from bentoml) (2.28.1)\n",
      "Collecting uvicorn\n",
      "  Using cached uvicorn-0.18.3-py3-none-any.whl (57 kB)\n",
      "Collecting python-multipart\n",
      "  Using cached python_multipart-0.0.5-py3-none-any.whl\n",
      "Collecting opentelemetry-instrumentation==0.33b0\n",
      "  Using cached opentelemetry_instrumentation-0.33b0-py3-none-any.whl (23 kB)\n",
      "Requirement already satisfied: pathspec in /home/plaban/anaconda3/lib/python3.9/site-packages (from bentoml) (0.9.0)\n",
      "Requirement already satisfied: numpy in /home/plaban/anaconda3/lib/python3.9/site-packages (from bentoml) (1.21.5)\n",
      "Collecting opentelemetry-util-http==0.33b0\n",
      "  Using cached opentelemetry_util_http-0.33b0-py3-none-any.whl (6.6 kB)\n",
      "Collecting pip-tools>=6.6.2\n",
      "  Using cached pip_tools-6.8.0-py3-none-any.whl (51 kB)\n",
      "Collecting deepmerge\n",
      "  Using cached deepmerge-1.0.1-py3-none-any.whl (8.0 kB)\n",
      "Collecting opentelemetry-instrumentation-asgi==0.33b0\n",
      "  Using cached opentelemetry_instrumentation_asgi-0.33b0-py3-none-any.whl (8.9 kB)\n",
      "Collecting Jinja2>=3.0.1\n",
      "  Using cached Jinja2-3.1.2-py3-none-any.whl (133 kB)\n",
      "Collecting simple-di>=0.1.4\n",
      "  Using cached simple_di-0.1.5-py3-none-any.whl (9.8 kB)\n",
      "Collecting starlette\n",
      "  Using cached starlette-0.20.4-py3-none-any.whl (63 kB)\n",
      "Requirement already satisfied: aiohttp in /home/plaban/anaconda3/lib/python3.9/site-packages (from bentoml) (3.8.1)\n",
      "Requirement already satisfied: python-dateutil in /home/plaban/anaconda3/lib/python3.9/site-packages (from bentoml) (2.8.2)\n",
      "Requirement already satisfied: PyYAML>=5.0 in /home/plaban/anaconda3/lib/python3.9/site-packages (from bentoml) (6.0)\n",
      "Requirement already satisfied: packaging>=20.0 in /home/plaban/anaconda3/lib/python3.9/site-packages (from bentoml) (21.3)\n",
      "Requirement already satisfied: attrs>=21.1.0 in /home/plaban/anaconda3/lib/python3.9/site-packages (from bentoml) (21.4.0)\n",
      "Collecting opentelemetry-semantic-conventions==0.33b0\n",
      "  Using cached opentelemetry_semantic_conventions-0.33b0-py3-none-any.whl (26 kB)\n",
      "Requirement already satisfied: click>=7.0 in /home/plaban/anaconda3/lib/python3.9/site-packages (from bentoml) (8.0.4)\n",
      "Collecting rich>=11.2.0\n",
      "  Using cached rich-12.5.1-py3-none-any.whl (235 kB)\n",
      "Collecting circus\n",
      "  Using cached circus-0.17.1-py3-none-any.whl (182 kB)\n",
      "Collecting cattrs>=22.1.0\n",
      "  Using cached cattrs-22.1.0-py3-none-any.whl (33 kB)\n",
      "Collecting fs\n",
      "  Using cached fs-2.4.16-py2.py3-none-any.whl (135 kB)\n",
      "Collecting schema\n",
      "  Using cached schema-0.7.5-py2.py3-none-any.whl (17 kB)\n",
      "Collecting opentelemetry-instrumentation-aiohttp-client==0.33b0\n",
      "  Using cached opentelemetry_instrumentation_aiohttp_client-0.33b0-py3-none-any.whl (11 kB)\n",
      "Collecting pynvml<12\n",
      "  Using cached pynvml-11.4.1-py3-none-any.whl (46 kB)\n",
      "Requirement already satisfied: psutil in /home/plaban/anaconda3/lib/python3.9/site-packages (from bentoml) (5.9.0)\n",
      "Requirement already satisfied: setuptools>=16.0 in /home/plaban/anaconda3/lib/python3.9/site-packages (from opentelemetry-instrumentation==0.33b0->bentoml) (63.4.1)\n",
      "Requirement already satisfied: wrapt<2.0.0,>=1.0.0 in /home/plaban/anaconda3/lib/python3.9/site-packages (from opentelemetry-instrumentation==0.33b0->bentoml) (1.12.1)\n",
      "Collecting asgiref~=3.0\n",
      "  Using cached asgiref-3.5.2-py3-none-any.whl (22 kB)\n",
      "Collecting exceptiongroup\n",
      "  Using cached exceptiongroup-1.0.0rc9-py3-none-any.whl (12 kB)\n",
      "Requirement already satisfied: MarkupSafe>=2.0 in /home/plaban/anaconda3/lib/python3.9/site-packages (from Jinja2>=3.0.1->bentoml) (2.0.1)\n",
      "Collecting Deprecated>=1.2.6\n",
      "  Using cached Deprecated-1.2.13-py2.py3-none-any.whl (9.6 kB)\n",
      "Requirement already satisfied: typing-extensions>=3.7.4 in /home/plaban/anaconda3/lib/python3.9/site-packages (from opentelemetry-sdk>=1.9.0->bentoml) (4.3.0)\n",
      "Requirement already satisfied: pyparsing!=3.0.5,>=2.0.2 in /home/plaban/anaconda3/lib/python3.9/site-packages (from packaging>=20.0->bentoml) (3.0.9)\n",
      "Requirement already satisfied: wheel in /home/plaban/anaconda3/lib/python3.9/site-packages (from pip-tools>=6.6.2->bentoml) (0.37.1)\n",
      "Collecting build\n",
      "  Using cached build-0.8.0-py3-none-any.whl (17 kB)\n",
      "Requirement already satisfied: pip>=21.2 in /home/plaban/anaconda3/lib/python3.9/site-packages (from pip-tools>=6.6.2->bentoml) (22.1.2)\n",
      "Collecting commonmark<0.10.0,>=0.9.0\n",
      "  Using cached commonmark-0.9.1-py2.py3-none-any.whl (51 kB)\n",
      "Requirement already satisfied: pygments<3.0.0,>=2.6.0 in /home/plaban/anaconda3/lib/python3.9/site-packages (from rich>=11.2.0->bentoml) (2.11.2)\n",
      "Requirement already satisfied: anyio<4,>=3.0.0 in /home/plaban/anaconda3/lib/python3.9/site-packages (from watchfiles>=0.15.0->bentoml) (3.5.0)\n",
      "Requirement already satisfied: async-timeout<5.0,>=4.0.0a3 in /home/plaban/anaconda3/lib/python3.9/site-packages (from aiohttp->bentoml) (4.0.1)\n",
      "Requirement already satisfied: charset-normalizer<3.0,>=2.0 in /home/plaban/anaconda3/lib/python3.9/site-packages (from aiohttp->bentoml) (2.0.4)\n",
      "Requirement already satisfied: aiosignal>=1.1.2 in /home/plaban/anaconda3/lib/python3.9/site-packages (from aiohttp->bentoml) (1.2.0)\n",
      "Requirement already satisfied: frozenlist>=1.1.1 in /home/plaban/anaconda3/lib/python3.9/site-packages (from aiohttp->bentoml) (1.2.0)\n",
      "Requirement already satisfied: multidict<7.0,>=4.5 in /home/plaban/anaconda3/lib/python3.9/site-packages (from aiohttp->bentoml) (5.2.0)\n",
      "Requirement already satisfied: yarl<2.0,>=1.0 in /home/plaban/anaconda3/lib/python3.9/site-packages (from aiohttp->bentoml) (1.8.1)\n",
      "Requirement already satisfied: pyzmq>=17.0 in /home/plaban/anaconda3/lib/python3.9/site-packages (from circus->bentoml) (23.2.0)\n",
      "Requirement already satisfied: tornado>=5.0.2 in /home/plaban/anaconda3/lib/python3.9/site-packages (from circus->bentoml) (6.1)\n",
      "Requirement already satisfied: appdirs~=1.4.3 in /home/plaban/anaconda3/lib/python3.9/site-packages (from fs->bentoml) (1.4.4)\n",
      "Requirement already satisfied: six~=1.10 in /home/plaban/anaconda3/lib/python3.9/site-packages (from fs->bentoml) (1.16.0)\n",
      "Requirement already satisfied: idna<4,>=2.5 in /home/plaban/anaconda3/lib/python3.9/site-packages (from requests->bentoml) (3.3)\n",
      "Requirement already satisfied: urllib3<1.27,>=1.21.1 in /home/plaban/anaconda3/lib/python3.9/site-packages (from requests->bentoml) (1.26.11)\n",
      "Requirement already satisfied: certifi>=2017.4.17 in /home/plaban/anaconda3/lib/python3.9/site-packages (from requests->bentoml) (2022.6.15)\n",
      "Collecting contextlib2>=0.5.5\n",
      "  Using cached contextlib2-21.6.0-py2.py3-none-any.whl (13 kB)\n",
      "Collecting h11>=0.8\n",
      "  Using cached h11-0.13.0-py3-none-any.whl (58 kB)\n",
      "Requirement already satisfied: sniffio>=1.1 in /home/plaban/anaconda3/lib/python3.9/site-packages (from anyio<4,>=3.0.0->watchfiles>=0.15.0->bentoml) (1.2.0)\n",
      "Requirement already satisfied: tomli>=1.0.0 in /home/plaban/anaconda3/lib/python3.9/site-packages (from build->pip-tools>=6.6.2->bentoml) (2.0.1)\n",
      "Collecting pep517>=0.9.1\n",
      "  Using cached pep517-0.13.0-py3-none-any.whl (18 kB)\n",
      "Installing collected packages: deepmerge, commonmark, simple-di, rich, python-multipart, python-dotenv, pynvml, prometheus-client, pep517, opentelemetry-util-http, opentelemetry-semantic-conventions, Jinja2, h11, fs, exceptiongroup, Deprecated, contextlib2, circus, asgiref, watchfiles, uvicorn, starlette, schema, opentelemetry-api, cattrs, build, pip-tools, opentelemetry-sdk, opentelemetry-instrumentation, opentelemetry-instrumentation-asgi, opentelemetry-instrumentation-aiohttp-client, bentoml\n",
      "  Attempting uninstall: prometheus-client\n",
      "    Found existing installation: prometheus-client 0.14.1\n"
     ]
    },
    {
     "name": "stdout",
     "output_type": "stream",
     "text": [
      "    Uninstalling prometheus-client-0.14.1:\n",
      "      Successfully uninstalled prometheus-client-0.14.1\n",
      "  Attempting uninstall: Jinja2\n",
      "    Found existing installation: Jinja2 2.11.3\n",
      "    Uninstalling Jinja2-2.11.3:\n",
      "      Successfully uninstalled Jinja2-2.11.3\n",
      "\u001b[31mERROR: pip's dependency resolver does not currently take into account all the packages that are installed. This behaviour is the source of the following dependency conflicts.\n",
      "anaconda-project 0.11.1 requires ruamel-yaml, which is not installed.\u001b[0m\u001b[31m\n",
      "\u001b[0mSuccessfully installed Deprecated-1.2.13 Jinja2-3.1.2 asgiref-3.5.2 bentoml-1.0.5 build-0.8.0 cattrs-22.1.0 circus-0.17.1 commonmark-0.9.1 contextlib2-21.6.0 deepmerge-1.0.1 exceptiongroup-1.0.0rc9 fs-2.4.16 h11-0.13.0 opentelemetry-api-1.12.0 opentelemetry-instrumentation-0.33b0 opentelemetry-instrumentation-aiohttp-client-0.33b0 opentelemetry-instrumentation-asgi-0.33b0 opentelemetry-sdk-1.12.0 opentelemetry-semantic-conventions-0.33b0 opentelemetry-util-http-0.33b0 pep517-0.13.0 pip-tools-6.8.0 prometheus-client-0.13.1 pynvml-11.4.1 python-dotenv-0.21.0 python-multipart-0.0.5 rich-12.5.1 schema-0.7.5 simple-di-0.1.5 starlette-0.20.4 uvicorn-0.18.3 watchfiles-0.16.1\n",
      "\u001b[33mWARNING: Running pip as the 'root' user can result in broken permissions and conflicting behaviour with the system package manager. It is recommended to use a virtual environment instead: https://pip.pypa.io/warnings/venv\u001b[0m\u001b[33m\n",
      "\u001b[0m"
     ]
    }
   ],
   "source": [
    "!pip install bentoml"
   ]
  },
  {
   "cell_type": "code",
   "execution_count": 3,
   "id": "42f5bcbf",
   "metadata": {},
   "outputs": [
    {
     "data": {
      "text/plain": [
       "['.c',\n",
       " 'boats',\n",
       " 'buoy',\n",
       " 'cruise ship',\n",
       " 'Data_preprocessing.ipynb',\n",
       " 'ferry boat',\n",
       " 'freight boat',\n",
       " 'gondola',\n",
       " 'inflatable boat',\n",
       " 'kayak',\n",
       " 'paper boat',\n",
       " 'sailboat']"
      ]
     },
     "execution_count": 3,
     "metadata": {},
     "output_type": "execute_result"
    }
   ],
   "source": [
    "os.listdir('./Data')"
   ]
  },
  {
   "cell_type": "code",
   "execution_count": 7,
   "id": "66bbd333",
   "metadata": {},
   "outputs": [],
   "source": [
    "categories = glob('./Data/*')"
   ]
  },
  {
   "cell_type": "code",
   "execution_count": 8,
   "id": "59d06922",
   "metadata": {},
   "outputs": [
    {
     "data": {
      "text/plain": [
       "['./Data/boats',\n",
       " './Data/buoy',\n",
       " './Data/cruise ship',\n",
       " './Data/Data_preprocessing.ipynb',\n",
       " './Data/ferry boat',\n",
       " './Data/freight boat',\n",
       " './Data/gondola',\n",
       " './Data/inflatable boat',\n",
       " './Data/kayak',\n",
       " './Data/paper boat',\n",
       " './Data/sailboat']"
      ]
     },
     "execution_count": 8,
     "metadata": {},
     "output_type": "execute_result"
    }
   ],
   "source": [
    "categories"
   ]
  },
  {
   "cell_type": "code",
   "execution_count": 9,
   "id": "926c685f",
   "metadata": {},
   "outputs": [
    {
     "data": {
      "text/plain": [
       "11"
      ]
     },
     "execution_count": 9,
     "metadata": {},
     "output_type": "execute_result"
    }
   ],
   "source": [
    "len(categories)"
   ]
  },
  {
   "cell_type": "code",
   "execution_count": 13,
   "id": "41ee5680",
   "metadata": {},
   "outputs": [],
   "source": [
    "filedf = pd.DataFrame()\n",
    "for cat in categories:\n",
    "    files = glob(cat+\"/*\")\n",
    "    tempdf = pd.DataFrame({'filepath':files,'category':cat.split(\"/\")[-1]})\n",
    "    filedf = pd.concat([filedf,tempdf])"
   ]
  },
  {
   "cell_type": "code",
   "execution_count": 14,
   "id": "fcedf888",
   "metadata": {},
   "outputs": [
    {
     "data": {
      "text/html": [
       "<div>\n",
       "<style scoped>\n",
       "    .dataframe tbody tr th:only-of-type {\n",
       "        vertical-align: middle;\n",
       "    }\n",
       "\n",
       "    .dataframe tbody tr th {\n",
       "        vertical-align: top;\n",
       "    }\n",
       "\n",
       "    .dataframe thead th {\n",
       "        text-align: right;\n",
       "    }\n",
       "</style>\n",
       "<table border=\"1\" class=\"dataframe\">\n",
       "  <thead>\n",
       "    <tr style=\"text-align: right;\">\n",
       "      <th></th>\n",
       "      <th>filepath</th>\n",
       "      <th>category</th>\n",
       "    </tr>\n",
       "  </thead>\n",
       "  <tbody>\n",
       "    <tr>\n",
       "      <th>0</th>\n",
       "      <td>./Data/boats/buoy</td>\n",
       "      <td>boats</td>\n",
       "    </tr>\n",
       "    <tr>\n",
       "      <th>1</th>\n",
       "      <td>./Data/boats/cruise ship</td>\n",
       "      <td>boats</td>\n",
       "    </tr>\n",
       "    <tr>\n",
       "      <th>2</th>\n",
       "      <td>./Data/boats/ferry boat</td>\n",
       "      <td>boats</td>\n",
       "    </tr>\n",
       "    <tr>\n",
       "      <th>3</th>\n",
       "      <td>./Data/boats/freight boat</td>\n",
       "      <td>boats</td>\n",
       "    </tr>\n",
       "    <tr>\n",
       "      <th>4</th>\n",
       "      <td>./Data/boats/gondola</td>\n",
       "      <td>boats</td>\n",
       "    </tr>\n",
       "  </tbody>\n",
       "</table>\n",
       "</div>"
      ],
      "text/plain": [
       "                    filepath category\n",
       "0          ./Data/boats/buoy    boats\n",
       "1   ./Data/boats/cruise ship    boats\n",
       "2    ./Data/boats/ferry boat    boats\n",
       "3  ./Data/boats/freight boat    boats\n",
       "4       ./Data/boats/gondola    boats"
      ]
     },
     "execution_count": 14,
     "metadata": {},
     "output_type": "execute_result"
    }
   ],
   "source": [
    "filedf.head()"
   ]
  },
  {
   "cell_type": "code",
   "execution_count": 15,
   "id": "4fd68164",
   "metadata": {},
   "outputs": [
    {
     "data": {
      "text/plain": [
       "sailboat           488\n",
       "kayak              254\n",
       "gondola            242\n",
       "cruise ship        239\n",
       "ferry boat          81\n",
       "buoy                68\n",
       "paper boat          40\n",
       "freight boat        29\n",
       "inflatable boat     21\n",
       "boats                9\n",
       "Name: category, dtype: int64"
      ]
     },
     "execution_count": 15,
     "metadata": {},
     "output_type": "execute_result"
    }
   ],
   "source": [
    "filedf['category'].value_counts()"
   ]
  },
  {
   "cell_type": "code",
   "execution_count": 16,
   "id": "e5f4b53c",
   "metadata": {},
   "outputs": [],
   "source": [
    "gby_cnt = filedf.groupby(\"category\").aggregate('count').rename(columns = {'filepath':'cnt'}).reset_index().sort_values(by='cnt',ascending=False)"
   ]
  },
  {
   "cell_type": "code",
   "execution_count": 17,
   "id": "1a024e4d",
   "metadata": {},
   "outputs": [
    {
     "data": {
      "text/html": [
       "<div>\n",
       "<style scoped>\n",
       "    .dataframe tbody tr th:only-of-type {\n",
       "        vertical-align: middle;\n",
       "    }\n",
       "\n",
       "    .dataframe tbody tr th {\n",
       "        vertical-align: top;\n",
       "    }\n",
       "\n",
       "    .dataframe thead th {\n",
       "        text-align: right;\n",
       "    }\n",
       "</style>\n",
       "<table border=\"1\" class=\"dataframe\">\n",
       "  <thead>\n",
       "    <tr style=\"text-align: right;\">\n",
       "      <th></th>\n",
       "      <th>category</th>\n",
       "      <th>cnt</th>\n",
       "    </tr>\n",
       "  </thead>\n",
       "  <tbody>\n",
       "    <tr>\n",
       "      <th>9</th>\n",
       "      <td>sailboat</td>\n",
       "      <td>488</td>\n",
       "    </tr>\n",
       "    <tr>\n",
       "      <th>7</th>\n",
       "      <td>kayak</td>\n",
       "      <td>254</td>\n",
       "    </tr>\n",
       "    <tr>\n",
       "      <th>5</th>\n",
       "      <td>gondola</td>\n",
       "      <td>242</td>\n",
       "    </tr>\n",
       "    <tr>\n",
       "      <th>2</th>\n",
       "      <td>cruise ship</td>\n",
       "      <td>239</td>\n",
       "    </tr>\n",
       "    <tr>\n",
       "      <th>3</th>\n",
       "      <td>ferry boat</td>\n",
       "      <td>81</td>\n",
       "    </tr>\n",
       "    <tr>\n",
       "      <th>1</th>\n",
       "      <td>buoy</td>\n",
       "      <td>68</td>\n",
       "    </tr>\n",
       "    <tr>\n",
       "      <th>8</th>\n",
       "      <td>paper boat</td>\n",
       "      <td>40</td>\n",
       "    </tr>\n",
       "    <tr>\n",
       "      <th>4</th>\n",
       "      <td>freight boat</td>\n",
       "      <td>29</td>\n",
       "    </tr>\n",
       "    <tr>\n",
       "      <th>6</th>\n",
       "      <td>inflatable boat</td>\n",
       "      <td>21</td>\n",
       "    </tr>\n",
       "    <tr>\n",
       "      <th>0</th>\n",
       "      <td>boats</td>\n",
       "      <td>9</td>\n",
       "    </tr>\n",
       "  </tbody>\n",
       "</table>\n",
       "</div>"
      ],
      "text/plain": [
       "          category  cnt\n",
       "9         sailboat  488\n",
       "7            kayak  254\n",
       "5          gondola  242\n",
       "2      cruise ship  239\n",
       "3       ferry boat   81\n",
       "1             buoy   68\n",
       "8       paper boat   40\n",
       "4     freight boat   29\n",
       "6  inflatable boat   21\n",
       "0            boats    9"
      ]
     },
     "execution_count": 17,
     "metadata": {},
     "output_type": "execute_result"
    }
   ],
   "source": [
    "gby_cnt "
   ]
  },
  {
   "cell_type": "markdown",
   "id": "8b741c9f",
   "metadata": {},
   "source": [
    "* renmove categories having imgaes < 40"
   ]
  },
  {
   "cell_type": "code",
   "execution_count": 18,
   "id": "6ef5a223",
   "metadata": {},
   "outputs": [
    {
     "data": {
      "text/plain": [
       "sailboat       488\n",
       "kayak          254\n",
       "gondola        242\n",
       "cruise ship    239\n",
       "ferry boat      81\n",
       "buoy            68\n",
       "paper boat      40\n",
       "Name: category, dtype: int64"
      ]
     },
     "execution_count": 18,
     "metadata": {},
     "output_type": "execute_result"
    }
   ],
   "source": [
    "focus_cats = gby_cnt[gby_cnt['cnt'] >=40]['category'].values\n",
    "filedf  = filedf[filedf['category'].isin(focus_cats)]\n",
    "filedf['category'].value_counts()"
   ]
  },
  {
   "cell_type": "code",
   "execution_count": 19,
   "id": "3bc8fca7",
   "metadata": {},
   "outputs": [],
   "source": [
    "from sklearn.model_selection import train_test_split\n",
    "X_train, X_test, _, _ = train_test_split(filedf, filedf['category'],stratify=filedf['category'], test_size=0.4)\n",
    "\n",
    "X_test, X_val, _, _ = train_test_split(X_test, X_test['category'], stratify=X_test['category'], test_size=0.5)"
   ]
  },
  {
   "cell_type": "code",
   "execution_count": 20,
   "id": "7a9c2093",
   "metadata": {},
   "outputs": [],
   "source": [
    "X_train['type'] = 'train'\n",
    "X_val['type'] = 'val'\n",
    "X_test['type'] = 'test'"
   ]
  },
  {
   "cell_type": "code",
   "execution_count": 21,
   "id": "dcda1805",
   "metadata": {},
   "outputs": [],
   "source": [
    "fulldf = pd.concat([X_train,X_test,X_val])"
   ]
  },
  {
   "cell_type": "code",
   "execution_count": 22,
   "id": "eaaead87",
   "metadata": {},
   "outputs": [
    {
     "data": {
      "text/html": [
       "<div>\n",
       "<style scoped>\n",
       "    .dataframe tbody tr th:only-of-type {\n",
       "        vertical-align: middle;\n",
       "    }\n",
       "\n",
       "    .dataframe tbody tr th {\n",
       "        vertical-align: top;\n",
       "    }\n",
       "\n",
       "    .dataframe thead th {\n",
       "        text-align: right;\n",
       "    }\n",
       "</style>\n",
       "<table border=\"1\" class=\"dataframe\">\n",
       "  <thead>\n",
       "    <tr style=\"text-align: right;\">\n",
       "      <th></th>\n",
       "      <th>filepath</th>\n",
       "      <th>category</th>\n",
       "      <th>type</th>\n",
       "    </tr>\n",
       "  </thead>\n",
       "  <tbody>\n",
       "    <tr>\n",
       "      <th>108</th>\n",
       "      <td>./Data/cruise ship/cruise-ship-travel-sea-vaca...</td>\n",
       "      <td>cruise ship</td>\n",
       "      <td>train</td>\n",
       "    </tr>\n",
       "    <tr>\n",
       "      <th>13</th>\n",
       "      <td>./Data/paper boat/origami-boat-fold-folding-pa...</td>\n",
       "      <td>paper boat</td>\n",
       "      <td>train</td>\n",
       "    </tr>\n",
       "    <tr>\n",
       "      <th>18</th>\n",
       "      <td>./Data/kayak/boat-kayak-inuit-transportation-k...</td>\n",
       "      <td>kayak</td>\n",
       "      <td>train</td>\n",
       "    </tr>\n",
       "    <tr>\n",
       "      <th>25</th>\n",
       "      <td>./Data/sailboat/boat-ocean-recreation-sailboat...</td>\n",
       "      <td>sailboat</td>\n",
       "      <td>train</td>\n",
       "    </tr>\n",
       "    <tr>\n",
       "      <th>199</th>\n",
       "      <td>./Data/gondola/venice-italy-gondola-outdoor-16...</td>\n",
       "      <td>gondola</td>\n",
       "      <td>train</td>\n",
       "    </tr>\n",
       "  </tbody>\n",
       "</table>\n",
       "</div>"
      ],
      "text/plain": [
       "                                              filepath     category   type\n",
       "108  ./Data/cruise ship/cruise-ship-travel-sea-vaca...  cruise ship  train\n",
       "13   ./Data/paper boat/origami-boat-fold-folding-pa...   paper boat  train\n",
       "18   ./Data/kayak/boat-kayak-inuit-transportation-k...        kayak  train\n",
       "25   ./Data/sailboat/boat-ocean-recreation-sailboat...     sailboat  train\n",
       "199  ./Data/gondola/venice-italy-gondola-outdoor-16...      gondola  train"
      ]
     },
     "execution_count": 22,
     "metadata": {},
     "output_type": "execute_result"
    }
   ],
   "source": [
    "fulldf.head()"
   ]
  },
  {
   "cell_type": "markdown",
   "id": "28d3cc7d",
   "metadata": {},
   "source": [
    "## Creating train val test folders"
   ]
  },
  {
   "cell_type": "code",
   "execution_count": 23,
   "id": "85222c68",
   "metadata": {},
   "outputs": [],
   "source": [
    "!mkdir image\n",
    "!rm -rf image/\n",
    "!rm -rf image/train\n",
    "!rm -rf image/test\n",
    "!rm -rf image/val\n",
    "!mkdir image/\n",
    "!mkdir image/train\n",
    "!mkdir image/test\n",
    "!mkdir image/val"
   ]
  },
  {
   "cell_type": "code",
   "execution_count": 24,
   "id": "d43660dc",
   "metadata": {},
   "outputs": [
    {
     "data": {
      "text/plain": [
       "array(['cruise ship', 'paper boat', 'kayak', 'sailboat', 'gondola',\n",
       "       'buoy', 'ferry boat'], dtype=object)"
      ]
     },
     "execution_count": 24,
     "metadata": {},
     "output_type": "execute_result"
    }
   ],
   "source": [
    "fulldf.category.unique()"
   ]
  },
  {
   "cell_type": "code",
   "execution_count": 25,
   "id": "00f313da",
   "metadata": {},
   "outputs": [
    {
     "name": "stderr",
     "output_type": "stream",
     "text": [
      "100%|████████████████████████████████████████████████████████████████████████████████████████████████████████████████████████| 7/7 [00:00<00:00, 112.16it/s]\n"
     ]
    }
   ],
   "source": [
    "from tqdm import tqdm\n",
    "for cat in tqdm(fulldf.category.unique()):\n",
    "    os.system(f\"mkdir image/train/'{cat}'\") \n",
    "    os.system(f\"mkdir image/test/'{cat}'\") \n",
    "    os.system(f\"mkdir image/val/'{cat}'\") "
   ]
  },
  {
   "cell_type": "markdown",
   "id": "2d76efb7",
   "metadata": {},
   "source": [
    "## copy images to respective train test and validation folders"
   ]
  },
  {
   "cell_type": "code",
   "execution_count": 26,
   "id": "43b8401f",
   "metadata": {},
   "outputs": [],
   "source": [
    "for i,row in tqdm(fulldf.iterrows()):\n",
    "    # Boat category\n",
    "    cat = row['category']\n",
    "    # section is train,val or test\n",
    "    section = row['type']\n",
    "    # input filepath to copy\n",
    "    ipath = row['filepath']\n",
    "    # output filepath to paste\n",
    "    opath = ipath.replace(f\"Data/\",f\"image/{section}/\")\n",
    "    # running the cp command\n",
    "    os.system(f\"cp '{ipath}' '{opath}'\")"
   ]
  },
  {
   "cell_type": "code",
   "execution_count": null,
   "id": "5ca05a50",
   "metadata": {},
   "outputs": [],
   "source": []
  }
 ],
 "metadata": {
  "kernelspec": {
   "display_name": "Python 3.9.13 ('bentoml')",
   "language": "python",
   "name": "python3"
  },
  "language_info": {
   "codemirror_mode": {
    "name": "ipython",
    "version": 3
   },
   "file_extension": ".py",
   "mimetype": "text/x-python",
   "name": "python",
   "nbconvert_exporter": "python",
   "pygments_lexer": "ipython3",
   "version": "3.9.13"
  },
  "vscode": {
   "interpreter": {
    "hash": "b2fcd309d3f7ab0611790bcb81749eff24e99540eb7914aefed9a69f252db748"
   }
  }
 },
 "nbformat": 4,
 "nbformat_minor": 5
}
