{
  "nbformat": 4,
  "nbformat_minor": 0,
  "metadata": {
    "colab": {
      "provenance": [],
      "authorship_tag": "ABX9TyMfy4ovCxmSo8+G8ymfkLLC",
      "include_colab_link": true
    },
    "kernelspec": {
      "name": "python3",
      "display_name": "Python 3"
    },
    "language_info": {
      "name": "python"
    },
    "accelerator": "GPU",
    "widgets": {
      "application/vnd.jupyter.widget-state+json": {
        "87c805edbeb841ddb54ae51007485bb2": {
          "model_module": "@jupyter-widgets/controls",
          "model_name": "HBoxModel",
          "model_module_version": "1.5.0",
          "state": {
            "_dom_classes": [],
            "_model_module": "@jupyter-widgets/controls",
            "_model_module_version": "1.5.0",
            "_model_name": "HBoxModel",
            "_view_count": null,
            "_view_module": "@jupyter-widgets/controls",
            "_view_module_version": "1.5.0",
            "_view_name": "HBoxView",
            "box_style": "",
            "children": [
              "IPY_MODEL_d2a0cd17256b420c8c75fe8e34257594",
              "IPY_MODEL_6d136b4ba6be4ef08db2c2fd664a3dc0",
              "IPY_MODEL_57833d17a78f433db655cfbff2e021c3"
            ],
            "layout": "IPY_MODEL_b3a0c76ed3e449058803b6bdc4bd7282"
          }
        },
        "d2a0cd17256b420c8c75fe8e34257594": {
          "model_module": "@jupyter-widgets/controls",
          "model_name": "HTMLModel",
          "model_module_version": "1.5.0",
          "state": {
            "_dom_classes": [],
            "_model_module": "@jupyter-widgets/controls",
            "_model_module_version": "1.5.0",
            "_model_name": "HTMLModel",
            "_view_count": null,
            "_view_module": "@jupyter-widgets/controls",
            "_view_module_version": "1.5.0",
            "_view_name": "HTMLView",
            "description": "",
            "description_tooltip": null,
            "layout": "IPY_MODEL_53337fdbec694040b5777081e4d298b5",
            "placeholder": "​",
            "style": "IPY_MODEL_85f7484a700a4a9a89bfbd91ffb1c927",
            "value": ""
          }
        },
        "6d136b4ba6be4ef08db2c2fd664a3dc0": {
          "model_module": "@jupyter-widgets/controls",
          "model_name": "FloatProgressModel",
          "model_module_version": "1.5.0",
          "state": {
            "_dom_classes": [],
            "_model_module": "@jupyter-widgets/controls",
            "_model_module_version": "1.5.0",
            "_model_name": "FloatProgressModel",
            "_view_count": null,
            "_view_module": "@jupyter-widgets/controls",
            "_view_module_version": "1.5.0",
            "_view_name": "ProgressView",
            "bar_style": "success",
            "description": "",
            "description_tooltip": null,
            "layout": "IPY_MODEL_5a9540ddd1e74091a79ec66ee40a4351",
            "max": 1,
            "min": 0,
            "orientation": "horizontal",
            "style": "IPY_MODEL_49eb71a6e9144265b62a22b6d54b0ec1",
            "value": 0
          }
        },
        "57833d17a78f433db655cfbff2e021c3": {
          "model_module": "@jupyter-widgets/controls",
          "model_name": "HTMLModel",
          "model_module_version": "1.5.0",
          "state": {
            "_dom_classes": [],
            "_model_module": "@jupyter-widgets/controls",
            "_model_module_version": "1.5.0",
            "_model_name": "HTMLModel",
            "_view_count": null,
            "_view_module": "@jupyter-widgets/controls",
            "_view_module_version": "1.5.0",
            "_view_name": "HTMLView",
            "description": "",
            "description_tooltip": null,
            "layout": "IPY_MODEL_a4a1c586b8584277b05687f562124ff0",
            "placeholder": "​",
            "style": "IPY_MODEL_bbfbd01c643142f7842015604736154e",
            "value": " 0/0 [00:00&lt;?, ?it/s]"
          }
        },
        "b3a0c76ed3e449058803b6bdc4bd7282": {
          "model_module": "@jupyter-widgets/base",
          "model_name": "LayoutModel",
          "model_module_version": "1.2.0",
          "state": {
            "_model_module": "@jupyter-widgets/base",
            "_model_module_version": "1.2.0",
            "_model_name": "LayoutModel",
            "_view_count": null,
            "_view_module": "@jupyter-widgets/base",
            "_view_module_version": "1.2.0",
            "_view_name": "LayoutView",
            "align_content": null,
            "align_items": null,
            "align_self": null,
            "border": null,
            "bottom": null,
            "display": null,
            "flex": null,
            "flex_flow": null,
            "grid_area": null,
            "grid_auto_columns": null,
            "grid_auto_flow": null,
            "grid_auto_rows": null,
            "grid_column": null,
            "grid_gap": null,
            "grid_row": null,
            "grid_template_areas": null,
            "grid_template_columns": null,
            "grid_template_rows": null,
            "height": null,
            "justify_content": null,
            "justify_items": null,
            "left": null,
            "margin": null,
            "max_height": null,
            "max_width": null,
            "min_height": null,
            "min_width": null,
            "object_fit": null,
            "object_position": null,
            "order": null,
            "overflow": null,
            "overflow_x": null,
            "overflow_y": null,
            "padding": null,
            "right": null,
            "top": null,
            "visibility": null,
            "width": null
          }
        },
        "53337fdbec694040b5777081e4d298b5": {
          "model_module": "@jupyter-widgets/base",
          "model_name": "LayoutModel",
          "model_module_version": "1.2.0",
          "state": {
            "_model_module": "@jupyter-widgets/base",
            "_model_module_version": "1.2.0",
            "_model_name": "LayoutModel",
            "_view_count": null,
            "_view_module": "@jupyter-widgets/base",
            "_view_module_version": "1.2.0",
            "_view_name": "LayoutView",
            "align_content": null,
            "align_items": null,
            "align_self": null,
            "border": null,
            "bottom": null,
            "display": null,
            "flex": null,
            "flex_flow": null,
            "grid_area": null,
            "grid_auto_columns": null,
            "grid_auto_flow": null,
            "grid_auto_rows": null,
            "grid_column": null,
            "grid_gap": null,
            "grid_row": null,
            "grid_template_areas": null,
            "grid_template_columns": null,
            "grid_template_rows": null,
            "height": null,
            "justify_content": null,
            "justify_items": null,
            "left": null,
            "margin": null,
            "max_height": null,
            "max_width": null,
            "min_height": null,
            "min_width": null,
            "object_fit": null,
            "object_position": null,
            "order": null,
            "overflow": null,
            "overflow_x": null,
            "overflow_y": null,
            "padding": null,
            "right": null,
            "top": null,
            "visibility": null,
            "width": null
          }
        },
        "85f7484a700a4a9a89bfbd91ffb1c927": {
          "model_module": "@jupyter-widgets/controls",
          "model_name": "DescriptionStyleModel",
          "model_module_version": "1.5.0",
          "state": {
            "_model_module": "@jupyter-widgets/controls",
            "_model_module_version": "1.5.0",
            "_model_name": "DescriptionStyleModel",
            "_view_count": null,
            "_view_module": "@jupyter-widgets/base",
            "_view_module_version": "1.2.0",
            "_view_name": "StyleView",
            "description_width": ""
          }
        },
        "5a9540ddd1e74091a79ec66ee40a4351": {
          "model_module": "@jupyter-widgets/base",
          "model_name": "LayoutModel",
          "model_module_version": "1.2.0",
          "state": {
            "_model_module": "@jupyter-widgets/base",
            "_model_module_version": "1.2.0",
            "_model_name": "LayoutModel",
            "_view_count": null,
            "_view_module": "@jupyter-widgets/base",
            "_view_module_version": "1.2.0",
            "_view_name": "LayoutView",
            "align_content": null,
            "align_items": null,
            "align_self": null,
            "border": null,
            "bottom": null,
            "display": null,
            "flex": null,
            "flex_flow": null,
            "grid_area": null,
            "grid_auto_columns": null,
            "grid_auto_flow": null,
            "grid_auto_rows": null,
            "grid_column": null,
            "grid_gap": null,
            "grid_row": null,
            "grid_template_areas": null,
            "grid_template_columns": null,
            "grid_template_rows": null,
            "height": null,
            "justify_content": null,
            "justify_items": null,
            "left": null,
            "margin": null,
            "max_height": null,
            "max_width": null,
            "min_height": null,
            "min_width": null,
            "object_fit": null,
            "object_position": null,
            "order": null,
            "overflow": null,
            "overflow_x": null,
            "overflow_y": null,
            "padding": null,
            "right": null,
            "top": null,
            "visibility": null,
            "width": "20px"
          }
        },
        "49eb71a6e9144265b62a22b6d54b0ec1": {
          "model_module": "@jupyter-widgets/controls",
          "model_name": "ProgressStyleModel",
          "model_module_version": "1.5.0",
          "state": {
            "_model_module": "@jupyter-widgets/controls",
            "_model_module_version": "1.5.0",
            "_model_name": "ProgressStyleModel",
            "_view_count": null,
            "_view_module": "@jupyter-widgets/base",
            "_view_module_version": "1.2.0",
            "_view_name": "StyleView",
            "bar_color": null,
            "description_width": ""
          }
        },
        "a4a1c586b8584277b05687f562124ff0": {
          "model_module": "@jupyter-widgets/base",
          "model_name": "LayoutModel",
          "model_module_version": "1.2.0",
          "state": {
            "_model_module": "@jupyter-widgets/base",
            "_model_module_version": "1.2.0",
            "_model_name": "LayoutModel",
            "_view_count": null,
            "_view_module": "@jupyter-widgets/base",
            "_view_module_version": "1.2.0",
            "_view_name": "LayoutView",
            "align_content": null,
            "align_items": null,
            "align_self": null,
            "border": null,
            "bottom": null,
            "display": null,
            "flex": null,
            "flex_flow": null,
            "grid_area": null,
            "grid_auto_columns": null,
            "grid_auto_flow": null,
            "grid_auto_rows": null,
            "grid_column": null,
            "grid_gap": null,
            "grid_row": null,
            "grid_template_areas": null,
            "grid_template_columns": null,
            "grid_template_rows": null,
            "height": null,
            "justify_content": null,
            "justify_items": null,
            "left": null,
            "margin": null,
            "max_height": null,
            "max_width": null,
            "min_height": null,
            "min_width": null,
            "object_fit": null,
            "object_position": null,
            "order": null,
            "overflow": null,
            "overflow_x": null,
            "overflow_y": null,
            "padding": null,
            "right": null,
            "top": null,
            "visibility": null,
            "width": null
          }
        },
        "bbfbd01c643142f7842015604736154e": {
          "model_module": "@jupyter-widgets/controls",
          "model_name": "DescriptionStyleModel",
          "model_module_version": "1.5.0",
          "state": {
            "_model_module": "@jupyter-widgets/controls",
            "_model_module_version": "1.5.0",
            "_model_name": "DescriptionStyleModel",
            "_view_count": null,
            "_view_module": "@jupyter-widgets/base",
            "_view_module_version": "1.2.0",
            "_view_name": "StyleView",
            "description_width": ""
          }
        },
        "cd813e56d34d4d1aa891e3d78b12e0da": {
          "model_module": "@jupyter-widgets/controls",
          "model_name": "HBoxModel",
          "model_module_version": "1.5.0",
          "state": {
            "_dom_classes": [],
            "_model_module": "@jupyter-widgets/controls",
            "_model_module_version": "1.5.0",
            "_model_name": "HBoxModel",
            "_view_count": null,
            "_view_module": "@jupyter-widgets/controls",
            "_view_module_version": "1.5.0",
            "_view_name": "HBoxView",
            "box_style": "",
            "children": [
              "IPY_MODEL_f0c9a85bf166482cabffa4e78876514a",
              "IPY_MODEL_690adb3aa35745bba0e4795956adab95",
              "IPY_MODEL_b5e315635d114860ac05480ab9864f2f"
            ],
            "layout": "IPY_MODEL_5c2a331ed9604bf99ec47ff4bc56443c"
          }
        },
        "f0c9a85bf166482cabffa4e78876514a": {
          "model_module": "@jupyter-widgets/controls",
          "model_name": "HTMLModel",
          "model_module_version": "1.5.0",
          "state": {
            "_dom_classes": [],
            "_model_module": "@jupyter-widgets/controls",
            "_model_module_version": "1.5.0",
            "_model_name": "HTMLModel",
            "_view_count": null,
            "_view_module": "@jupyter-widgets/controls",
            "_view_module_version": "1.5.0",
            "_view_name": "HTMLView",
            "description": "",
            "description_tooltip": null,
            "layout": "IPY_MODEL_3684a3f93013452ab7a136a2d81b480d",
            "placeholder": "​",
            "style": "IPY_MODEL_ead0b8fd8ee248ffbddc86d6e337e75d",
            "value": "Downloading: 100%"
          }
        },
        "690adb3aa35745bba0e4795956adab95": {
          "model_module": "@jupyter-widgets/controls",
          "model_name": "FloatProgressModel",
          "model_module_version": "1.5.0",
          "state": {
            "_dom_classes": [],
            "_model_module": "@jupyter-widgets/controls",
            "_model_module_version": "1.5.0",
            "_model_name": "FloatProgressModel",
            "_view_count": null,
            "_view_module": "@jupyter-widgets/controls",
            "_view_module_version": "1.5.0",
            "_view_name": "ProgressView",
            "bar_style": "success",
            "description": "",
            "description_tooltip": null,
            "layout": "IPY_MODEL_d4994d5d2d124d0683ec6e8448d81d93",
            "max": 578,
            "min": 0,
            "orientation": "horizontal",
            "style": "IPY_MODEL_46d22e8ce9b04b5bb47aa0b5ede6b4ec",
            "value": 578
          }
        },
        "b5e315635d114860ac05480ab9864f2f": {
          "model_module": "@jupyter-widgets/controls",
          "model_name": "HTMLModel",
          "model_module_version": "1.5.0",
          "state": {
            "_dom_classes": [],
            "_model_module": "@jupyter-widgets/controls",
            "_model_module_version": "1.5.0",
            "_model_name": "HTMLModel",
            "_view_count": null,
            "_view_module": "@jupyter-widgets/controls",
            "_view_module_version": "1.5.0",
            "_view_name": "HTMLView",
            "description": "",
            "description_tooltip": null,
            "layout": "IPY_MODEL_128caf85a33741488906b90f84257cfe",
            "placeholder": "​",
            "style": "IPY_MODEL_a0ab6874a2e845c0a430cbb17936f532",
            "value": " 578/578 [00:00&lt;00:00, 18.5kB/s]"
          }
        },
        "5c2a331ed9604bf99ec47ff4bc56443c": {
          "model_module": "@jupyter-widgets/base",
          "model_name": "LayoutModel",
          "model_module_version": "1.2.0",
          "state": {
            "_model_module": "@jupyter-widgets/base",
            "_model_module_version": "1.2.0",
            "_model_name": "LayoutModel",
            "_view_count": null,
            "_view_module": "@jupyter-widgets/base",
            "_view_module_version": "1.2.0",
            "_view_name": "LayoutView",
            "align_content": null,
            "align_items": null,
            "align_self": null,
            "border": null,
            "bottom": null,
            "display": null,
            "flex": null,
            "flex_flow": null,
            "grid_area": null,
            "grid_auto_columns": null,
            "grid_auto_flow": null,
            "grid_auto_rows": null,
            "grid_column": null,
            "grid_gap": null,
            "grid_row": null,
            "grid_template_areas": null,
            "grid_template_columns": null,
            "grid_template_rows": null,
            "height": null,
            "justify_content": null,
            "justify_items": null,
            "left": null,
            "margin": null,
            "max_height": null,
            "max_width": null,
            "min_height": null,
            "min_width": null,
            "object_fit": null,
            "object_position": null,
            "order": null,
            "overflow": null,
            "overflow_x": null,
            "overflow_y": null,
            "padding": null,
            "right": null,
            "top": null,
            "visibility": null,
            "width": null
          }
        },
        "3684a3f93013452ab7a136a2d81b480d": {
          "model_module": "@jupyter-widgets/base",
          "model_name": "LayoutModel",
          "model_module_version": "1.2.0",
          "state": {
            "_model_module": "@jupyter-widgets/base",
            "_model_module_version": "1.2.0",
            "_model_name": "LayoutModel",
            "_view_count": null,
            "_view_module": "@jupyter-widgets/base",
            "_view_module_version": "1.2.0",
            "_view_name": "LayoutView",
            "align_content": null,
            "align_items": null,
            "align_self": null,
            "border": null,
            "bottom": null,
            "display": null,
            "flex": null,
            "flex_flow": null,
            "grid_area": null,
            "grid_auto_columns": null,
            "grid_auto_flow": null,
            "grid_auto_rows": null,
            "grid_column": null,
            "grid_gap": null,
            "grid_row": null,
            "grid_template_areas": null,
            "grid_template_columns": null,
            "grid_template_rows": null,
            "height": null,
            "justify_content": null,
            "justify_items": null,
            "left": null,
            "margin": null,
            "max_height": null,
            "max_width": null,
            "min_height": null,
            "min_width": null,
            "object_fit": null,
            "object_position": null,
            "order": null,
            "overflow": null,
            "overflow_x": null,
            "overflow_y": null,
            "padding": null,
            "right": null,
            "top": null,
            "visibility": null,
            "width": null
          }
        },
        "ead0b8fd8ee248ffbddc86d6e337e75d": {
          "model_module": "@jupyter-widgets/controls",
          "model_name": "DescriptionStyleModel",
          "model_module_version": "1.5.0",
          "state": {
            "_model_module": "@jupyter-widgets/controls",
            "_model_module_version": "1.5.0",
            "_model_name": "DescriptionStyleModel",
            "_view_count": null,
            "_view_module": "@jupyter-widgets/base",
            "_view_module_version": "1.2.0",
            "_view_name": "StyleView",
            "description_width": ""
          }
        },
        "d4994d5d2d124d0683ec6e8448d81d93": {
          "model_module": "@jupyter-widgets/base",
          "model_name": "LayoutModel",
          "model_module_version": "1.2.0",
          "state": {
            "_model_module": "@jupyter-widgets/base",
            "_model_module_version": "1.2.0",
            "_model_name": "LayoutModel",
            "_view_count": null,
            "_view_module": "@jupyter-widgets/base",
            "_view_module_version": "1.2.0",
            "_view_name": "LayoutView",
            "align_content": null,
            "align_items": null,
            "align_self": null,
            "border": null,
            "bottom": null,
            "display": null,
            "flex": null,
            "flex_flow": null,
            "grid_area": null,
            "grid_auto_columns": null,
            "grid_auto_flow": null,
            "grid_auto_rows": null,
            "grid_column": null,
            "grid_gap": null,
            "grid_row": null,
            "grid_template_areas": null,
            "grid_template_columns": null,
            "grid_template_rows": null,
            "height": null,
            "justify_content": null,
            "justify_items": null,
            "left": null,
            "margin": null,
            "max_height": null,
            "max_width": null,
            "min_height": null,
            "min_width": null,
            "object_fit": null,
            "object_position": null,
            "order": null,
            "overflow": null,
            "overflow_x": null,
            "overflow_y": null,
            "padding": null,
            "right": null,
            "top": null,
            "visibility": null,
            "width": null
          }
        },
        "46d22e8ce9b04b5bb47aa0b5ede6b4ec": {
          "model_module": "@jupyter-widgets/controls",
          "model_name": "ProgressStyleModel",
          "model_module_version": "1.5.0",
          "state": {
            "_model_module": "@jupyter-widgets/controls",
            "_model_module_version": "1.5.0",
            "_model_name": "ProgressStyleModel",
            "_view_count": null,
            "_view_module": "@jupyter-widgets/base",
            "_view_module_version": "1.2.0",
            "_view_name": "StyleView",
            "bar_color": null,
            "description_width": ""
          }
        },
        "128caf85a33741488906b90f84257cfe": {
          "model_module": "@jupyter-widgets/base",
          "model_name": "LayoutModel",
          "model_module_version": "1.2.0",
          "state": {
            "_model_module": "@jupyter-widgets/base",
            "_model_module_version": "1.2.0",
            "_model_name": "LayoutModel",
            "_view_count": null,
            "_view_module": "@jupyter-widgets/base",
            "_view_module_version": "1.2.0",
            "_view_name": "LayoutView",
            "align_content": null,
            "align_items": null,
            "align_self": null,
            "border": null,
            "bottom": null,
            "display": null,
            "flex": null,
            "flex_flow": null,
            "grid_area": null,
            "grid_auto_columns": null,
            "grid_auto_flow": null,
            "grid_auto_rows": null,
            "grid_column": null,
            "grid_gap": null,
            "grid_row": null,
            "grid_template_areas": null,
            "grid_template_columns": null,
            "grid_template_rows": null,
            "height": null,
            "justify_content": null,
            "justify_items": null,
            "left": null,
            "margin": null,
            "max_height": null,
            "max_width": null,
            "min_height": null,
            "min_width": null,
            "object_fit": null,
            "object_position": null,
            "order": null,
            "overflow": null,
            "overflow_x": null,
            "overflow_y": null,
            "padding": null,
            "right": null,
            "top": null,
            "visibility": null,
            "width": null
          }
        },
        "a0ab6874a2e845c0a430cbb17936f532": {
          "model_module": "@jupyter-widgets/controls",
          "model_name": "DescriptionStyleModel",
          "model_module_version": "1.5.0",
          "state": {
            "_model_module": "@jupyter-widgets/controls",
            "_model_module_version": "1.5.0",
            "_model_name": "DescriptionStyleModel",
            "_view_count": null,
            "_view_module": "@jupyter-widgets/base",
            "_view_module_version": "1.2.0",
            "_view_name": "StyleView",
            "description_width": ""
          }
        },
        "8df1b0aa77e247ed8b18a4c98f1adee7": {
          "model_module": "@jupyter-widgets/controls",
          "model_name": "HBoxModel",
          "model_module_version": "1.5.0",
          "state": {
            "_dom_classes": [],
            "_model_module": "@jupyter-widgets/controls",
            "_model_module_version": "1.5.0",
            "_model_name": "HBoxModel",
            "_view_count": null,
            "_view_module": "@jupyter-widgets/controls",
            "_view_module_version": "1.5.0",
            "_view_name": "HBoxView",
            "box_style": "",
            "children": [
              "IPY_MODEL_0f9c525b43e44cdca4cb14fcab87b0c4",
              "IPY_MODEL_d2e59c38dd5848e585a24a67d3447888",
              "IPY_MODEL_083a7f7e83814df78938b0e2bb90c5b6"
            ],
            "layout": "IPY_MODEL_4acd6ca415a64e9ba5ee79d1b0bc42ea"
          }
        },
        "0f9c525b43e44cdca4cb14fcab87b0c4": {
          "model_module": "@jupyter-widgets/controls",
          "model_name": "HTMLModel",
          "model_module_version": "1.5.0",
          "state": {
            "_dom_classes": [],
            "_model_module": "@jupyter-widgets/controls",
            "_model_module_version": "1.5.0",
            "_model_name": "HTMLModel",
            "_view_count": null,
            "_view_module": "@jupyter-widgets/controls",
            "_view_module_version": "1.5.0",
            "_view_name": "HTMLView",
            "description": "",
            "description_tooltip": null,
            "layout": "IPY_MODEL_7e0a4e14ab39448ebbc85ce505422808",
            "placeholder": "​",
            "style": "IPY_MODEL_de7d446b1d3e42a9b591ad63e07dc865",
            "value": "Downloading: 100%"
          }
        },
        "d2e59c38dd5848e585a24a67d3447888": {
          "model_module": "@jupyter-widgets/controls",
          "model_name": "FloatProgressModel",
          "model_module_version": "1.5.0",
          "state": {
            "_dom_classes": [],
            "_model_module": "@jupyter-widgets/controls",
            "_model_module_version": "1.5.0",
            "_model_name": "FloatProgressModel",
            "_view_count": null,
            "_view_module": "@jupyter-widgets/controls",
            "_view_module_version": "1.5.0",
            "_view_name": "ProgressView",
            "bar_style": "success",
            "description": "",
            "description_tooltip": null,
            "layout": "IPY_MODEL_38a009093ad54f47bde476a8c7e631be",
            "max": 286059269,
            "min": 0,
            "orientation": "horizontal",
            "style": "IPY_MODEL_1963c9a7a40e4100b7d976d70125e3c8",
            "value": 286059269
          }
        },
        "083a7f7e83814df78938b0e2bb90c5b6": {
          "model_module": "@jupyter-widgets/controls",
          "model_name": "HTMLModel",
          "model_module_version": "1.5.0",
          "state": {
            "_dom_classes": [],
            "_model_module": "@jupyter-widgets/controls",
            "_model_module_version": "1.5.0",
            "_model_name": "HTMLModel",
            "_view_count": null,
            "_view_module": "@jupyter-widgets/controls",
            "_view_module_version": "1.5.0",
            "_view_name": "HTMLView",
            "description": "",
            "description_tooltip": null,
            "layout": "IPY_MODEL_4f4f035836ad4a3a962d60f431a0843f",
            "placeholder": "​",
            "style": "IPY_MODEL_9d6405a4c4e74615a1deb2ee5c57c113",
            "value": " 286M/286M [00:15&lt;00:00, 20.3MB/s]"
          }
        },
        "4acd6ca415a64e9ba5ee79d1b0bc42ea": {
          "model_module": "@jupyter-widgets/base",
          "model_name": "LayoutModel",
          "model_module_version": "1.2.0",
          "state": {
            "_model_module": "@jupyter-widgets/base",
            "_model_module_version": "1.2.0",
            "_model_name": "LayoutModel",
            "_view_count": null,
            "_view_module": "@jupyter-widgets/base",
            "_view_module_version": "1.2.0",
            "_view_name": "LayoutView",
            "align_content": null,
            "align_items": null,
            "align_self": null,
            "border": null,
            "bottom": null,
            "display": null,
            "flex": null,
            "flex_flow": null,
            "grid_area": null,
            "grid_auto_columns": null,
            "grid_auto_flow": null,
            "grid_auto_rows": null,
            "grid_column": null,
            "grid_gap": null,
            "grid_row": null,
            "grid_template_areas": null,
            "grid_template_columns": null,
            "grid_template_rows": null,
            "height": null,
            "justify_content": null,
            "justify_items": null,
            "left": null,
            "margin": null,
            "max_height": null,
            "max_width": null,
            "min_height": null,
            "min_width": null,
            "object_fit": null,
            "object_position": null,
            "order": null,
            "overflow": null,
            "overflow_x": null,
            "overflow_y": null,
            "padding": null,
            "right": null,
            "top": null,
            "visibility": null,
            "width": null
          }
        },
        "7e0a4e14ab39448ebbc85ce505422808": {
          "model_module": "@jupyter-widgets/base",
          "model_name": "LayoutModel",
          "model_module_version": "1.2.0",
          "state": {
            "_model_module": "@jupyter-widgets/base",
            "_model_module_version": "1.2.0",
            "_model_name": "LayoutModel",
            "_view_count": null,
            "_view_module": "@jupyter-widgets/base",
            "_view_module_version": "1.2.0",
            "_view_name": "LayoutView",
            "align_content": null,
            "align_items": null,
            "align_self": null,
            "border": null,
            "bottom": null,
            "display": null,
            "flex": null,
            "flex_flow": null,
            "grid_area": null,
            "grid_auto_columns": null,
            "grid_auto_flow": null,
            "grid_auto_rows": null,
            "grid_column": null,
            "grid_gap": null,
            "grid_row": null,
            "grid_template_areas": null,
            "grid_template_columns": null,
            "grid_template_rows": null,
            "height": null,
            "justify_content": null,
            "justify_items": null,
            "left": null,
            "margin": null,
            "max_height": null,
            "max_width": null,
            "min_height": null,
            "min_width": null,
            "object_fit": null,
            "object_position": null,
            "order": null,
            "overflow": null,
            "overflow_x": null,
            "overflow_y": null,
            "padding": null,
            "right": null,
            "top": null,
            "visibility": null,
            "width": null
          }
        },
        "de7d446b1d3e42a9b591ad63e07dc865": {
          "model_module": "@jupyter-widgets/controls",
          "model_name": "DescriptionStyleModel",
          "model_module_version": "1.5.0",
          "state": {
            "_model_module": "@jupyter-widgets/controls",
            "_model_module_version": "1.5.0",
            "_model_name": "DescriptionStyleModel",
            "_view_count": null,
            "_view_module": "@jupyter-widgets/base",
            "_view_module_version": "1.2.0",
            "_view_name": "StyleView",
            "description_width": ""
          }
        },
        "38a009093ad54f47bde476a8c7e631be": {
          "model_module": "@jupyter-widgets/base",
          "model_name": "LayoutModel",
          "model_module_version": "1.2.0",
          "state": {
            "_model_module": "@jupyter-widgets/base",
            "_model_module_version": "1.2.0",
            "_model_name": "LayoutModel",
            "_view_count": null,
            "_view_module": "@jupyter-widgets/base",
            "_view_module_version": "1.2.0",
            "_view_name": "LayoutView",
            "align_content": null,
            "align_items": null,
            "align_self": null,
            "border": null,
            "bottom": null,
            "display": null,
            "flex": null,
            "flex_flow": null,
            "grid_area": null,
            "grid_auto_columns": null,
            "grid_auto_flow": null,
            "grid_auto_rows": null,
            "grid_column": null,
            "grid_gap": null,
            "grid_row": null,
            "grid_template_areas": null,
            "grid_template_columns": null,
            "grid_template_rows": null,
            "height": null,
            "justify_content": null,
            "justify_items": null,
            "left": null,
            "margin": null,
            "max_height": null,
            "max_width": null,
            "min_height": null,
            "min_width": null,
            "object_fit": null,
            "object_position": null,
            "order": null,
            "overflow": null,
            "overflow_x": null,
            "overflow_y": null,
            "padding": null,
            "right": null,
            "top": null,
            "visibility": null,
            "width": null
          }
        },
        "1963c9a7a40e4100b7d976d70125e3c8": {
          "model_module": "@jupyter-widgets/controls",
          "model_name": "ProgressStyleModel",
          "model_module_version": "1.5.0",
          "state": {
            "_model_module": "@jupyter-widgets/controls",
            "_model_module_version": "1.5.0",
            "_model_name": "ProgressStyleModel",
            "_view_count": null,
            "_view_module": "@jupyter-widgets/base",
            "_view_module_version": "1.2.0",
            "_view_name": "StyleView",
            "bar_color": null,
            "description_width": ""
          }
        },
        "4f4f035836ad4a3a962d60f431a0843f": {
          "model_module": "@jupyter-widgets/base",
          "model_name": "LayoutModel",
          "model_module_version": "1.2.0",
          "state": {
            "_model_module": "@jupyter-widgets/base",
            "_model_module_version": "1.2.0",
            "_model_name": "LayoutModel",
            "_view_count": null,
            "_view_module": "@jupyter-widgets/base",
            "_view_module_version": "1.2.0",
            "_view_name": "LayoutView",
            "align_content": null,
            "align_items": null,
            "align_self": null,
            "border": null,
            "bottom": null,
            "display": null,
            "flex": null,
            "flex_flow": null,
            "grid_area": null,
            "grid_auto_columns": null,
            "grid_auto_flow": null,
            "grid_auto_rows": null,
            "grid_column": null,
            "grid_gap": null,
            "grid_row": null,
            "grid_template_areas": null,
            "grid_template_columns": null,
            "grid_template_rows": null,
            "height": null,
            "justify_content": null,
            "justify_items": null,
            "left": null,
            "margin": null,
            "max_height": null,
            "max_width": null,
            "min_height": null,
            "min_width": null,
            "object_fit": null,
            "object_position": null,
            "order": null,
            "overflow": null,
            "overflow_x": null,
            "overflow_y": null,
            "padding": null,
            "right": null,
            "top": null,
            "visibility": null,
            "width": null
          }
        },
        "9d6405a4c4e74615a1deb2ee5c57c113": {
          "model_module": "@jupyter-widgets/controls",
          "model_name": "DescriptionStyleModel",
          "model_module_version": "1.5.0",
          "state": {
            "_model_module": "@jupyter-widgets/controls",
            "_model_module_version": "1.5.0",
            "_model_name": "DescriptionStyleModel",
            "_view_count": null,
            "_view_module": "@jupyter-widgets/base",
            "_view_module_version": "1.2.0",
            "_view_name": "StyleView",
            "description_width": ""
          }
        },
        "88d140b350834f80a68edb70c7f9e606": {
          "model_module": "@jupyter-widgets/controls",
          "model_name": "HBoxModel",
          "model_module_version": "1.5.0",
          "state": {
            "_dom_classes": [],
            "_model_module": "@jupyter-widgets/controls",
            "_model_module_version": "1.5.0",
            "_model_name": "HBoxModel",
            "_view_count": null,
            "_view_module": "@jupyter-widgets/controls",
            "_view_module_version": "1.5.0",
            "_view_name": "HBoxView",
            "box_style": "",
            "children": [
              "IPY_MODEL_8a0f0006db3e4c09804c721cd6d092e8",
              "IPY_MODEL_40e3fa47aaaa465898e38a013a671598",
              "IPY_MODEL_7a633050995b417c8bd52ee4f3ee0711"
            ],
            "layout": "IPY_MODEL_db7eff5881854b2680b47a903658e035"
          }
        },
        "8a0f0006db3e4c09804c721cd6d092e8": {
          "model_module": "@jupyter-widgets/controls",
          "model_name": "HTMLModel",
          "model_module_version": "1.5.0",
          "state": {
            "_dom_classes": [],
            "_model_module": "@jupyter-widgets/controls",
            "_model_module_version": "1.5.0",
            "_model_name": "HTMLModel",
            "_view_count": null,
            "_view_module": "@jupyter-widgets/controls",
            "_view_module_version": "1.5.0",
            "_view_name": "HTMLView",
            "description": "",
            "description_tooltip": null,
            "layout": "IPY_MODEL_29f5658d59784379a85193b1479fbb4e",
            "placeholder": "​",
            "style": "IPY_MODEL_c9c8fd82ad164c8282f817e19bee16ad",
            "value": "Downloading: 100%"
          }
        },
        "40e3fa47aaaa465898e38a013a671598": {
          "model_module": "@jupyter-widgets/controls",
          "model_name": "FloatProgressModel",
          "model_module_version": "1.5.0",
          "state": {
            "_dom_classes": [],
            "_model_module": "@jupyter-widgets/controls",
            "_model_module_version": "1.5.0",
            "_model_name": "FloatProgressModel",
            "_view_count": null,
            "_view_module": "@jupyter-widgets/controls",
            "_view_module_version": "1.5.0",
            "_view_name": "ProgressView",
            "bar_style": "success",
            "description": "",
            "description_tooltip": null,
            "layout": "IPY_MODEL_32d2ab204b8c44209204db569b5e6fe7",
            "max": 52,
            "min": 0,
            "orientation": "horizontal",
            "style": "IPY_MODEL_91399050f69442f4950c2dcded70e9e1",
            "value": 52
          }
        },
        "7a633050995b417c8bd52ee4f3ee0711": {
          "model_module": "@jupyter-widgets/controls",
          "model_name": "HTMLModel",
          "model_module_version": "1.5.0",
          "state": {
            "_dom_classes": [],
            "_model_module": "@jupyter-widgets/controls",
            "_model_module_version": "1.5.0",
            "_model_name": "HTMLModel",
            "_view_count": null,
            "_view_module": "@jupyter-widgets/controls",
            "_view_module_version": "1.5.0",
            "_view_name": "HTMLView",
            "description": "",
            "description_tooltip": null,
            "layout": "IPY_MODEL_6e91a0b2dbde4de4bc00438dc86cee9e",
            "placeholder": "​",
            "style": "IPY_MODEL_502d5fb71a304c25b8f8c5451e92c0af",
            "value": " 52.0/52.0 [00:00&lt;00:00, 1.57kB/s]"
          }
        },
        "db7eff5881854b2680b47a903658e035": {
          "model_module": "@jupyter-widgets/base",
          "model_name": "LayoutModel",
          "model_module_version": "1.2.0",
          "state": {
            "_model_module": "@jupyter-widgets/base",
            "_model_module_version": "1.2.0",
            "_model_name": "LayoutModel",
            "_view_count": null,
            "_view_module": "@jupyter-widgets/base",
            "_view_module_version": "1.2.0",
            "_view_name": "LayoutView",
            "align_content": null,
            "align_items": null,
            "align_self": null,
            "border": null,
            "bottom": null,
            "display": null,
            "flex": null,
            "flex_flow": null,
            "grid_area": null,
            "grid_auto_columns": null,
            "grid_auto_flow": null,
            "grid_auto_rows": null,
            "grid_column": null,
            "grid_gap": null,
            "grid_row": null,
            "grid_template_areas": null,
            "grid_template_columns": null,
            "grid_template_rows": null,
            "height": null,
            "justify_content": null,
            "justify_items": null,
            "left": null,
            "margin": null,
            "max_height": null,
            "max_width": null,
            "min_height": null,
            "min_width": null,
            "object_fit": null,
            "object_position": null,
            "order": null,
            "overflow": null,
            "overflow_x": null,
            "overflow_y": null,
            "padding": null,
            "right": null,
            "top": null,
            "visibility": null,
            "width": null
          }
        },
        "29f5658d59784379a85193b1479fbb4e": {
          "model_module": "@jupyter-widgets/base",
          "model_name": "LayoutModel",
          "model_module_version": "1.2.0",
          "state": {
            "_model_module": "@jupyter-widgets/base",
            "_model_module_version": "1.2.0",
            "_model_name": "LayoutModel",
            "_view_count": null,
            "_view_module": "@jupyter-widgets/base",
            "_view_module_version": "1.2.0",
            "_view_name": "LayoutView",
            "align_content": null,
            "align_items": null,
            "align_self": null,
            "border": null,
            "bottom": null,
            "display": null,
            "flex": null,
            "flex_flow": null,
            "grid_area": null,
            "grid_auto_columns": null,
            "grid_auto_flow": null,
            "grid_auto_rows": null,
            "grid_column": null,
            "grid_gap": null,
            "grid_row": null,
            "grid_template_areas": null,
            "grid_template_columns": null,
            "grid_template_rows": null,
            "height": null,
            "justify_content": null,
            "justify_items": null,
            "left": null,
            "margin": null,
            "max_height": null,
            "max_width": null,
            "min_height": null,
            "min_width": null,
            "object_fit": null,
            "object_position": null,
            "order": null,
            "overflow": null,
            "overflow_x": null,
            "overflow_y": null,
            "padding": null,
            "right": null,
            "top": null,
            "visibility": null,
            "width": null
          }
        },
        "c9c8fd82ad164c8282f817e19bee16ad": {
          "model_module": "@jupyter-widgets/controls",
          "model_name": "DescriptionStyleModel",
          "model_module_version": "1.5.0",
          "state": {
            "_model_module": "@jupyter-widgets/controls",
            "_model_module_version": "1.5.0",
            "_model_name": "DescriptionStyleModel",
            "_view_count": null,
            "_view_module": "@jupyter-widgets/base",
            "_view_module_version": "1.2.0",
            "_view_name": "StyleView",
            "description_width": ""
          }
        },
        "32d2ab204b8c44209204db569b5e6fe7": {
          "model_module": "@jupyter-widgets/base",
          "model_name": "LayoutModel",
          "model_module_version": "1.2.0",
          "state": {
            "_model_module": "@jupyter-widgets/base",
            "_model_module_version": "1.2.0",
            "_model_name": "LayoutModel",
            "_view_count": null,
            "_view_module": "@jupyter-widgets/base",
            "_view_module_version": "1.2.0",
            "_view_name": "LayoutView",
            "align_content": null,
            "align_items": null,
            "align_self": null,
            "border": null,
            "bottom": null,
            "display": null,
            "flex": null,
            "flex_flow": null,
            "grid_area": null,
            "grid_auto_columns": null,
            "grid_auto_flow": null,
            "grid_auto_rows": null,
            "grid_column": null,
            "grid_gap": null,
            "grid_row": null,
            "grid_template_areas": null,
            "grid_template_columns": null,
            "grid_template_rows": null,
            "height": null,
            "justify_content": null,
            "justify_items": null,
            "left": null,
            "margin": null,
            "max_height": null,
            "max_width": null,
            "min_height": null,
            "min_width": null,
            "object_fit": null,
            "object_position": null,
            "order": null,
            "overflow": null,
            "overflow_x": null,
            "overflow_y": null,
            "padding": null,
            "right": null,
            "top": null,
            "visibility": null,
            "width": null
          }
        },
        "91399050f69442f4950c2dcded70e9e1": {
          "model_module": "@jupyter-widgets/controls",
          "model_name": "ProgressStyleModel",
          "model_module_version": "1.5.0",
          "state": {
            "_model_module": "@jupyter-widgets/controls",
            "_model_module_version": "1.5.0",
            "_model_name": "ProgressStyleModel",
            "_view_count": null,
            "_view_module": "@jupyter-widgets/base",
            "_view_module_version": "1.2.0",
            "_view_name": "StyleView",
            "bar_color": null,
            "description_width": ""
          }
        },
        "6e91a0b2dbde4de4bc00438dc86cee9e": {
          "model_module": "@jupyter-widgets/base",
          "model_name": "LayoutModel",
          "model_module_version": "1.2.0",
          "state": {
            "_model_module": "@jupyter-widgets/base",
            "_model_module_version": "1.2.0",
            "_model_name": "LayoutModel",
            "_view_count": null,
            "_view_module": "@jupyter-widgets/base",
            "_view_module_version": "1.2.0",
            "_view_name": "LayoutView",
            "align_content": null,
            "align_items": null,
            "align_self": null,
            "border": null,
            "bottom": null,
            "display": null,
            "flex": null,
            "flex_flow": null,
            "grid_area": null,
            "grid_auto_columns": null,
            "grid_auto_flow": null,
            "grid_auto_rows": null,
            "grid_column": null,
            "grid_gap": null,
            "grid_row": null,
            "grid_template_areas": null,
            "grid_template_columns": null,
            "grid_template_rows": null,
            "height": null,
            "justify_content": null,
            "justify_items": null,
            "left": null,
            "margin": null,
            "max_height": null,
            "max_width": null,
            "min_height": null,
            "min_width": null,
            "object_fit": null,
            "object_position": null,
            "order": null,
            "overflow": null,
            "overflow_x": null,
            "overflow_y": null,
            "padding": null,
            "right": null,
            "top": null,
            "visibility": null,
            "width": null
          }
        },
        "502d5fb71a304c25b8f8c5451e92c0af": {
          "model_module": "@jupyter-widgets/controls",
          "model_name": "DescriptionStyleModel",
          "model_module_version": "1.5.0",
          "state": {
            "_model_module": "@jupyter-widgets/controls",
            "_model_module_version": "1.5.0",
            "_model_name": "DescriptionStyleModel",
            "_view_count": null,
            "_view_module": "@jupyter-widgets/base",
            "_view_module_version": "1.2.0",
            "_view_name": "StyleView",
            "description_width": ""
          }
        },
        "2a6cb7ff086c4d63bf93ae9c703054ee": {
          "model_module": "@jupyter-widgets/controls",
          "model_name": "HBoxModel",
          "model_module_version": "1.5.0",
          "state": {
            "_dom_classes": [],
            "_model_module": "@jupyter-widgets/controls",
            "_model_module_version": "1.5.0",
            "_model_name": "HBoxModel",
            "_view_count": null,
            "_view_module": "@jupyter-widgets/controls",
            "_view_module_version": "1.5.0",
            "_view_name": "HBoxView",
            "box_style": "",
            "children": [
              "IPY_MODEL_39f1660e82b24304ab946c301354b03d",
              "IPY_MODEL_3f22a4ba43374b1a9205e54a71937c63",
              "IPY_MODEL_8ea3184816fd4ae589ff1a32a8b3ca1f"
            ],
            "layout": "IPY_MODEL_4184592ba9324008bfdd7318deb9fa5c"
          }
        },
        "39f1660e82b24304ab946c301354b03d": {
          "model_module": "@jupyter-widgets/controls",
          "model_name": "HTMLModel",
          "model_module_version": "1.5.0",
          "state": {
            "_dom_classes": [],
            "_model_module": "@jupyter-widgets/controls",
            "_model_module_version": "1.5.0",
            "_model_name": "HTMLModel",
            "_view_count": null,
            "_view_module": "@jupyter-widgets/controls",
            "_view_module_version": "1.5.0",
            "_view_name": "HTMLView",
            "description": "",
            "description_tooltip": null,
            "layout": "IPY_MODEL_adc0701bcef540ff9c2fd942b45dbdb1",
            "placeholder": "​",
            "style": "IPY_MODEL_04085c77b05e4ff0af9ef7f1571c4d08",
            "value": "Downloading: 100%"
          }
        },
        "3f22a4ba43374b1a9205e54a71937c63": {
          "model_module": "@jupyter-widgets/controls",
          "model_name": "FloatProgressModel",
          "model_module_version": "1.5.0",
          "state": {
            "_dom_classes": [],
            "_model_module": "@jupyter-widgets/controls",
            "_model_module_version": "1.5.0",
            "_model_name": "FloatProgressModel",
            "_view_count": null,
            "_view_module": "@jupyter-widgets/controls",
            "_view_module_version": "1.5.0",
            "_view_name": "ProgressView",
            "bar_style": "success",
            "description": "",
            "description_tooltip": null,
            "layout": "IPY_MODEL_e732f656c1b741a3aea80e61db8475cc",
            "max": 2464616,
            "min": 0,
            "orientation": "horizontal",
            "style": "IPY_MODEL_2d9530dcaafc4c8285f9790e02e0548f",
            "value": 2464616
          }
        },
        "8ea3184816fd4ae589ff1a32a8b3ca1f": {
          "model_module": "@jupyter-widgets/controls",
          "model_name": "HTMLModel",
          "model_module_version": "1.5.0",
          "state": {
            "_dom_classes": [],
            "_model_module": "@jupyter-widgets/controls",
            "_model_module_version": "1.5.0",
            "_model_name": "HTMLModel",
            "_view_count": null,
            "_view_module": "@jupyter-widgets/controls",
            "_view_module_version": "1.5.0",
            "_view_name": "HTMLView",
            "description": "",
            "description_tooltip": null,
            "layout": "IPY_MODEL_062f266c51f649d9a6fe1e887c1fb761",
            "placeholder": "​",
            "style": "IPY_MODEL_1873d02ba93a429fa7eead2dc7985a6e",
            "value": " 2.46M/2.46M [00:01&lt;00:00, 1.75MB/s]"
          }
        },
        "4184592ba9324008bfdd7318deb9fa5c": {
          "model_module": "@jupyter-widgets/base",
          "model_name": "LayoutModel",
          "model_module_version": "1.2.0",
          "state": {
            "_model_module": "@jupyter-widgets/base",
            "_model_module_version": "1.2.0",
            "_model_name": "LayoutModel",
            "_view_count": null,
            "_view_module": "@jupyter-widgets/base",
            "_view_module_version": "1.2.0",
            "_view_name": "LayoutView",
            "align_content": null,
            "align_items": null,
            "align_self": null,
            "border": null,
            "bottom": null,
            "display": null,
            "flex": null,
            "flex_flow": null,
            "grid_area": null,
            "grid_auto_columns": null,
            "grid_auto_flow": null,
            "grid_auto_rows": null,
            "grid_column": null,
            "grid_gap": null,
            "grid_row": null,
            "grid_template_areas": null,
            "grid_template_columns": null,
            "grid_template_rows": null,
            "height": null,
            "justify_content": null,
            "justify_items": null,
            "left": null,
            "margin": null,
            "max_height": null,
            "max_width": null,
            "min_height": null,
            "min_width": null,
            "object_fit": null,
            "object_position": null,
            "order": null,
            "overflow": null,
            "overflow_x": null,
            "overflow_y": null,
            "padding": null,
            "right": null,
            "top": null,
            "visibility": null,
            "width": null
          }
        },
        "adc0701bcef540ff9c2fd942b45dbdb1": {
          "model_module": "@jupyter-widgets/base",
          "model_name": "LayoutModel",
          "model_module_version": "1.2.0",
          "state": {
            "_model_module": "@jupyter-widgets/base",
            "_model_module_version": "1.2.0",
            "_model_name": "LayoutModel",
            "_view_count": null,
            "_view_module": "@jupyter-widgets/base",
            "_view_module_version": "1.2.0",
            "_view_name": "LayoutView",
            "align_content": null,
            "align_items": null,
            "align_self": null,
            "border": null,
            "bottom": null,
            "display": null,
            "flex": null,
            "flex_flow": null,
            "grid_area": null,
            "grid_auto_columns": null,
            "grid_auto_flow": null,
            "grid_auto_rows": null,
            "grid_column": null,
            "grid_gap": null,
            "grid_row": null,
            "grid_template_areas": null,
            "grid_template_columns": null,
            "grid_template_rows": null,
            "height": null,
            "justify_content": null,
            "justify_items": null,
            "left": null,
            "margin": null,
            "max_height": null,
            "max_width": null,
            "min_height": null,
            "min_width": null,
            "object_fit": null,
            "object_position": null,
            "order": null,
            "overflow": null,
            "overflow_x": null,
            "overflow_y": null,
            "padding": null,
            "right": null,
            "top": null,
            "visibility": null,
            "width": null
          }
        },
        "04085c77b05e4ff0af9ef7f1571c4d08": {
          "model_module": "@jupyter-widgets/controls",
          "model_name": "DescriptionStyleModel",
          "model_module_version": "1.5.0",
          "state": {
            "_model_module": "@jupyter-widgets/controls",
            "_model_module_version": "1.5.0",
            "_model_name": "DescriptionStyleModel",
            "_view_count": null,
            "_view_module": "@jupyter-widgets/base",
            "_view_module_version": "1.2.0",
            "_view_name": "StyleView",
            "description_width": ""
          }
        },
        "e732f656c1b741a3aea80e61db8475cc": {
          "model_module": "@jupyter-widgets/base",
          "model_name": "LayoutModel",
          "model_module_version": "1.2.0",
          "state": {
            "_model_module": "@jupyter-widgets/base",
            "_model_module_version": "1.2.0",
            "_model_name": "LayoutModel",
            "_view_count": null,
            "_view_module": "@jupyter-widgets/base",
            "_view_module_version": "1.2.0",
            "_view_name": "LayoutView",
            "align_content": null,
            "align_items": null,
            "align_self": null,
            "border": null,
            "bottom": null,
            "display": null,
            "flex": null,
            "flex_flow": null,
            "grid_area": null,
            "grid_auto_columns": null,
            "grid_auto_flow": null,
            "grid_auto_rows": null,
            "grid_column": null,
            "grid_gap": null,
            "grid_row": null,
            "grid_template_areas": null,
            "grid_template_columns": null,
            "grid_template_rows": null,
            "height": null,
            "justify_content": null,
            "justify_items": null,
            "left": null,
            "margin": null,
            "max_height": null,
            "max_width": null,
            "min_height": null,
            "min_width": null,
            "object_fit": null,
            "object_position": null,
            "order": null,
            "overflow": null,
            "overflow_x": null,
            "overflow_y": null,
            "padding": null,
            "right": null,
            "top": null,
            "visibility": null,
            "width": null
          }
        },
        "2d9530dcaafc4c8285f9790e02e0548f": {
          "model_module": "@jupyter-widgets/controls",
          "model_name": "ProgressStyleModel",
          "model_module_version": "1.5.0",
          "state": {
            "_model_module": "@jupyter-widgets/controls",
            "_model_module_version": "1.5.0",
            "_model_name": "ProgressStyleModel",
            "_view_count": null,
            "_view_module": "@jupyter-widgets/base",
            "_view_module_version": "1.2.0",
            "_view_name": "StyleView",
            "bar_color": null,
            "description_width": ""
          }
        },
        "062f266c51f649d9a6fe1e887c1fb761": {
          "model_module": "@jupyter-widgets/base",
          "model_name": "LayoutModel",
          "model_module_version": "1.2.0",
          "state": {
            "_model_module": "@jupyter-widgets/base",
            "_model_module_version": "1.2.0",
            "_model_name": "LayoutModel",
            "_view_count": null,
            "_view_module": "@jupyter-widgets/base",
            "_view_module_version": "1.2.0",
            "_view_name": "LayoutView",
            "align_content": null,
            "align_items": null,
            "align_self": null,
            "border": null,
            "bottom": null,
            "display": null,
            "flex": null,
            "flex_flow": null,
            "grid_area": null,
            "grid_auto_columns": null,
            "grid_auto_flow": null,
            "grid_auto_rows": null,
            "grid_column": null,
            "grid_gap": null,
            "grid_row": null,
            "grid_template_areas": null,
            "grid_template_columns": null,
            "grid_template_rows": null,
            "height": null,
            "justify_content": null,
            "justify_items": null,
            "left": null,
            "margin": null,
            "max_height": null,
            "max_width": null,
            "min_height": null,
            "min_width": null,
            "object_fit": null,
            "object_position": null,
            "order": null,
            "overflow": null,
            "overflow_x": null,
            "overflow_y": null,
            "padding": null,
            "right": null,
            "top": null,
            "visibility": null,
            "width": null
          }
        },
        "1873d02ba93a429fa7eead2dc7985a6e": {
          "model_module": "@jupyter-widgets/controls",
          "model_name": "DescriptionStyleModel",
          "model_module_version": "1.5.0",
          "state": {
            "_model_module": "@jupyter-widgets/controls",
            "_model_module_version": "1.5.0",
            "_model_name": "DescriptionStyleModel",
            "_view_count": null,
            "_view_module": "@jupyter-widgets/base",
            "_view_module_version": "1.2.0",
            "_view_name": "StyleView",
            "description_width": ""
          }
        },
        "81adf55b168f4d35ac6784e16f961f4c": {
          "model_module": "@jupyter-widgets/controls",
          "model_name": "HBoxModel",
          "model_module_version": "1.5.0",
          "state": {
            "_dom_classes": [],
            "_model_module": "@jupyter-widgets/controls",
            "_model_module_version": "1.5.0",
            "_model_name": "HBoxModel",
            "_view_count": null,
            "_view_module": "@jupyter-widgets/controls",
            "_view_module_version": "1.5.0",
            "_view_name": "HBoxView",
            "box_style": "",
            "children": [
              "IPY_MODEL_d24fe886c365476199182df8a41f341e",
              "IPY_MODEL_511bea9ac3d94970afc60971d109cab2",
              "IPY_MODEL_700170e5107340b3b2373c6b79d6afe2"
            ],
            "layout": "IPY_MODEL_dcfa29a427e24f609cf4d4ba62a87b82"
          }
        },
        "d24fe886c365476199182df8a41f341e": {
          "model_module": "@jupyter-widgets/controls",
          "model_name": "HTMLModel",
          "model_module_version": "1.5.0",
          "state": {
            "_dom_classes": [],
            "_model_module": "@jupyter-widgets/controls",
            "_model_module_version": "1.5.0",
            "_model_name": "HTMLModel",
            "_view_count": null,
            "_view_module": "@jupyter-widgets/controls",
            "_view_module_version": "1.5.0",
            "_view_name": "HTMLView",
            "description": "",
            "description_tooltip": null,
            "layout": "IPY_MODEL_2277598ce4ad4be69dcb0415f0717527",
            "placeholder": "​",
            "style": "IPY_MODEL_47445aaeaf87452c8e4d4195bf62d348",
            "value": "100%"
          }
        },
        "511bea9ac3d94970afc60971d109cab2": {
          "model_module": "@jupyter-widgets/controls",
          "model_name": "FloatProgressModel",
          "model_module_version": "1.5.0",
          "state": {
            "_dom_classes": [],
            "_model_module": "@jupyter-widgets/controls",
            "_model_module_version": "1.5.0",
            "_model_name": "FloatProgressModel",
            "_view_count": null,
            "_view_module": "@jupyter-widgets/controls",
            "_view_module_version": "1.5.0",
            "_view_name": "ProgressView",
            "bar_style": "success",
            "description": "",
            "description_tooltip": null,
            "layout": "IPY_MODEL_6e687dfd82cd4ec8bac27e5b38154bae",
            "max": 37,
            "min": 0,
            "orientation": "horizontal",
            "style": "IPY_MODEL_4a4961d2da4147949bfcfa877778a7e7",
            "value": 37
          }
        },
        "700170e5107340b3b2373c6b79d6afe2": {
          "model_module": "@jupyter-widgets/controls",
          "model_name": "HTMLModel",
          "model_module_version": "1.5.0",
          "state": {
            "_dom_classes": [],
            "_model_module": "@jupyter-widgets/controls",
            "_model_module_version": "1.5.0",
            "_model_name": "HTMLModel",
            "_view_count": null,
            "_view_module": "@jupyter-widgets/controls",
            "_view_module_version": "1.5.0",
            "_view_name": "HTMLView",
            "description": "",
            "description_tooltip": null,
            "layout": "IPY_MODEL_75066036e5d8458bba4c333d85f82a00",
            "placeholder": "​",
            "style": "IPY_MODEL_3d34596f94d7441fb1e818d2ebf08a7f",
            "value": " 37/37 [00:01&lt;00:00, 21.11ba/s]"
          }
        },
        "dcfa29a427e24f609cf4d4ba62a87b82": {
          "model_module": "@jupyter-widgets/base",
          "model_name": "LayoutModel",
          "model_module_version": "1.2.0",
          "state": {
            "_model_module": "@jupyter-widgets/base",
            "_model_module_version": "1.2.0",
            "_model_name": "LayoutModel",
            "_view_count": null,
            "_view_module": "@jupyter-widgets/base",
            "_view_module_version": "1.2.0",
            "_view_name": "LayoutView",
            "align_content": null,
            "align_items": null,
            "align_self": null,
            "border": null,
            "bottom": null,
            "display": null,
            "flex": null,
            "flex_flow": null,
            "grid_area": null,
            "grid_auto_columns": null,
            "grid_auto_flow": null,
            "grid_auto_rows": null,
            "grid_column": null,
            "grid_gap": null,
            "grid_row": null,
            "grid_template_areas": null,
            "grid_template_columns": null,
            "grid_template_rows": null,
            "height": null,
            "justify_content": null,
            "justify_items": null,
            "left": null,
            "margin": null,
            "max_height": null,
            "max_width": null,
            "min_height": null,
            "min_width": null,
            "object_fit": null,
            "object_position": null,
            "order": null,
            "overflow": null,
            "overflow_x": null,
            "overflow_y": null,
            "padding": null,
            "right": null,
            "top": null,
            "visibility": null,
            "width": null
          }
        },
        "2277598ce4ad4be69dcb0415f0717527": {
          "model_module": "@jupyter-widgets/base",
          "model_name": "LayoutModel",
          "model_module_version": "1.2.0",
          "state": {
            "_model_module": "@jupyter-widgets/base",
            "_model_module_version": "1.2.0",
            "_model_name": "LayoutModel",
            "_view_count": null,
            "_view_module": "@jupyter-widgets/base",
            "_view_module_version": "1.2.0",
            "_view_name": "LayoutView",
            "align_content": null,
            "align_items": null,
            "align_self": null,
            "border": null,
            "bottom": null,
            "display": null,
            "flex": null,
            "flex_flow": null,
            "grid_area": null,
            "grid_auto_columns": null,
            "grid_auto_flow": null,
            "grid_auto_rows": null,
            "grid_column": null,
            "grid_gap": null,
            "grid_row": null,
            "grid_template_areas": null,
            "grid_template_columns": null,
            "grid_template_rows": null,
            "height": null,
            "justify_content": null,
            "justify_items": null,
            "left": null,
            "margin": null,
            "max_height": null,
            "max_width": null,
            "min_height": null,
            "min_width": null,
            "object_fit": null,
            "object_position": null,
            "order": null,
            "overflow": null,
            "overflow_x": null,
            "overflow_y": null,
            "padding": null,
            "right": null,
            "top": null,
            "visibility": null,
            "width": null
          }
        },
        "47445aaeaf87452c8e4d4195bf62d348": {
          "model_module": "@jupyter-widgets/controls",
          "model_name": "DescriptionStyleModel",
          "model_module_version": "1.5.0",
          "state": {
            "_model_module": "@jupyter-widgets/controls",
            "_model_module_version": "1.5.0",
            "_model_name": "DescriptionStyleModel",
            "_view_count": null,
            "_view_module": "@jupyter-widgets/base",
            "_view_module_version": "1.2.0",
            "_view_name": "StyleView",
            "description_width": ""
          }
        },
        "6e687dfd82cd4ec8bac27e5b38154bae": {
          "model_module": "@jupyter-widgets/base",
          "model_name": "LayoutModel",
          "model_module_version": "1.2.0",
          "state": {
            "_model_module": "@jupyter-widgets/base",
            "_model_module_version": "1.2.0",
            "_model_name": "LayoutModel",
            "_view_count": null,
            "_view_module": "@jupyter-widgets/base",
            "_view_module_version": "1.2.0",
            "_view_name": "LayoutView",
            "align_content": null,
            "align_items": null,
            "align_self": null,
            "border": null,
            "bottom": null,
            "display": null,
            "flex": null,
            "flex_flow": null,
            "grid_area": null,
            "grid_auto_columns": null,
            "grid_auto_flow": null,
            "grid_auto_rows": null,
            "grid_column": null,
            "grid_gap": null,
            "grid_row": null,
            "grid_template_areas": null,
            "grid_template_columns": null,
            "grid_template_rows": null,
            "height": null,
            "justify_content": null,
            "justify_items": null,
            "left": null,
            "margin": null,
            "max_height": null,
            "max_width": null,
            "min_height": null,
            "min_width": null,
            "object_fit": null,
            "object_position": null,
            "order": null,
            "overflow": null,
            "overflow_x": null,
            "overflow_y": null,
            "padding": null,
            "right": null,
            "top": null,
            "visibility": null,
            "width": null
          }
        },
        "4a4961d2da4147949bfcfa877778a7e7": {
          "model_module": "@jupyter-widgets/controls",
          "model_name": "ProgressStyleModel",
          "model_module_version": "1.5.0",
          "state": {
            "_model_module": "@jupyter-widgets/controls",
            "_model_module_version": "1.5.0",
            "_model_name": "ProgressStyleModel",
            "_view_count": null,
            "_view_module": "@jupyter-widgets/base",
            "_view_module_version": "1.2.0",
            "_view_name": "StyleView",
            "bar_color": null,
            "description_width": ""
          }
        },
        "75066036e5d8458bba4c333d85f82a00": {
          "model_module": "@jupyter-widgets/base",
          "model_name": "LayoutModel",
          "model_module_version": "1.2.0",
          "state": {
            "_model_module": "@jupyter-widgets/base",
            "_model_module_version": "1.2.0",
            "_model_name": "LayoutModel",
            "_view_count": null,
            "_view_module": "@jupyter-widgets/base",
            "_view_module_version": "1.2.0",
            "_view_name": "LayoutView",
            "align_content": null,
            "align_items": null,
            "align_self": null,
            "border": null,
            "bottom": null,
            "display": null,
            "flex": null,
            "flex_flow": null,
            "grid_area": null,
            "grid_auto_columns": null,
            "grid_auto_flow": null,
            "grid_auto_rows": null,
            "grid_column": null,
            "grid_gap": null,
            "grid_row": null,
            "grid_template_areas": null,
            "grid_template_columns": null,
            "grid_template_rows": null,
            "height": null,
            "justify_content": null,
            "justify_items": null,
            "left": null,
            "margin": null,
            "max_height": null,
            "max_width": null,
            "min_height": null,
            "min_width": null,
            "object_fit": null,
            "object_position": null,
            "order": null,
            "overflow": null,
            "overflow_x": null,
            "overflow_y": null,
            "padding": null,
            "right": null,
            "top": null,
            "visibility": null,
            "width": null
          }
        },
        "3d34596f94d7441fb1e818d2ebf08a7f": {
          "model_module": "@jupyter-widgets/controls",
          "model_name": "DescriptionStyleModel",
          "model_module_version": "1.5.0",
          "state": {
            "_model_module": "@jupyter-widgets/controls",
            "_model_module_version": "1.5.0",
            "_model_name": "DescriptionStyleModel",
            "_view_count": null,
            "_view_module": "@jupyter-widgets/base",
            "_view_module_version": "1.2.0",
            "_view_name": "StyleView",
            "description_width": ""
          }
        },
        "5b11249949c0493695c160ddf88e85df": {
          "model_module": "@jupyter-widgets/controls",
          "model_name": "HBoxModel",
          "model_module_version": "1.5.0",
          "state": {
            "_dom_classes": [],
            "_model_module": "@jupyter-widgets/controls",
            "_model_module_version": "1.5.0",
            "_model_name": "HBoxModel",
            "_view_count": null,
            "_view_module": "@jupyter-widgets/controls",
            "_view_module_version": "1.5.0",
            "_view_name": "HBoxView",
            "box_style": "",
            "children": [
              "IPY_MODEL_8e924c2026fe4f418b741869fcc9e9c9",
              "IPY_MODEL_f4e2c17f5aae455db3f30712061f9d6f",
              "IPY_MODEL_8ebc419002fa4f69be3b5fd879bf19cd"
            ],
            "layout": "IPY_MODEL_b819999a45514ec7bcc471f0c4c38ce7"
          }
        },
        "8e924c2026fe4f418b741869fcc9e9c9": {
          "model_module": "@jupyter-widgets/controls",
          "model_name": "HTMLModel",
          "model_module_version": "1.5.0",
          "state": {
            "_dom_classes": [],
            "_model_module": "@jupyter-widgets/controls",
            "_model_module_version": "1.5.0",
            "_model_name": "HTMLModel",
            "_view_count": null,
            "_view_module": "@jupyter-widgets/controls",
            "_view_module_version": "1.5.0",
            "_view_name": "HTMLView",
            "description": "",
            "description_tooltip": null,
            "layout": "IPY_MODEL_dedef43df6d74189b3d8b68c4a5b454d",
            "placeholder": "​",
            "style": "IPY_MODEL_5096fbcfaafb4cedb15a2ff161adb92b",
            "value": "100%"
          }
        },
        "f4e2c17f5aae455db3f30712061f9d6f": {
          "model_module": "@jupyter-widgets/controls",
          "model_name": "FloatProgressModel",
          "model_module_version": "1.5.0",
          "state": {
            "_dom_classes": [],
            "_model_module": "@jupyter-widgets/controls",
            "_model_module_version": "1.5.0",
            "_model_name": "FloatProgressModel",
            "_view_count": null,
            "_view_module": "@jupyter-widgets/controls",
            "_view_module_version": "1.5.0",
            "_view_name": "ProgressView",
            "bar_style": "success",
            "description": "",
            "description_tooltip": null,
            "layout": "IPY_MODEL_2fad4b1225684b4f8990b5ef681cdf0b",
            "max": 1,
            "min": 0,
            "orientation": "horizontal",
            "style": "IPY_MODEL_becbbcb1b59c492a9ce7bd201893cc71",
            "value": 1
          }
        },
        "8ebc419002fa4f69be3b5fd879bf19cd": {
          "model_module": "@jupyter-widgets/controls",
          "model_name": "HTMLModel",
          "model_module_version": "1.5.0",
          "state": {
            "_dom_classes": [],
            "_model_module": "@jupyter-widgets/controls",
            "_model_module_version": "1.5.0",
            "_model_name": "HTMLModel",
            "_view_count": null,
            "_view_module": "@jupyter-widgets/controls",
            "_view_module_version": "1.5.0",
            "_view_name": "HTMLView",
            "description": "",
            "description_tooltip": null,
            "layout": "IPY_MODEL_ac87018dbe0244ed9763f3edb7b64d51",
            "placeholder": "​",
            "style": "IPY_MODEL_3a54d80988bd410da9f1d55dd78a3513",
            "value": " 1/1 [00:00&lt;00:00, 27.89ba/s]"
          }
        },
        "b819999a45514ec7bcc471f0c4c38ce7": {
          "model_module": "@jupyter-widgets/base",
          "model_name": "LayoutModel",
          "model_module_version": "1.2.0",
          "state": {
            "_model_module": "@jupyter-widgets/base",
            "_model_module_version": "1.2.0",
            "_model_name": "LayoutModel",
            "_view_count": null,
            "_view_module": "@jupyter-widgets/base",
            "_view_module_version": "1.2.0",
            "_view_name": "LayoutView",
            "align_content": null,
            "align_items": null,
            "align_self": null,
            "border": null,
            "bottom": null,
            "display": null,
            "flex": null,
            "flex_flow": null,
            "grid_area": null,
            "grid_auto_columns": null,
            "grid_auto_flow": null,
            "grid_auto_rows": null,
            "grid_column": null,
            "grid_gap": null,
            "grid_row": null,
            "grid_template_areas": null,
            "grid_template_columns": null,
            "grid_template_rows": null,
            "height": null,
            "justify_content": null,
            "justify_items": null,
            "left": null,
            "margin": null,
            "max_height": null,
            "max_width": null,
            "min_height": null,
            "min_width": null,
            "object_fit": null,
            "object_position": null,
            "order": null,
            "overflow": null,
            "overflow_x": null,
            "overflow_y": null,
            "padding": null,
            "right": null,
            "top": null,
            "visibility": null,
            "width": null
          }
        },
        "dedef43df6d74189b3d8b68c4a5b454d": {
          "model_module": "@jupyter-widgets/base",
          "model_name": "LayoutModel",
          "model_module_version": "1.2.0",
          "state": {
            "_model_module": "@jupyter-widgets/base",
            "_model_module_version": "1.2.0",
            "_model_name": "LayoutModel",
            "_view_count": null,
            "_view_module": "@jupyter-widgets/base",
            "_view_module_version": "1.2.0",
            "_view_name": "LayoutView",
            "align_content": null,
            "align_items": null,
            "align_self": null,
            "border": null,
            "bottom": null,
            "display": null,
            "flex": null,
            "flex_flow": null,
            "grid_area": null,
            "grid_auto_columns": null,
            "grid_auto_flow": null,
            "grid_auto_rows": null,
            "grid_column": null,
            "grid_gap": null,
            "grid_row": null,
            "grid_template_areas": null,
            "grid_template_columns": null,
            "grid_template_rows": null,
            "height": null,
            "justify_content": null,
            "justify_items": null,
            "left": null,
            "margin": null,
            "max_height": null,
            "max_width": null,
            "min_height": null,
            "min_width": null,
            "object_fit": null,
            "object_position": null,
            "order": null,
            "overflow": null,
            "overflow_x": null,
            "overflow_y": null,
            "padding": null,
            "right": null,
            "top": null,
            "visibility": null,
            "width": null
          }
        },
        "5096fbcfaafb4cedb15a2ff161adb92b": {
          "model_module": "@jupyter-widgets/controls",
          "model_name": "DescriptionStyleModel",
          "model_module_version": "1.5.0",
          "state": {
            "_model_module": "@jupyter-widgets/controls",
            "_model_module_version": "1.5.0",
            "_model_name": "DescriptionStyleModel",
            "_view_count": null,
            "_view_module": "@jupyter-widgets/base",
            "_view_module_version": "1.2.0",
            "_view_name": "StyleView",
            "description_width": ""
          }
        },
        "2fad4b1225684b4f8990b5ef681cdf0b": {
          "model_module": "@jupyter-widgets/base",
          "model_name": "LayoutModel",
          "model_module_version": "1.2.0",
          "state": {
            "_model_module": "@jupyter-widgets/base",
            "_model_module_version": "1.2.0",
            "_model_name": "LayoutModel",
            "_view_count": null,
            "_view_module": "@jupyter-widgets/base",
            "_view_module_version": "1.2.0",
            "_view_name": "LayoutView",
            "align_content": null,
            "align_items": null,
            "align_self": null,
            "border": null,
            "bottom": null,
            "display": null,
            "flex": null,
            "flex_flow": null,
            "grid_area": null,
            "grid_auto_columns": null,
            "grid_auto_flow": null,
            "grid_auto_rows": null,
            "grid_column": null,
            "grid_gap": null,
            "grid_row": null,
            "grid_template_areas": null,
            "grid_template_columns": null,
            "grid_template_rows": null,
            "height": null,
            "justify_content": null,
            "justify_items": null,
            "left": null,
            "margin": null,
            "max_height": null,
            "max_width": null,
            "min_height": null,
            "min_width": null,
            "object_fit": null,
            "object_position": null,
            "order": null,
            "overflow": null,
            "overflow_x": null,
            "overflow_y": null,
            "padding": null,
            "right": null,
            "top": null,
            "visibility": null,
            "width": null
          }
        },
        "becbbcb1b59c492a9ce7bd201893cc71": {
          "model_module": "@jupyter-widgets/controls",
          "model_name": "ProgressStyleModel",
          "model_module_version": "1.5.0",
          "state": {
            "_model_module": "@jupyter-widgets/controls",
            "_model_module_version": "1.5.0",
            "_model_name": "ProgressStyleModel",
            "_view_count": null,
            "_view_module": "@jupyter-widgets/base",
            "_view_module_version": "1.2.0",
            "_view_name": "StyleView",
            "bar_color": null,
            "description_width": ""
          }
        },
        "ac87018dbe0244ed9763f3edb7b64d51": {
          "model_module": "@jupyter-widgets/base",
          "model_name": "LayoutModel",
          "model_module_version": "1.2.0",
          "state": {
            "_model_module": "@jupyter-widgets/base",
            "_model_module_version": "1.2.0",
            "_model_name": "LayoutModel",
            "_view_count": null,
            "_view_module": "@jupyter-widgets/base",
            "_view_module_version": "1.2.0",
            "_view_name": "LayoutView",
            "align_content": null,
            "align_items": null,
            "align_self": null,
            "border": null,
            "bottom": null,
            "display": null,
            "flex": null,
            "flex_flow": null,
            "grid_area": null,
            "grid_auto_columns": null,
            "grid_auto_flow": null,
            "grid_auto_rows": null,
            "grid_column": null,
            "grid_gap": null,
            "grid_row": null,
            "grid_template_areas": null,
            "grid_template_columns": null,
            "grid_template_rows": null,
            "height": null,
            "justify_content": null,
            "justify_items": null,
            "left": null,
            "margin": null,
            "max_height": null,
            "max_width": null,
            "min_height": null,
            "min_width": null,
            "object_fit": null,
            "object_position": null,
            "order": null,
            "overflow": null,
            "overflow_x": null,
            "overflow_y": null,
            "padding": null,
            "right": null,
            "top": null,
            "visibility": null,
            "width": null
          }
        },
        "3a54d80988bd410da9f1d55dd78a3513": {
          "model_module": "@jupyter-widgets/controls",
          "model_name": "DescriptionStyleModel",
          "model_module_version": "1.5.0",
          "state": {
            "_model_module": "@jupyter-widgets/controls",
            "_model_module_version": "1.5.0",
            "_model_name": "DescriptionStyleModel",
            "_view_count": null,
            "_view_module": "@jupyter-widgets/base",
            "_view_module_version": "1.2.0",
            "_view_name": "StyleView",
            "description_width": ""
          }
        },
        "5fa4a30b06234574b710865bb21da7e9": {
          "model_module": "@jupyter-widgets/controls",
          "model_name": "HBoxModel",
          "model_module_version": "1.5.0",
          "state": {
            "_dom_classes": [],
            "_model_module": "@jupyter-widgets/controls",
            "_model_module_version": "1.5.0",
            "_model_name": "HBoxModel",
            "_view_count": null,
            "_view_module": "@jupyter-widgets/controls",
            "_view_module_version": "1.5.0",
            "_view_name": "HBoxView",
            "box_style": "",
            "children": [
              "IPY_MODEL_d2cf3627a76141faac26d0423be412e8",
              "IPY_MODEL_e4ddd420a7cf4ab0a3fcab09a82b969c",
              "IPY_MODEL_d0116c9e71154520a693ae7d7efe89dc"
            ],
            "layout": "IPY_MODEL_b6c81f5d0f3d4b65a8eb9eefa3bf27a4"
          }
        },
        "d2cf3627a76141faac26d0423be412e8": {
          "model_module": "@jupyter-widgets/controls",
          "model_name": "HTMLModel",
          "model_module_version": "1.5.0",
          "state": {
            "_dom_classes": [],
            "_model_module": "@jupyter-widgets/controls",
            "_model_module_version": "1.5.0",
            "_model_name": "HTMLModel",
            "_view_count": null,
            "_view_module": "@jupyter-widgets/controls",
            "_view_module_version": "1.5.0",
            "_view_name": "HTMLView",
            "description": "",
            "description_tooltip": null,
            "layout": "IPY_MODEL_a46cae50d6ea460882922b5fb30a0fc0",
            "placeholder": "​",
            "style": "IPY_MODEL_47a82eef97dd490397bc8dedb3fd48e0",
            "value": "Creating CSV from Arrow format: 100%"
          }
        },
        "e4ddd420a7cf4ab0a3fcab09a82b969c": {
          "model_module": "@jupyter-widgets/controls",
          "model_name": "FloatProgressModel",
          "model_module_version": "1.5.0",
          "state": {
            "_dom_classes": [],
            "_model_module": "@jupyter-widgets/controls",
            "_model_module_version": "1.5.0",
            "_model_name": "FloatProgressModel",
            "_view_count": null,
            "_view_module": "@jupyter-widgets/controls",
            "_view_module_version": "1.5.0",
            "_view_name": "ProgressView",
            "bar_style": "success",
            "description": "",
            "description_tooltip": null,
            "layout": "IPY_MODEL_3d4b73d6a0c845e28e30e62576fc7810",
            "max": 1,
            "min": 0,
            "orientation": "horizontal",
            "style": "IPY_MODEL_115d59fe9ee64595ab75df383675b449",
            "value": 1
          }
        },
        "d0116c9e71154520a693ae7d7efe89dc": {
          "model_module": "@jupyter-widgets/controls",
          "model_name": "HTMLModel",
          "model_module_version": "1.5.0",
          "state": {
            "_dom_classes": [],
            "_model_module": "@jupyter-widgets/controls",
            "_model_module_version": "1.5.0",
            "_model_name": "HTMLModel",
            "_view_count": null,
            "_view_module": "@jupyter-widgets/controls",
            "_view_module_version": "1.5.0",
            "_view_name": "HTMLView",
            "description": "",
            "description_tooltip": null,
            "layout": "IPY_MODEL_2e578ed6181241af99a1156ad90e19d5",
            "placeholder": "​",
            "style": "IPY_MODEL_fd523fd4fd0646d29d6fd7e27f2a763a",
            "value": " 1/1 [00:00&lt;00:00, 22.43ba/s]"
          }
        },
        "b6c81f5d0f3d4b65a8eb9eefa3bf27a4": {
          "model_module": "@jupyter-widgets/base",
          "model_name": "LayoutModel",
          "model_module_version": "1.2.0",
          "state": {
            "_model_module": "@jupyter-widgets/base",
            "_model_module_version": "1.2.0",
            "_model_name": "LayoutModel",
            "_view_count": null,
            "_view_module": "@jupyter-widgets/base",
            "_view_module_version": "1.2.0",
            "_view_name": "LayoutView",
            "align_content": null,
            "align_items": null,
            "align_self": null,
            "border": null,
            "bottom": null,
            "display": null,
            "flex": null,
            "flex_flow": null,
            "grid_area": null,
            "grid_auto_columns": null,
            "grid_auto_flow": null,
            "grid_auto_rows": null,
            "grid_column": null,
            "grid_gap": null,
            "grid_row": null,
            "grid_template_areas": null,
            "grid_template_columns": null,
            "grid_template_rows": null,
            "height": null,
            "justify_content": null,
            "justify_items": null,
            "left": null,
            "margin": null,
            "max_height": null,
            "max_width": null,
            "min_height": null,
            "min_width": null,
            "object_fit": null,
            "object_position": null,
            "order": null,
            "overflow": null,
            "overflow_x": null,
            "overflow_y": null,
            "padding": null,
            "right": null,
            "top": null,
            "visibility": null,
            "width": null
          }
        },
        "a46cae50d6ea460882922b5fb30a0fc0": {
          "model_module": "@jupyter-widgets/base",
          "model_name": "LayoutModel",
          "model_module_version": "1.2.0",
          "state": {
            "_model_module": "@jupyter-widgets/base",
            "_model_module_version": "1.2.0",
            "_model_name": "LayoutModel",
            "_view_count": null,
            "_view_module": "@jupyter-widgets/base",
            "_view_module_version": "1.2.0",
            "_view_name": "LayoutView",
            "align_content": null,
            "align_items": null,
            "align_self": null,
            "border": null,
            "bottom": null,
            "display": null,
            "flex": null,
            "flex_flow": null,
            "grid_area": null,
            "grid_auto_columns": null,
            "grid_auto_flow": null,
            "grid_auto_rows": null,
            "grid_column": null,
            "grid_gap": null,
            "grid_row": null,
            "grid_template_areas": null,
            "grid_template_columns": null,
            "grid_template_rows": null,
            "height": null,
            "justify_content": null,
            "justify_items": null,
            "left": null,
            "margin": null,
            "max_height": null,
            "max_width": null,
            "min_height": null,
            "min_width": null,
            "object_fit": null,
            "object_position": null,
            "order": null,
            "overflow": null,
            "overflow_x": null,
            "overflow_y": null,
            "padding": null,
            "right": null,
            "top": null,
            "visibility": null,
            "width": null
          }
        },
        "47a82eef97dd490397bc8dedb3fd48e0": {
          "model_module": "@jupyter-widgets/controls",
          "model_name": "DescriptionStyleModel",
          "model_module_version": "1.5.0",
          "state": {
            "_model_module": "@jupyter-widgets/controls",
            "_model_module_version": "1.5.0",
            "_model_name": "DescriptionStyleModel",
            "_view_count": null,
            "_view_module": "@jupyter-widgets/base",
            "_view_module_version": "1.2.0",
            "_view_name": "StyleView",
            "description_width": ""
          }
        },
        "3d4b73d6a0c845e28e30e62576fc7810": {
          "model_module": "@jupyter-widgets/base",
          "model_name": "LayoutModel",
          "model_module_version": "1.2.0",
          "state": {
            "_model_module": "@jupyter-widgets/base",
            "_model_module_version": "1.2.0",
            "_model_name": "LayoutModel",
            "_view_count": null,
            "_view_module": "@jupyter-widgets/base",
            "_view_module_version": "1.2.0",
            "_view_name": "LayoutView",
            "align_content": null,
            "align_items": null,
            "align_self": null,
            "border": null,
            "bottom": null,
            "display": null,
            "flex": null,
            "flex_flow": null,
            "grid_area": null,
            "grid_auto_columns": null,
            "grid_auto_flow": null,
            "grid_auto_rows": null,
            "grid_column": null,
            "grid_gap": null,
            "grid_row": null,
            "grid_template_areas": null,
            "grid_template_columns": null,
            "grid_template_rows": null,
            "height": null,
            "justify_content": null,
            "justify_items": null,
            "left": null,
            "margin": null,
            "max_height": null,
            "max_width": null,
            "min_height": null,
            "min_width": null,
            "object_fit": null,
            "object_position": null,
            "order": null,
            "overflow": null,
            "overflow_x": null,
            "overflow_y": null,
            "padding": null,
            "right": null,
            "top": null,
            "visibility": null,
            "width": null
          }
        },
        "115d59fe9ee64595ab75df383675b449": {
          "model_module": "@jupyter-widgets/controls",
          "model_name": "ProgressStyleModel",
          "model_module_version": "1.5.0",
          "state": {
            "_model_module": "@jupyter-widgets/controls",
            "_model_module_version": "1.5.0",
            "_model_name": "ProgressStyleModel",
            "_view_count": null,
            "_view_module": "@jupyter-widgets/base",
            "_view_module_version": "1.2.0",
            "_view_name": "StyleView",
            "bar_color": null,
            "description_width": ""
          }
        },
        "2e578ed6181241af99a1156ad90e19d5": {
          "model_module": "@jupyter-widgets/base",
          "model_name": "LayoutModel",
          "model_module_version": "1.2.0",
          "state": {
            "_model_module": "@jupyter-widgets/base",
            "_model_module_version": "1.2.0",
            "_model_name": "LayoutModel",
            "_view_count": null,
            "_view_module": "@jupyter-widgets/base",
            "_view_module_version": "1.2.0",
            "_view_name": "LayoutView",
            "align_content": null,
            "align_items": null,
            "align_self": null,
            "border": null,
            "bottom": null,
            "display": null,
            "flex": null,
            "flex_flow": null,
            "grid_area": null,
            "grid_auto_columns": null,
            "grid_auto_flow": null,
            "grid_auto_rows": null,
            "grid_column": null,
            "grid_gap": null,
            "grid_row": null,
            "grid_template_areas": null,
            "grid_template_columns": null,
            "grid_template_rows": null,
            "height": null,
            "justify_content": null,
            "justify_items": null,
            "left": null,
            "margin": null,
            "max_height": null,
            "max_width": null,
            "min_height": null,
            "min_width": null,
            "object_fit": null,
            "object_position": null,
            "order": null,
            "overflow": null,
            "overflow_x": null,
            "overflow_y": null,
            "padding": null,
            "right": null,
            "top": null,
            "visibility": null,
            "width": null
          }
        },
        "fd523fd4fd0646d29d6fd7e27f2a763a": {
          "model_module": "@jupyter-widgets/controls",
          "model_name": "DescriptionStyleModel",
          "model_module_version": "1.5.0",
          "state": {
            "_model_module": "@jupyter-widgets/controls",
            "_model_module_version": "1.5.0",
            "_model_name": "DescriptionStyleModel",
            "_view_count": null,
            "_view_module": "@jupyter-widgets/base",
            "_view_module_version": "1.2.0",
            "_view_name": "StyleView",
            "description_width": ""
          }
        }
      }
    }
  },
  "cells": [
    {
      "cell_type": "markdown",
      "metadata": {
        "id": "view-in-github",
        "colab_type": "text"
      },
      "source": [
        "<a href=\"https://colab.research.google.com/github/plaban1981/FASTAI_2021/blob/main/Lesson_4_Practical_Deep_Learning_for_Coders_2022.ipynb\" target=\"_parent\"><img src=\"https://colab.research.google.com/assets/colab-badge.svg\" alt=\"Open In Colab\"/></a>"
      ]
    },
    {
      "cell_type": "markdown",
      "source": [
        "## Objective : \n",
        "\n",
        "* Determine if two contexts represent the same thing\n",
        "* For the following text...: \"TEXT1: abatement; TEXT2: eliminating process\" ...chose a category of meaning similarity: \"Different; Similar; Identical\"."
      ],
      "metadata": {
        "id": "QXImU1lZBY9U"
      }
    },
    {
      "cell_type": "markdown",
      "source": [
        "##UlmFit\n",
        "![image.png](data:image/png;base64,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)"
      ],
      "metadata": {
        "id": "kzfLLQC78YUV"
      }
    },
    {
      "cell_type": "markdown",
      "source": [],
      "metadata": {
        "id": "tK7D1JBZ8av6"
      }
    },
    {
      "cell_type": "code",
      "execution_count": 1,
      "metadata": {
        "colab": {
          "base_uri": "https://localhost:8080/"
        },
        "id": "hcY6TMhwAGOo",
        "outputId": "4ef20bd9-d301-4746-9fa0-6a2a9fd2ea25"
      },
      "outputs": [
        {
          "output_type": "stream",
          "name": "stdout",
          "text": [
            "Mounted at /content/drive\n"
          ]
        }
      ],
      "source": [
        "from google.colab import drive\n",
        "drive.mount(\"/content/drive\")"
      ]
    },
    {
      "cell_type": "code",
      "source": [
        "from fastai.vision.all import *"
      ],
      "metadata": {
        "id": "fFMxs2MrC3sO"
      },
      "execution_count": 2,
      "outputs": []
    },
    {
      "cell_type": "code",
      "source": [
        "from pathlib import Path\n",
        "path = Path(\"/content/drive/MyDrive/NLP_Fastai\")\n",
        "path.ls()"
      ],
      "metadata": {
        "colab": {
          "base_uri": "https://localhost:8080/"
        },
        "id": "VdQsgQCeCpsU",
        "outputId": "c635a90e-cf07-4b08-daf3-a065bed56ac1"
      },
      "execution_count": 3,
      "outputs": [
        {
          "output_type": "execute_result",
          "data": {
            "text/plain": [
              "(#2) [Path('/content/drive/MyDrive/NLP_Fastai/train.csv'),Path('/content/drive/MyDrive/NLP_Fastai/test.csv')]"
            ]
          },
          "metadata": {},
          "execution_count": 3
        }
      ]
    },
    {
      "cell_type": "code",
      "source": [
        "!ls {path}"
      ],
      "metadata": {
        "colab": {
          "base_uri": "https://localhost:8080/"
        },
        "id": "W0GENFMeJdWi",
        "outputId": "2515f821-57e5-45b9-d701-c93fade10c1b"
      },
      "execution_count": 4,
      "outputs": [
        {
          "output_type": "stream",
          "name": "stdout",
          "text": [
            "test.csv  train.csv\n"
          ]
        }
      ]
    },
    {
      "cell_type": "markdown",
      "source": [
        "## Import data"
      ],
      "metadata": {
        "id": "Q2mY5EwdDBQC"
      }
    },
    {
      "cell_type": "code",
      "source": [
        "import pandas as pd\n",
        "import numpy as np\n",
        "df = pd.read_csv(path/'train.csv')\n",
        "df.head()"
      ],
      "metadata": {
        "colab": {
          "base_uri": "https://localhost:8080/",
          "height": 206
        },
        "id": "fuf4DyVSDDEk",
        "outputId": "ea5ae65c-ef08-4180-dcc6-00f7064b76d1"
      },
      "execution_count": 5,
      "outputs": [
        {
          "output_type": "execute_result",
          "data": {
            "text/plain": [
              "                 id     anchor                  target context  score\n",
              "0  37d61fd2272659b1  abatement  abatement of pollution     A47   0.50\n",
              "1  7b9652b17b68b7a4  abatement          act of abating     A47   0.75\n",
              "2  36d72442aefd8232  abatement         active catalyst     A47   0.25\n",
              "3  5296b0c19e1ce60e  abatement     eliminating process     A47   0.50\n",
              "4  54c1e3b9184cb5b6  abatement           forest region     A47   0.00"
            ],
            "text/html": [
              "\n",
              "  <div id=\"df-cb6b1419-84cc-441b-a6c6-cc29dafd1656\">\n",
              "    <div class=\"colab-df-container\">\n",
              "      <div>\n",
              "<style scoped>\n",
              "    .dataframe tbody tr th:only-of-type {\n",
              "        vertical-align: middle;\n",
              "    }\n",
              "\n",
              "    .dataframe tbody tr th {\n",
              "        vertical-align: top;\n",
              "    }\n",
              "\n",
              "    .dataframe thead th {\n",
              "        text-align: right;\n",
              "    }\n",
              "</style>\n",
              "<table border=\"1\" class=\"dataframe\">\n",
              "  <thead>\n",
              "    <tr style=\"text-align: right;\">\n",
              "      <th></th>\n",
              "      <th>id</th>\n",
              "      <th>anchor</th>\n",
              "      <th>target</th>\n",
              "      <th>context</th>\n",
              "      <th>score</th>\n",
              "    </tr>\n",
              "  </thead>\n",
              "  <tbody>\n",
              "    <tr>\n",
              "      <th>0</th>\n",
              "      <td>37d61fd2272659b1</td>\n",
              "      <td>abatement</td>\n",
              "      <td>abatement of pollution</td>\n",
              "      <td>A47</td>\n",
              "      <td>0.50</td>\n",
              "    </tr>\n",
              "    <tr>\n",
              "      <th>1</th>\n",
              "      <td>7b9652b17b68b7a4</td>\n",
              "      <td>abatement</td>\n",
              "      <td>act of abating</td>\n",
              "      <td>A47</td>\n",
              "      <td>0.75</td>\n",
              "    </tr>\n",
              "    <tr>\n",
              "      <th>2</th>\n",
              "      <td>36d72442aefd8232</td>\n",
              "      <td>abatement</td>\n",
              "      <td>active catalyst</td>\n",
              "      <td>A47</td>\n",
              "      <td>0.25</td>\n",
              "    </tr>\n",
              "    <tr>\n",
              "      <th>3</th>\n",
              "      <td>5296b0c19e1ce60e</td>\n",
              "      <td>abatement</td>\n",
              "      <td>eliminating process</td>\n",
              "      <td>A47</td>\n",
              "      <td>0.50</td>\n",
              "    </tr>\n",
              "    <tr>\n",
              "      <th>4</th>\n",
              "      <td>54c1e3b9184cb5b6</td>\n",
              "      <td>abatement</td>\n",
              "      <td>forest region</td>\n",
              "      <td>A47</td>\n",
              "      <td>0.00</td>\n",
              "    </tr>\n",
              "  </tbody>\n",
              "</table>\n",
              "</div>\n",
              "      <button class=\"colab-df-convert\" onclick=\"convertToInteractive('df-cb6b1419-84cc-441b-a6c6-cc29dafd1656')\"\n",
              "              title=\"Convert this dataframe to an interactive table.\"\n",
              "              style=\"display:none;\">\n",
              "        \n",
              "  <svg xmlns=\"http://www.w3.org/2000/svg\" height=\"24px\"viewBox=\"0 0 24 24\"\n",
              "       width=\"24px\">\n",
              "    <path d=\"M0 0h24v24H0V0z\" fill=\"none\"/>\n",
              "    <path d=\"M18.56 5.44l.94 2.06.94-2.06 2.06-.94-2.06-.94-.94-2.06-.94 2.06-2.06.94zm-11 1L8.5 8.5l.94-2.06 2.06-.94-2.06-.94L8.5 2.5l-.94 2.06-2.06.94zm10 10l.94 2.06.94-2.06 2.06-.94-2.06-.94-.94-2.06-.94 2.06-2.06.94z\"/><path d=\"M17.41 7.96l-1.37-1.37c-.4-.4-.92-.59-1.43-.59-.52 0-1.04.2-1.43.59L10.3 9.45l-7.72 7.72c-.78.78-.78 2.05 0 2.83L4 21.41c.39.39.9.59 1.41.59.51 0 1.02-.2 1.41-.59l7.78-7.78 2.81-2.81c.8-.78.8-2.07 0-2.86zM5.41 20L4 18.59l7.72-7.72 1.47 1.35L5.41 20z\"/>\n",
              "  </svg>\n",
              "      </button>\n",
              "      \n",
              "  <style>\n",
              "    .colab-df-container {\n",
              "      display:flex;\n",
              "      flex-wrap:wrap;\n",
              "      gap: 12px;\n",
              "    }\n",
              "\n",
              "    .colab-df-convert {\n",
              "      background-color: #E8F0FE;\n",
              "      border: none;\n",
              "      border-radius: 50%;\n",
              "      cursor: pointer;\n",
              "      display: none;\n",
              "      fill: #1967D2;\n",
              "      height: 32px;\n",
              "      padding: 0 0 0 0;\n",
              "      width: 32px;\n",
              "    }\n",
              "\n",
              "    .colab-df-convert:hover {\n",
              "      background-color: #E2EBFA;\n",
              "      box-shadow: 0px 1px 2px rgba(60, 64, 67, 0.3), 0px 1px 3px 1px rgba(60, 64, 67, 0.15);\n",
              "      fill: #174EA6;\n",
              "    }\n",
              "\n",
              "    [theme=dark] .colab-df-convert {\n",
              "      background-color: #3B4455;\n",
              "      fill: #D2E3FC;\n",
              "    }\n",
              "\n",
              "    [theme=dark] .colab-df-convert:hover {\n",
              "      background-color: #434B5C;\n",
              "      box-shadow: 0px 1px 3px 1px rgba(0, 0, 0, 0.15);\n",
              "      filter: drop-shadow(0px 1px 2px rgba(0, 0, 0, 0.3));\n",
              "      fill: #FFFFFF;\n",
              "    }\n",
              "  </style>\n",
              "\n",
              "      <script>\n",
              "        const buttonEl =\n",
              "          document.querySelector('#df-cb6b1419-84cc-441b-a6c6-cc29dafd1656 button.colab-df-convert');\n",
              "        buttonEl.style.display =\n",
              "          google.colab.kernel.accessAllowed ? 'block' : 'none';\n",
              "\n",
              "        async function convertToInteractive(key) {\n",
              "          const element = document.querySelector('#df-cb6b1419-84cc-441b-a6c6-cc29dafd1656');\n",
              "          const dataTable =\n",
              "            await google.colab.kernel.invokeFunction('convertToInteractive',\n",
              "                                                     [key], {});\n",
              "          if (!dataTable) return;\n",
              "\n",
              "          const docLinkHtml = 'Like what you see? Visit the ' +\n",
              "            '<a target=\"_blank\" href=https://colab.research.google.com/notebooks/data_table.ipynb>data table notebook</a>'\n",
              "            + ' to learn more about interactive tables.';\n",
              "          element.innerHTML = '';\n",
              "          dataTable['output_type'] = 'display_data';\n",
              "          await google.colab.output.renderOutput(dataTable, element);\n",
              "          const docLink = document.createElement('div');\n",
              "          docLink.innerHTML = docLinkHtml;\n",
              "          element.appendChild(docLink);\n",
              "        }\n",
              "      </script>\n",
              "    </div>\n",
              "  </div>\n",
              "  "
            ]
          },
          "metadata": {},
          "execution_count": 5
        }
      ]
    },
    {
      "cell_type": "code",
      "source": [
        "df.describe(include='object')"
      ],
      "metadata": {
        "colab": {
          "base_uri": "https://localhost:8080/",
          "height": 175
        },
        "id": "a-8Yt6h2DFn6",
        "outputId": "2a152854-0b85-4ac0-ac6f-22154655dc8f"
      },
      "execution_count": 6,
      "outputs": [
        {
          "output_type": "execute_result",
          "data": {
            "text/plain": [
              "                      id                       anchor       target context\n",
              "count              36473                        36473        36473   36473\n",
              "unique             36473                          733        29340     106\n",
              "top     37d61fd2272659b1  component composite coating  composition     H01\n",
              "freq                   1                          152           24    2186"
            ],
            "text/html": [
              "\n",
              "  <div id=\"df-cf7508d8-ea53-4bef-9274-8bc10a611395\">\n",
              "    <div class=\"colab-df-container\">\n",
              "      <div>\n",
              "<style scoped>\n",
              "    .dataframe tbody tr th:only-of-type {\n",
              "        vertical-align: middle;\n",
              "    }\n",
              "\n",
              "    .dataframe tbody tr th {\n",
              "        vertical-align: top;\n",
              "    }\n",
              "\n",
              "    .dataframe thead th {\n",
              "        text-align: right;\n",
              "    }\n",
              "</style>\n",
              "<table border=\"1\" class=\"dataframe\">\n",
              "  <thead>\n",
              "    <tr style=\"text-align: right;\">\n",
              "      <th></th>\n",
              "      <th>id</th>\n",
              "      <th>anchor</th>\n",
              "      <th>target</th>\n",
              "      <th>context</th>\n",
              "    </tr>\n",
              "  </thead>\n",
              "  <tbody>\n",
              "    <tr>\n",
              "      <th>count</th>\n",
              "      <td>36473</td>\n",
              "      <td>36473</td>\n",
              "      <td>36473</td>\n",
              "      <td>36473</td>\n",
              "    </tr>\n",
              "    <tr>\n",
              "      <th>unique</th>\n",
              "      <td>36473</td>\n",
              "      <td>733</td>\n",
              "      <td>29340</td>\n",
              "      <td>106</td>\n",
              "    </tr>\n",
              "    <tr>\n",
              "      <th>top</th>\n",
              "      <td>37d61fd2272659b1</td>\n",
              "      <td>component composite coating</td>\n",
              "      <td>composition</td>\n",
              "      <td>H01</td>\n",
              "    </tr>\n",
              "    <tr>\n",
              "      <th>freq</th>\n",
              "      <td>1</td>\n",
              "      <td>152</td>\n",
              "      <td>24</td>\n",
              "      <td>2186</td>\n",
              "    </tr>\n",
              "  </tbody>\n",
              "</table>\n",
              "</div>\n",
              "      <button class=\"colab-df-convert\" onclick=\"convertToInteractive('df-cf7508d8-ea53-4bef-9274-8bc10a611395')\"\n",
              "              title=\"Convert this dataframe to an interactive table.\"\n",
              "              style=\"display:none;\">\n",
              "        \n",
              "  <svg xmlns=\"http://www.w3.org/2000/svg\" height=\"24px\"viewBox=\"0 0 24 24\"\n",
              "       width=\"24px\">\n",
              "    <path d=\"M0 0h24v24H0V0z\" fill=\"none\"/>\n",
              "    <path d=\"M18.56 5.44l.94 2.06.94-2.06 2.06-.94-2.06-.94-.94-2.06-.94 2.06-2.06.94zm-11 1L8.5 8.5l.94-2.06 2.06-.94-2.06-.94L8.5 2.5l-.94 2.06-2.06.94zm10 10l.94 2.06.94-2.06 2.06-.94-2.06-.94-.94-2.06-.94 2.06-2.06.94z\"/><path d=\"M17.41 7.96l-1.37-1.37c-.4-.4-.92-.59-1.43-.59-.52 0-1.04.2-1.43.59L10.3 9.45l-7.72 7.72c-.78.78-.78 2.05 0 2.83L4 21.41c.39.39.9.59 1.41.59.51 0 1.02-.2 1.41-.59l7.78-7.78 2.81-2.81c.8-.78.8-2.07 0-2.86zM5.41 20L4 18.59l7.72-7.72 1.47 1.35L5.41 20z\"/>\n",
              "  </svg>\n",
              "      </button>\n",
              "      \n",
              "  <style>\n",
              "    .colab-df-container {\n",
              "      display:flex;\n",
              "      flex-wrap:wrap;\n",
              "      gap: 12px;\n",
              "    }\n",
              "\n",
              "    .colab-df-convert {\n",
              "      background-color: #E8F0FE;\n",
              "      border: none;\n",
              "      border-radius: 50%;\n",
              "      cursor: pointer;\n",
              "      display: none;\n",
              "      fill: #1967D2;\n",
              "      height: 32px;\n",
              "      padding: 0 0 0 0;\n",
              "      width: 32px;\n",
              "    }\n",
              "\n",
              "    .colab-df-convert:hover {\n",
              "      background-color: #E2EBFA;\n",
              "      box-shadow: 0px 1px 2px rgba(60, 64, 67, 0.3), 0px 1px 3px 1px rgba(60, 64, 67, 0.15);\n",
              "      fill: #174EA6;\n",
              "    }\n",
              "\n",
              "    [theme=dark] .colab-df-convert {\n",
              "      background-color: #3B4455;\n",
              "      fill: #D2E3FC;\n",
              "    }\n",
              "\n",
              "    [theme=dark] .colab-df-convert:hover {\n",
              "      background-color: #434B5C;\n",
              "      box-shadow: 0px 1px 3px 1px rgba(0, 0, 0, 0.15);\n",
              "      filter: drop-shadow(0px 1px 2px rgba(0, 0, 0, 0.3));\n",
              "      fill: #FFFFFF;\n",
              "    }\n",
              "  </style>\n",
              "\n",
              "      <script>\n",
              "        const buttonEl =\n",
              "          document.querySelector('#df-cf7508d8-ea53-4bef-9274-8bc10a611395 button.colab-df-convert');\n",
              "        buttonEl.style.display =\n",
              "          google.colab.kernel.accessAllowed ? 'block' : 'none';\n",
              "\n",
              "        async function convertToInteractive(key) {\n",
              "          const element = document.querySelector('#df-cf7508d8-ea53-4bef-9274-8bc10a611395');\n",
              "          const dataTable =\n",
              "            await google.colab.kernel.invokeFunction('convertToInteractive',\n",
              "                                                     [key], {});\n",
              "          if (!dataTable) return;\n",
              "\n",
              "          const docLinkHtml = 'Like what you see? Visit the ' +\n",
              "            '<a target=\"_blank\" href=https://colab.research.google.com/notebooks/data_table.ipynb>data table notebook</a>'\n",
              "            + ' to learn more about interactive tables.';\n",
              "          element.innerHTML = '';\n",
              "          dataTable['output_type'] = 'display_data';\n",
              "          await google.colab.output.renderOutput(dataTable, element);\n",
              "          const docLink = document.createElement('div');\n",
              "          docLink.innerHTML = docLinkHtml;\n",
              "          element.appendChild(docLink);\n",
              "        }\n",
              "      </script>\n",
              "    </div>\n",
              "  </div>\n",
              "  "
            ]
          },
          "metadata": {},
          "execution_count": 6
        }
      ]
    },
    {
      "cell_type": "code",
      "source": [
        "df.shape"
      ],
      "metadata": {
        "colab": {
          "base_uri": "https://localhost:8080/"
        },
        "id": "OqqQdO5WDJqi",
        "outputId": "0ad1cb3f-c12e-4905-c332-0d9c5d52030b"
      },
      "execution_count": 7,
      "outputs": [
        {
          "output_type": "execute_result",
          "data": {
            "text/plain": [
              "(36473, 5)"
            ]
          },
          "metadata": {},
          "execution_count": 7
        }
      ]
    },
    {
      "cell_type": "markdown",
      "source": [
        "* We could represent the input to the model as something like \"TEXT1: abatement; TEXT2: eliminating process\".\n",
        "* We'll need to add the context to this too. In Pandas, we just use + to concatenate, like so:"
      ],
      "metadata": {
        "id": "LZVdK4hUDNI9"
      }
    },
    {
      "cell_type": "code",
      "source": [
        "df['input'] = 'TEXT1: ' + df.context + '; TEXT2: ' + df.target + '; ANC1: ' + df.anchor\n",
        "df.head()"
      ],
      "metadata": {
        "colab": {
          "base_uri": "https://localhost:8080/",
          "height": 206
        },
        "id": "URcA0ktgDK5j",
        "outputId": "2bcca4e9-8893-4ca1-df6c-85174fdbed16"
      },
      "execution_count": 8,
      "outputs": [
        {
          "output_type": "execute_result",
          "data": {
            "text/plain": [
              "                 id     anchor                  target context  score  \\\n",
              "0  37d61fd2272659b1  abatement  abatement of pollution     A47   0.50   \n",
              "1  7b9652b17b68b7a4  abatement          act of abating     A47   0.75   \n",
              "2  36d72442aefd8232  abatement         active catalyst     A47   0.25   \n",
              "3  5296b0c19e1ce60e  abatement     eliminating process     A47   0.50   \n",
              "4  54c1e3b9184cb5b6  abatement           forest region     A47   0.00   \n",
              "\n",
              "                                                        input  \n",
              "0  TEXT1: A47; TEXT2: abatement of pollution; ANC1: abatement  \n",
              "1          TEXT1: A47; TEXT2: act of abating; ANC1: abatement  \n",
              "2         TEXT1: A47; TEXT2: active catalyst; ANC1: abatement  \n",
              "3     TEXT1: A47; TEXT2: eliminating process; ANC1: abatement  \n",
              "4           TEXT1: A47; TEXT2: forest region; ANC1: abatement  "
            ],
            "text/html": [
              "\n",
              "  <div id=\"df-3d21ff73-eacd-4358-b466-321419ddac8e\">\n",
              "    <div class=\"colab-df-container\">\n",
              "      <div>\n",
              "<style scoped>\n",
              "    .dataframe tbody tr th:only-of-type {\n",
              "        vertical-align: middle;\n",
              "    }\n",
              "\n",
              "    .dataframe tbody tr th {\n",
              "        vertical-align: top;\n",
              "    }\n",
              "\n",
              "    .dataframe thead th {\n",
              "        text-align: right;\n",
              "    }\n",
              "</style>\n",
              "<table border=\"1\" class=\"dataframe\">\n",
              "  <thead>\n",
              "    <tr style=\"text-align: right;\">\n",
              "      <th></th>\n",
              "      <th>id</th>\n",
              "      <th>anchor</th>\n",
              "      <th>target</th>\n",
              "      <th>context</th>\n",
              "      <th>score</th>\n",
              "      <th>input</th>\n",
              "    </tr>\n",
              "  </thead>\n",
              "  <tbody>\n",
              "    <tr>\n",
              "      <th>0</th>\n",
              "      <td>37d61fd2272659b1</td>\n",
              "      <td>abatement</td>\n",
              "      <td>abatement of pollution</td>\n",
              "      <td>A47</td>\n",
              "      <td>0.50</td>\n",
              "      <td>TEXT1: A47; TEXT2: abatement of pollution; ANC1: abatement</td>\n",
              "    </tr>\n",
              "    <tr>\n",
              "      <th>1</th>\n",
              "      <td>7b9652b17b68b7a4</td>\n",
              "      <td>abatement</td>\n",
              "      <td>act of abating</td>\n",
              "      <td>A47</td>\n",
              "      <td>0.75</td>\n",
              "      <td>TEXT1: A47; TEXT2: act of abating; ANC1: abatement</td>\n",
              "    </tr>\n",
              "    <tr>\n",
              "      <th>2</th>\n",
              "      <td>36d72442aefd8232</td>\n",
              "      <td>abatement</td>\n",
              "      <td>active catalyst</td>\n",
              "      <td>A47</td>\n",
              "      <td>0.25</td>\n",
              "      <td>TEXT1: A47; TEXT2: active catalyst; ANC1: abatement</td>\n",
              "    </tr>\n",
              "    <tr>\n",
              "      <th>3</th>\n",
              "      <td>5296b0c19e1ce60e</td>\n",
              "      <td>abatement</td>\n",
              "      <td>eliminating process</td>\n",
              "      <td>A47</td>\n",
              "      <td>0.50</td>\n",
              "      <td>TEXT1: A47; TEXT2: eliminating process; ANC1: abatement</td>\n",
              "    </tr>\n",
              "    <tr>\n",
              "      <th>4</th>\n",
              "      <td>54c1e3b9184cb5b6</td>\n",
              "      <td>abatement</td>\n",
              "      <td>forest region</td>\n",
              "      <td>A47</td>\n",
              "      <td>0.00</td>\n",
              "      <td>TEXT1: A47; TEXT2: forest region; ANC1: abatement</td>\n",
              "    </tr>\n",
              "  </tbody>\n",
              "</table>\n",
              "</div>\n",
              "      <button class=\"colab-df-convert\" onclick=\"convertToInteractive('df-3d21ff73-eacd-4358-b466-321419ddac8e')\"\n",
              "              title=\"Convert this dataframe to an interactive table.\"\n",
              "              style=\"display:none;\">\n",
              "        \n",
              "  <svg xmlns=\"http://www.w3.org/2000/svg\" height=\"24px\"viewBox=\"0 0 24 24\"\n",
              "       width=\"24px\">\n",
              "    <path d=\"M0 0h24v24H0V0z\" fill=\"none\"/>\n",
              "    <path d=\"M18.56 5.44l.94 2.06.94-2.06 2.06-.94-2.06-.94-.94-2.06-.94 2.06-2.06.94zm-11 1L8.5 8.5l.94-2.06 2.06-.94-2.06-.94L8.5 2.5l-.94 2.06-2.06.94zm10 10l.94 2.06.94-2.06 2.06-.94-2.06-.94-.94-2.06-.94 2.06-2.06.94z\"/><path d=\"M17.41 7.96l-1.37-1.37c-.4-.4-.92-.59-1.43-.59-.52 0-1.04.2-1.43.59L10.3 9.45l-7.72 7.72c-.78.78-.78 2.05 0 2.83L4 21.41c.39.39.9.59 1.41.59.51 0 1.02-.2 1.41-.59l7.78-7.78 2.81-2.81c.8-.78.8-2.07 0-2.86zM5.41 20L4 18.59l7.72-7.72 1.47 1.35L5.41 20z\"/>\n",
              "  </svg>\n",
              "      </button>\n",
              "      \n",
              "  <style>\n",
              "    .colab-df-container {\n",
              "      display:flex;\n",
              "      flex-wrap:wrap;\n",
              "      gap: 12px;\n",
              "    }\n",
              "\n",
              "    .colab-df-convert {\n",
              "      background-color: #E8F0FE;\n",
              "      border: none;\n",
              "      border-radius: 50%;\n",
              "      cursor: pointer;\n",
              "      display: none;\n",
              "      fill: #1967D2;\n",
              "      height: 32px;\n",
              "      padding: 0 0 0 0;\n",
              "      width: 32px;\n",
              "    }\n",
              "\n",
              "    .colab-df-convert:hover {\n",
              "      background-color: #E2EBFA;\n",
              "      box-shadow: 0px 1px 2px rgba(60, 64, 67, 0.3), 0px 1px 3px 1px rgba(60, 64, 67, 0.15);\n",
              "      fill: #174EA6;\n",
              "    }\n",
              "\n",
              "    [theme=dark] .colab-df-convert {\n",
              "      background-color: #3B4455;\n",
              "      fill: #D2E3FC;\n",
              "    }\n",
              "\n",
              "    [theme=dark] .colab-df-convert:hover {\n",
              "      background-color: #434B5C;\n",
              "      box-shadow: 0px 1px 3px 1px rgba(0, 0, 0, 0.15);\n",
              "      filter: drop-shadow(0px 1px 2px rgba(0, 0, 0, 0.3));\n",
              "      fill: #FFFFFF;\n",
              "    }\n",
              "  </style>\n",
              "\n",
              "      <script>\n",
              "        const buttonEl =\n",
              "          document.querySelector('#df-3d21ff73-eacd-4358-b466-321419ddac8e button.colab-df-convert');\n",
              "        buttonEl.style.display =\n",
              "          google.colab.kernel.accessAllowed ? 'block' : 'none';\n",
              "\n",
              "        async function convertToInteractive(key) {\n",
              "          const element = document.querySelector('#df-3d21ff73-eacd-4358-b466-321419ddac8e');\n",
              "          const dataTable =\n",
              "            await google.colab.kernel.invokeFunction('convertToInteractive',\n",
              "                                                     [key], {});\n",
              "          if (!dataTable) return;\n",
              "\n",
              "          const docLinkHtml = 'Like what you see? Visit the ' +\n",
              "            '<a target=\"_blank\" href=https://colab.research.google.com/notebooks/data_table.ipynb>data table notebook</a>'\n",
              "            + ' to learn more about interactive tables.';\n",
              "          element.innerHTML = '';\n",
              "          dataTable['output_type'] = 'display_data';\n",
              "          await google.colab.output.renderOutput(dataTable, element);\n",
              "          const docLink = document.createElement('div');\n",
              "          docLink.innerHTML = docLinkHtml;\n",
              "          element.appendChild(docLink);\n",
              "        }\n",
              "      </script>\n",
              "    </div>\n",
              "  </div>\n",
              "  "
            ]
          },
          "metadata": {},
          "execution_count": 8
        }
      ]
    },
    {
      "cell_type": "code",
      "source": [
        "df.input.head()"
      ],
      "metadata": {
        "colab": {
          "base_uri": "https://localhost:8080/"
        },
        "id": "MXbggix_Fz43",
        "outputId": "46e7d600-097e-4393-8cb0-ab6b86ca290b"
      },
      "execution_count": 9,
      "outputs": [
        {
          "output_type": "execute_result",
          "data": {
            "text/plain": [
              "0    TEXT1: A47; TEXT2: abatement of pollution; ANC1: abatement\n",
              "1            TEXT1: A47; TEXT2: act of abating; ANC1: abatement\n",
              "2           TEXT1: A47; TEXT2: active catalyst; ANC1: abatement\n",
              "3       TEXT1: A47; TEXT2: eliminating process; ANC1: abatement\n",
              "4             TEXT1: A47; TEXT2: forest region; ANC1: abatement\n",
              "Name: input, dtype: object"
            ]
          },
          "metadata": {},
          "execution_count": 9
        }
      ]
    },
    {
      "cell_type": "markdown",
      "source": [
        "## Transformers"
      ],
      "metadata": {
        "id": "HfBmK2IKF4wx"
      }
    },
    {
      "cell_type": "code",
      "source": [
        "!pip install --no-cache-dir transformers sentencepiece"
      ],
      "metadata": {
        "colab": {
          "base_uri": "https://localhost:8080/"
        },
        "id": "rMOsnYQxF7Yv",
        "outputId": "9780902a-f954-4d12-e463-64fb4018097d"
      },
      "execution_count": 11,
      "outputs": [
        {
          "output_type": "stream",
          "name": "stdout",
          "text": [
            "Looking in indexes: https://pypi.org/simple, https://us-python.pkg.dev/colab-wheels/public/simple/\n",
            "Collecting transformers\n",
            "  Downloading transformers-4.22.1-py3-none-any.whl (4.9 MB)\n",
            "\u001b[K     |████████████████████████████████| 4.9 MB 2.1 MB/s \n",
            "\u001b[?25hCollecting sentencepiece\n",
            "  Downloading sentencepiece-0.1.97-cp37-cp37m-manylinux_2_17_x86_64.manylinux2014_x86_64.whl (1.3 MB)\n",
            "\u001b[K     |████████████████████████████████| 1.3 MB 65.3 MB/s \n",
            "\u001b[?25hRequirement already satisfied: pyyaml>=5.1 in /usr/local/lib/python3.7/dist-packages (from transformers) (6.0)\n",
            "Requirement already satisfied: packaging>=20.0 in /usr/local/lib/python3.7/dist-packages (from transformers) (21.3)\n",
            "Requirement already satisfied: filelock in /usr/local/lib/python3.7/dist-packages (from transformers) (3.8.0)\n",
            "Requirement already satisfied: importlib-metadata in /usr/local/lib/python3.7/dist-packages (from transformers) (4.12.0)\n",
            "Collecting huggingface-hub<1.0,>=0.9.0\n",
            "  Downloading huggingface_hub-0.9.1-py3-none-any.whl (120 kB)\n",
            "\u001b[K     |████████████████████████████████| 120 kB 83.2 MB/s \n",
            "\u001b[?25hRequirement already satisfied: numpy>=1.17 in /usr/local/lib/python3.7/dist-packages (from transformers) (1.21.6)\n",
            "Collecting tokenizers!=0.11.3,<0.13,>=0.11.1\n",
            "  Downloading tokenizers-0.12.1-cp37-cp37m-manylinux_2_12_x86_64.manylinux2010_x86_64.whl (6.6 MB)\n",
            "\u001b[K     |████████████████████████████████| 6.6 MB 65.0 MB/s \n",
            "\u001b[?25hRequirement already satisfied: tqdm>=4.27 in /usr/local/lib/python3.7/dist-packages (from transformers) (4.64.1)\n",
            "Requirement already satisfied: regex!=2019.12.17 in /usr/local/lib/python3.7/dist-packages (from transformers) (2022.6.2)\n",
            "Requirement already satisfied: requests in /usr/local/lib/python3.7/dist-packages (from transformers) (2.23.0)\n",
            "Requirement already satisfied: typing-extensions>=3.7.4.3 in /usr/local/lib/python3.7/dist-packages (from huggingface-hub<1.0,>=0.9.0->transformers) (4.1.1)\n",
            "Requirement already satisfied: pyparsing!=3.0.5,>=2.0.2 in /usr/local/lib/python3.7/dist-packages (from packaging>=20.0->transformers) (3.0.9)\n",
            "Requirement already satisfied: zipp>=0.5 in /usr/local/lib/python3.7/dist-packages (from importlib-metadata->transformers) (3.8.1)\n",
            "Requirement already satisfied: idna<3,>=2.5 in /usr/local/lib/python3.7/dist-packages (from requests->transformers) (2.10)\n",
            "Requirement already satisfied: urllib3!=1.25.0,!=1.25.1,<1.26,>=1.21.1 in /usr/local/lib/python3.7/dist-packages (from requests->transformers) (1.24.3)\n",
            "Requirement already satisfied: certifi>=2017.4.17 in /usr/local/lib/python3.7/dist-packages (from requests->transformers) (2022.6.15)\n",
            "Requirement already satisfied: chardet<4,>=3.0.2 in /usr/local/lib/python3.7/dist-packages (from requests->transformers) (3.0.4)\n",
            "Installing collected packages: tokenizers, huggingface-hub, transformers, sentencepiece\n",
            "Successfully installed huggingface-hub-0.9.1 sentencepiece-0.1.97 tokenizers-0.12.1 transformers-4.22.1\n"
          ]
        }
      ]
    },
    {
      "cell_type": "code",
      "source": [
        "!pip install -q datasets"
      ],
      "metadata": {
        "colab": {
          "base_uri": "https://localhost:8080/"
        },
        "id": "SDzhVv5WG9_1",
        "outputId": "78713839-7885-443c-a70b-f69e1c0b45af"
      },
      "execution_count": 12,
      "outputs": [
        {
          "output_type": "stream",
          "name": "stdout",
          "text": [
            "\u001b[K     |████████████████████████████████| 431 kB 2.1 MB/s \n",
            "\u001b[K     |████████████████████████████████| 115 kB 54.9 MB/s \n",
            "\u001b[K     |████████████████████████████████| 212 kB 50.8 MB/s \n",
            "\u001b[K     |████████████████████████████████| 127 kB 67.2 MB/s \n",
            "\u001b[?25h"
          ]
        }
      ]
    },
    {
      "cell_type": "code",
      "source": [
        "from datasets import Dataset,DatasetDict\n",
        "ds = Dataset.from_pandas(df)\n",
        "ds"
      ],
      "metadata": {
        "colab": {
          "base_uri": "https://localhost:8080/"
        },
        "id": "pzYosdw3F-qK",
        "outputId": "3edf966e-22f2-4bfa-cce9-cd88c57f054b"
      },
      "execution_count": 13,
      "outputs": [
        {
          "output_type": "execute_result",
          "data": {
            "text/plain": [
              "Dataset({\n",
              "    features: ['id', 'anchor', 'target', 'context', 'score', 'input'],\n",
              "    num_rows: 36473\n",
              "})"
            ]
          },
          "metadata": {},
          "execution_count": 13
        }
      ]
    },
    {
      "cell_type": "markdown",
      "source": [
        "* A deep learning model expects numbers as inputs, not English sentences! So we need to do two things:\n",
        "\n",
        "* Tokenization: Split each text up into words (or actually, as we'll see, into tokens)\n",
        "* Numericalization: Convert each word (or token) into a number."
      ],
      "metadata": {
        "id": "VSiL4CBqJpxT"
      }
    },
    {
      "cell_type": "code",
      "source": [
        "model_nm = 'microsoft/deberta-v3-small'"
      ],
      "metadata": {
        "id": "65-QxqKzGL_q"
      },
      "execution_count": 14,
      "outputs": []
    },
    {
      "cell_type": "markdown",
      "source": [
        "* tokenizer needs sentencepiece to be installed. "
      ],
      "metadata": {
        "id": "UZD48Hwwk2nD"
      }
    },
    {
      "cell_type": "code",
      "source": [
        "from transformers import AutoModelForSequenceClassification,AutoTokenizer\n",
        "from transformers import AutoModel\n",
        "#\n",
        "model = AutoModel.from_pretrained(\"microsoft/deberta-v3-small\")\n",
        "tokz = AutoTokenizer.from_pretrained(model_nm)"
      ],
      "metadata": {
        "colab": {
          "base_uri": "https://localhost:8080/",
          "height": 353,
          "referenced_widgets": [
            "87c805edbeb841ddb54ae51007485bb2",
            "d2a0cd17256b420c8c75fe8e34257594",
            "6d136b4ba6be4ef08db2c2fd664a3dc0",
            "57833d17a78f433db655cfbff2e021c3",
            "b3a0c76ed3e449058803b6bdc4bd7282",
            "53337fdbec694040b5777081e4d298b5",
            "85f7484a700a4a9a89bfbd91ffb1c927",
            "5a9540ddd1e74091a79ec66ee40a4351",
            "49eb71a6e9144265b62a22b6d54b0ec1",
            "a4a1c586b8584277b05687f562124ff0",
            "bbfbd01c643142f7842015604736154e",
            "cd813e56d34d4d1aa891e3d78b12e0da",
            "f0c9a85bf166482cabffa4e78876514a",
            "690adb3aa35745bba0e4795956adab95",
            "b5e315635d114860ac05480ab9864f2f",
            "5c2a331ed9604bf99ec47ff4bc56443c",
            "3684a3f93013452ab7a136a2d81b480d",
            "ead0b8fd8ee248ffbddc86d6e337e75d",
            "d4994d5d2d124d0683ec6e8448d81d93",
            "46d22e8ce9b04b5bb47aa0b5ede6b4ec",
            "128caf85a33741488906b90f84257cfe",
            "a0ab6874a2e845c0a430cbb17936f532",
            "8df1b0aa77e247ed8b18a4c98f1adee7",
            "0f9c525b43e44cdca4cb14fcab87b0c4",
            "d2e59c38dd5848e585a24a67d3447888",
            "083a7f7e83814df78938b0e2bb90c5b6",
            "4acd6ca415a64e9ba5ee79d1b0bc42ea",
            "7e0a4e14ab39448ebbc85ce505422808",
            "de7d446b1d3e42a9b591ad63e07dc865",
            "38a009093ad54f47bde476a8c7e631be",
            "1963c9a7a40e4100b7d976d70125e3c8",
            "4f4f035836ad4a3a962d60f431a0843f",
            "9d6405a4c4e74615a1deb2ee5c57c113",
            "88d140b350834f80a68edb70c7f9e606",
            "8a0f0006db3e4c09804c721cd6d092e8",
            "40e3fa47aaaa465898e38a013a671598",
            "7a633050995b417c8bd52ee4f3ee0711",
            "db7eff5881854b2680b47a903658e035",
            "29f5658d59784379a85193b1479fbb4e",
            "c9c8fd82ad164c8282f817e19bee16ad",
            "32d2ab204b8c44209204db569b5e6fe7",
            "91399050f69442f4950c2dcded70e9e1",
            "6e91a0b2dbde4de4bc00438dc86cee9e",
            "502d5fb71a304c25b8f8c5451e92c0af",
            "2a6cb7ff086c4d63bf93ae9c703054ee",
            "39f1660e82b24304ab946c301354b03d",
            "3f22a4ba43374b1a9205e54a71937c63",
            "8ea3184816fd4ae589ff1a32a8b3ca1f",
            "4184592ba9324008bfdd7318deb9fa5c",
            "adc0701bcef540ff9c2fd942b45dbdb1",
            "04085c77b05e4ff0af9ef7f1571c4d08",
            "e732f656c1b741a3aea80e61db8475cc",
            "2d9530dcaafc4c8285f9790e02e0548f",
            "062f266c51f649d9a6fe1e887c1fb761",
            "1873d02ba93a429fa7eead2dc7985a6e"
          ]
        },
        "id": "qvVd-2sNJ4FA",
        "outputId": "b7042ac4-5b6d-4b64-c3ce-d81e2507b7cb"
      },
      "execution_count": 15,
      "outputs": [
        {
          "output_type": "stream",
          "name": "stderr",
          "text": [
            "The cache for model files in Transformers v4.22.0 has been updated. Migrating your old cache. This is a one-time only operation. You can interrupt this and resume the migration later on by calling `transformers.utils.move_cache()`.\n"
          ]
        },
        {
          "output_type": "stream",
          "name": "stdout",
          "text": [
            "Moving 0 files to the new cache system\n"
          ]
        },
        {
          "output_type": "display_data",
          "data": {
            "text/plain": [
              "0it [00:00, ?it/s]"
            ],
            "application/vnd.jupyter.widget-view+json": {
              "version_major": 2,
              "version_minor": 0,
              "model_id": "87c805edbeb841ddb54ae51007485bb2"
            }
          },
          "metadata": {}
        },
        {
          "output_type": "display_data",
          "data": {
            "text/plain": [
              "Downloading:   0%|          | 0.00/578 [00:00<?, ?B/s]"
            ],
            "application/vnd.jupyter.widget-view+json": {
              "version_major": 2,
              "version_minor": 0,
              "model_id": "cd813e56d34d4d1aa891e3d78b12e0da"
            }
          },
          "metadata": {}
        },
        {
          "output_type": "display_data",
          "data": {
            "text/plain": [
              "Downloading:   0%|          | 0.00/286M [00:00<?, ?B/s]"
            ],
            "application/vnd.jupyter.widget-view+json": {
              "version_major": 2,
              "version_minor": 0,
              "model_id": "8df1b0aa77e247ed8b18a4c98f1adee7"
            }
          },
          "metadata": {}
        },
        {
          "output_type": "stream",
          "name": "stderr",
          "text": [
            "Some weights of the model checkpoint at microsoft/deberta-v3-small were not used when initializing DebertaV2Model: ['lm_predictions.lm_head.bias', 'lm_predictions.lm_head.dense.weight', 'mask_predictions.LayerNorm.bias', 'mask_predictions.classifier.weight', 'lm_predictions.lm_head.LayerNorm.bias', 'mask_predictions.dense.bias', 'mask_predictions.classifier.bias', 'mask_predictions.dense.weight', 'mask_predictions.LayerNorm.weight', 'lm_predictions.lm_head.dense.bias', 'lm_predictions.lm_head.LayerNorm.weight']\n",
            "- This IS expected if you are initializing DebertaV2Model from the checkpoint of a model trained on another task or with another architecture (e.g. initializing a BertForSequenceClassification model from a BertForPreTraining model).\n",
            "- This IS NOT expected if you are initializing DebertaV2Model from the checkpoint of a model that you expect to be exactly identical (initializing a BertForSequenceClassification model from a BertForSequenceClassification model).\n"
          ]
        },
        {
          "output_type": "display_data",
          "data": {
            "text/plain": [
              "Downloading:   0%|          | 0.00/52.0 [00:00<?, ?B/s]"
            ],
            "application/vnd.jupyter.widget-view+json": {
              "version_major": 2,
              "version_minor": 0,
              "model_id": "88d140b350834f80a68edb70c7f9e606"
            }
          },
          "metadata": {}
        },
        {
          "output_type": "display_data",
          "data": {
            "text/plain": [
              "Downloading:   0%|          | 0.00/2.46M [00:00<?, ?B/s]"
            ],
            "application/vnd.jupyter.widget-view+json": {
              "version_major": 2,
              "version_minor": 0,
              "model_id": "2a6cb7ff086c4d63bf93ae9c703054ee"
            }
          },
          "metadata": {}
        },
        {
          "output_type": "stream",
          "name": "stderr",
          "text": [
            "Special tokens have been added in the vocabulary, make sure the associated word embeddings are fine-tuned or trained.\n",
            "/usr/local/lib/python3.7/dist-packages/transformers/convert_slow_tokenizer.py:447: UserWarning: The sentencepiece tokenizer that you are converting to a fast tokenizer uses the byte fallback option which is not implemented in the fast tokenizers. In practice this means that the fast version of the tokenizer can produce unknown tokens whereas the sentencepiece version would have converted these unknown tokens into a sequence of byte tokens matching the original piece of text.\n",
            "  \"The sentencepiece tokenizer that you are converting to a fast tokenizer uses the byte fallback option\"\n",
            "Special tokens have been added in the vocabulary, make sure the associated word embeddings are fine-tuned or trained.\n"
          ]
        }
      ]
    },
    {
      "cell_type": "code",
      "source": [
        "tokz.tokenize(\"G'day folks, I'm Jeremy from fast.ai!\")"
      ],
      "metadata": {
        "colab": {
          "base_uri": "https://localhost:8080/"
        },
        "id": "DIvHvjGAg1PX",
        "outputId": "cb4af21d-a44a-4b9b-9232-45c25c146e5d"
      },
      "execution_count": 16,
      "outputs": [
        {
          "output_type": "execute_result",
          "data": {
            "text/plain": [
              "['▁G',\n",
              " \"'\",\n",
              " 'day',\n",
              " '▁folks',\n",
              " ',',\n",
              " '▁I',\n",
              " \"'\",\n",
              " 'm',\n",
              " '▁Jeremy',\n",
              " '▁from',\n",
              " '▁fast',\n",
              " '.',\n",
              " 'ai',\n",
              " '!']"
            ]
          },
          "metadata": {},
          "execution_count": 16
        }
      ]
    },
    {
      "cell_type": "markdown",
      "source": [
        "* Uncommon words will be split into pieces. \n",
        "* The start of a new word is represented by ▁"
      ],
      "metadata": {
        "id": "D60UF0Wxke9h"
      }
    },
    {
      "cell_type": "code",
      "source": [
        "tokz.tokenize(\"A platypus is an ornithorhynchus anatinus.\")"
      ],
      "metadata": {
        "colab": {
          "base_uri": "https://localhost:8080/"
        },
        "id": "7ryGB2dQkm2s",
        "outputId": "41518773-d70b-4a05-9569-ebfc4c61e220"
      },
      "execution_count": 17,
      "outputs": [
        {
          "output_type": "execute_result",
          "data": {
            "text/plain": [
              "['▁A',\n",
              " '▁platypus',\n",
              " '▁is',\n",
              " '▁an',\n",
              " '▁or',\n",
              " 'ni',\n",
              " 'tho',\n",
              " 'rhynch',\n",
              " 'us',\n",
              " '▁an',\n",
              " 'at',\n",
              " 'inus',\n",
              " '.']"
            ]
          },
          "metadata": {},
          "execution_count": 17
        }
      ]
    },
    {
      "cell_type": "markdown",
      "source": [
        "## A simple function which tokenizes our inputs"
      ],
      "metadata": {
        "id": "fU365fc5lBgX"
      }
    },
    {
      "cell_type": "code",
      "source": [
        "def tok_func(x):\n",
        "  return tokz(x[\"input\"])"
      ],
      "metadata": {
        "id": "1suonRjslDII"
      },
      "execution_count": 18,
      "outputs": []
    },
    {
      "cell_type": "code",
      "source": [
        "tok_ds = ds.map(tok_func, batched=True)"
      ],
      "metadata": {
        "colab": {
          "base_uri": "https://localhost:8080/",
          "height": 49,
          "referenced_widgets": [
            "81adf55b168f4d35ac6784e16f961f4c",
            "d24fe886c365476199182df8a41f341e",
            "511bea9ac3d94970afc60971d109cab2",
            "700170e5107340b3b2373c6b79d6afe2",
            "dcfa29a427e24f609cf4d4ba62a87b82",
            "2277598ce4ad4be69dcb0415f0717527",
            "47445aaeaf87452c8e4d4195bf62d348",
            "6e687dfd82cd4ec8bac27e5b38154bae",
            "4a4961d2da4147949bfcfa877778a7e7",
            "75066036e5d8458bba4c333d85f82a00",
            "3d34596f94d7441fb1e818d2ebf08a7f"
          ]
        },
        "id": "SaUMP4LJk9Ty",
        "outputId": "0650b237-f5a3-4f9d-d8f9-c3c403dfee58"
      },
      "execution_count": 19,
      "outputs": [
        {
          "output_type": "display_data",
          "data": {
            "text/plain": [
              "  0%|          | 0/37 [00:00<?, ?ba/s]"
            ],
            "application/vnd.jupyter.widget-view+json": {
              "version_major": 2,
              "version_minor": 0,
              "model_id": "81adf55b168f4d35ac6784e16f961f4c"
            }
          },
          "metadata": {}
        }
      ]
    },
    {
      "cell_type": "markdown",
      "source": [
        "* This adds a new item to our dataset called input_ids. "
      ],
      "metadata": {
        "id": "_ObafWqslaAV"
      }
    },
    {
      "cell_type": "code",
      "source": [
        "ds"
      ],
      "metadata": {
        "colab": {
          "base_uri": "https://localhost:8080/"
        },
        "id": "R95nlz_DlnT_",
        "outputId": "85c086e8-87a4-4502-972c-b915f0b8808f"
      },
      "execution_count": 20,
      "outputs": [
        {
          "output_type": "execute_result",
          "data": {
            "text/plain": [
              "Dataset({\n",
              "    features: ['id', 'anchor', 'target', 'context', 'score', 'input'],\n",
              "    num_rows: 36473\n",
              "})"
            ]
          },
          "metadata": {},
          "execution_count": 20
        }
      ]
    },
    {
      "cell_type": "code",
      "source": [
        "pd.DataFrame(tok_ds).head()"
      ],
      "metadata": {
        "colab": {
          "base_uri": "https://localhost:8080/",
          "height": 528
        },
        "id": "HA3eUXDHlrkH",
        "outputId": "2cd3f754-e6a3-4031-ee4c-a7c2218cdcda"
      },
      "execution_count": 21,
      "outputs": [
        {
          "output_type": "execute_result",
          "data": {
            "text/plain": [
              "                 id     anchor                  target context  score  \\\n",
              "0  37d61fd2272659b1  abatement  abatement of pollution     A47   0.50   \n",
              "1  7b9652b17b68b7a4  abatement          act of abating     A47   0.75   \n",
              "2  36d72442aefd8232  abatement         active catalyst     A47   0.25   \n",
              "3  5296b0c19e1ce60e  abatement     eliminating process     A47   0.50   \n",
              "4  54c1e3b9184cb5b6  abatement           forest region     A47   0.00   \n",
              "\n",
              "                                                        input  \\\n",
              "0  TEXT1: A47; TEXT2: abatement of pollution; ANC1: abatement   \n",
              "1          TEXT1: A47; TEXT2: act of abating; ANC1: abatement   \n",
              "2         TEXT1: A47; TEXT2: active catalyst; ANC1: abatement   \n",
              "3     TEXT1: A47; TEXT2: eliminating process; ANC1: abatement   \n",
              "4           TEXT1: A47; TEXT2: forest region; ANC1: abatement   \n",
              "\n",
              "                                                                                                           input_ids  \\\n",
              "0            [1, 54453, 435, 294, 336, 5753, 346, 54453, 445, 294, 47284, 265, 6435, 346, 23702, 435, 294, 47284, 2]   \n",
              "1  [1, 54453, 435, 294, 336, 5753, 346, 54453, 445, 294, 1727, 265, 266, 17441, 510, 346, 23702, 435, 294, 47284, 2]   \n",
              "2                 [1, 54453, 435, 294, 336, 5753, 346, 54453, 445, 294, 1636, 14930, 346, 23702, 435, 294, 47284, 2]   \n",
              "3                  [1, 54453, 435, 294, 336, 5753, 346, 54453, 445, 294, 10181, 568, 346, 23702, 435, 294, 47284, 2]   \n",
              "4                  [1, 54453, 435, 294, 336, 5753, 346, 54453, 445, 294, 4054, 1488, 346, 23702, 435, 294, 47284, 2]   \n",
              "\n",
              "                                                    token_type_ids  \\\n",
              "0        [0, 0, 0, 0, 0, 0, 0, 0, 0, 0, 0, 0, 0, 0, 0, 0, 0, 0, 0]   \n",
              "1  [0, 0, 0, 0, 0, 0, 0, 0, 0, 0, 0, 0, 0, 0, 0, 0, 0, 0, 0, 0, 0]   \n",
              "2           [0, 0, 0, 0, 0, 0, 0, 0, 0, 0, 0, 0, 0, 0, 0, 0, 0, 0]   \n",
              "3           [0, 0, 0, 0, 0, 0, 0, 0, 0, 0, 0, 0, 0, 0, 0, 0, 0, 0]   \n",
              "4           [0, 0, 0, 0, 0, 0, 0, 0, 0, 0, 0, 0, 0, 0, 0, 0, 0, 0]   \n",
              "\n",
              "                                                    attention_mask  \n",
              "0        [1, 1, 1, 1, 1, 1, 1, 1, 1, 1, 1, 1, 1, 1, 1, 1, 1, 1, 1]  \n",
              "1  [1, 1, 1, 1, 1, 1, 1, 1, 1, 1, 1, 1, 1, 1, 1, 1, 1, 1, 1, 1, 1]  \n",
              "2           [1, 1, 1, 1, 1, 1, 1, 1, 1, 1, 1, 1, 1, 1, 1, 1, 1, 1]  \n",
              "3           [1, 1, 1, 1, 1, 1, 1, 1, 1, 1, 1, 1, 1, 1, 1, 1, 1, 1]  \n",
              "4           [1, 1, 1, 1, 1, 1, 1, 1, 1, 1, 1, 1, 1, 1, 1, 1, 1, 1]  "
            ],
            "text/html": [
              "\n",
              "  <div id=\"df-39457bed-2a73-49d1-add1-799414075ce6\">\n",
              "    <div class=\"colab-df-container\">\n",
              "      <div>\n",
              "<style scoped>\n",
              "    .dataframe tbody tr th:only-of-type {\n",
              "        vertical-align: middle;\n",
              "    }\n",
              "\n",
              "    .dataframe tbody tr th {\n",
              "        vertical-align: top;\n",
              "    }\n",
              "\n",
              "    .dataframe thead th {\n",
              "        text-align: right;\n",
              "    }\n",
              "</style>\n",
              "<table border=\"1\" class=\"dataframe\">\n",
              "  <thead>\n",
              "    <tr style=\"text-align: right;\">\n",
              "      <th></th>\n",
              "      <th>id</th>\n",
              "      <th>anchor</th>\n",
              "      <th>target</th>\n",
              "      <th>context</th>\n",
              "      <th>score</th>\n",
              "      <th>input</th>\n",
              "      <th>input_ids</th>\n",
              "      <th>token_type_ids</th>\n",
              "      <th>attention_mask</th>\n",
              "    </tr>\n",
              "  </thead>\n",
              "  <tbody>\n",
              "    <tr>\n",
              "      <th>0</th>\n",
              "      <td>37d61fd2272659b1</td>\n",
              "      <td>abatement</td>\n",
              "      <td>abatement of pollution</td>\n",
              "      <td>A47</td>\n",
              "      <td>0.50</td>\n",
              "      <td>TEXT1: A47; TEXT2: abatement of pollution; ANC1: abatement</td>\n",
              "      <td>[1, 54453, 435, 294, 336, 5753, 346, 54453, 445, 294, 47284, 265, 6435, 346, 23702, 435, 294, 47284, 2]</td>\n",
              "      <td>[0, 0, 0, 0, 0, 0, 0, 0, 0, 0, 0, 0, 0, 0, 0, 0, 0, 0, 0]</td>\n",
              "      <td>[1, 1, 1, 1, 1, 1, 1, 1, 1, 1, 1, 1, 1, 1, 1, 1, 1, 1, 1]</td>\n",
              "    </tr>\n",
              "    <tr>\n",
              "      <th>1</th>\n",
              "      <td>7b9652b17b68b7a4</td>\n",
              "      <td>abatement</td>\n",
              "      <td>act of abating</td>\n",
              "      <td>A47</td>\n",
              "      <td>0.75</td>\n",
              "      <td>TEXT1: A47; TEXT2: act of abating; ANC1: abatement</td>\n",
              "      <td>[1, 54453, 435, 294, 336, 5753, 346, 54453, 445, 294, 1727, 265, 266, 17441, 510, 346, 23702, 435, 294, 47284, 2]</td>\n",
              "      <td>[0, 0, 0, 0, 0, 0, 0, 0, 0, 0, 0, 0, 0, 0, 0, 0, 0, 0, 0, 0, 0]</td>\n",
              "      <td>[1, 1, 1, 1, 1, 1, 1, 1, 1, 1, 1, 1, 1, 1, 1, 1, 1, 1, 1, 1, 1]</td>\n",
              "    </tr>\n",
              "    <tr>\n",
              "      <th>2</th>\n",
              "      <td>36d72442aefd8232</td>\n",
              "      <td>abatement</td>\n",
              "      <td>active catalyst</td>\n",
              "      <td>A47</td>\n",
              "      <td>0.25</td>\n",
              "      <td>TEXT1: A47; TEXT2: active catalyst; ANC1: abatement</td>\n",
              "      <td>[1, 54453, 435, 294, 336, 5753, 346, 54453, 445, 294, 1636, 14930, 346, 23702, 435, 294, 47284, 2]</td>\n",
              "      <td>[0, 0, 0, 0, 0, 0, 0, 0, 0, 0, 0, 0, 0, 0, 0, 0, 0, 0]</td>\n",
              "      <td>[1, 1, 1, 1, 1, 1, 1, 1, 1, 1, 1, 1, 1, 1, 1, 1, 1, 1]</td>\n",
              "    </tr>\n",
              "    <tr>\n",
              "      <th>3</th>\n",
              "      <td>5296b0c19e1ce60e</td>\n",
              "      <td>abatement</td>\n",
              "      <td>eliminating process</td>\n",
              "      <td>A47</td>\n",
              "      <td>0.50</td>\n",
              "      <td>TEXT1: A47; TEXT2: eliminating process; ANC1: abatement</td>\n",
              "      <td>[1, 54453, 435, 294, 336, 5753, 346, 54453, 445, 294, 10181, 568, 346, 23702, 435, 294, 47284, 2]</td>\n",
              "      <td>[0, 0, 0, 0, 0, 0, 0, 0, 0, 0, 0, 0, 0, 0, 0, 0, 0, 0]</td>\n",
              "      <td>[1, 1, 1, 1, 1, 1, 1, 1, 1, 1, 1, 1, 1, 1, 1, 1, 1, 1]</td>\n",
              "    </tr>\n",
              "    <tr>\n",
              "      <th>4</th>\n",
              "      <td>54c1e3b9184cb5b6</td>\n",
              "      <td>abatement</td>\n",
              "      <td>forest region</td>\n",
              "      <td>A47</td>\n",
              "      <td>0.00</td>\n",
              "      <td>TEXT1: A47; TEXT2: forest region; ANC1: abatement</td>\n",
              "      <td>[1, 54453, 435, 294, 336, 5753, 346, 54453, 445, 294, 4054, 1488, 346, 23702, 435, 294, 47284, 2]</td>\n",
              "      <td>[0, 0, 0, 0, 0, 0, 0, 0, 0, 0, 0, 0, 0, 0, 0, 0, 0, 0]</td>\n",
              "      <td>[1, 1, 1, 1, 1, 1, 1, 1, 1, 1, 1, 1, 1, 1, 1, 1, 1, 1]</td>\n",
              "    </tr>\n",
              "  </tbody>\n",
              "</table>\n",
              "</div>\n",
              "      <button class=\"colab-df-convert\" onclick=\"convertToInteractive('df-39457bed-2a73-49d1-add1-799414075ce6')\"\n",
              "              title=\"Convert this dataframe to an interactive table.\"\n",
              "              style=\"display:none;\">\n",
              "        \n",
              "  <svg xmlns=\"http://www.w3.org/2000/svg\" height=\"24px\"viewBox=\"0 0 24 24\"\n",
              "       width=\"24px\">\n",
              "    <path d=\"M0 0h24v24H0V0z\" fill=\"none\"/>\n",
              "    <path d=\"M18.56 5.44l.94 2.06.94-2.06 2.06-.94-2.06-.94-.94-2.06-.94 2.06-2.06.94zm-11 1L8.5 8.5l.94-2.06 2.06-.94-2.06-.94L8.5 2.5l-.94 2.06-2.06.94zm10 10l.94 2.06.94-2.06 2.06-.94-2.06-.94-.94-2.06-.94 2.06-2.06.94z\"/><path d=\"M17.41 7.96l-1.37-1.37c-.4-.4-.92-.59-1.43-.59-.52 0-1.04.2-1.43.59L10.3 9.45l-7.72 7.72c-.78.78-.78 2.05 0 2.83L4 21.41c.39.39.9.59 1.41.59.51 0 1.02-.2 1.41-.59l7.78-7.78 2.81-2.81c.8-.78.8-2.07 0-2.86zM5.41 20L4 18.59l7.72-7.72 1.47 1.35L5.41 20z\"/>\n",
              "  </svg>\n",
              "      </button>\n",
              "      \n",
              "  <style>\n",
              "    .colab-df-container {\n",
              "      display:flex;\n",
              "      flex-wrap:wrap;\n",
              "      gap: 12px;\n",
              "    }\n",
              "\n",
              "    .colab-df-convert {\n",
              "      background-color: #E8F0FE;\n",
              "      border: none;\n",
              "      border-radius: 50%;\n",
              "      cursor: pointer;\n",
              "      display: none;\n",
              "      fill: #1967D2;\n",
              "      height: 32px;\n",
              "      padding: 0 0 0 0;\n",
              "      width: 32px;\n",
              "    }\n",
              "\n",
              "    .colab-df-convert:hover {\n",
              "      background-color: #E2EBFA;\n",
              "      box-shadow: 0px 1px 2px rgba(60, 64, 67, 0.3), 0px 1px 3px 1px rgba(60, 64, 67, 0.15);\n",
              "      fill: #174EA6;\n",
              "    }\n",
              "\n",
              "    [theme=dark] .colab-df-convert {\n",
              "      background-color: #3B4455;\n",
              "      fill: #D2E3FC;\n",
              "    }\n",
              "\n",
              "    [theme=dark] .colab-df-convert:hover {\n",
              "      background-color: #434B5C;\n",
              "      box-shadow: 0px 1px 3px 1px rgba(0, 0, 0, 0.15);\n",
              "      filter: drop-shadow(0px 1px 2px rgba(0, 0, 0, 0.3));\n",
              "      fill: #FFFFFF;\n",
              "    }\n",
              "  </style>\n",
              "\n",
              "      <script>\n",
              "        const buttonEl =\n",
              "          document.querySelector('#df-39457bed-2a73-49d1-add1-799414075ce6 button.colab-df-convert');\n",
              "        buttonEl.style.display =\n",
              "          google.colab.kernel.accessAllowed ? 'block' : 'none';\n",
              "\n",
              "        async function convertToInteractive(key) {\n",
              "          const element = document.querySelector('#df-39457bed-2a73-49d1-add1-799414075ce6');\n",
              "          const dataTable =\n",
              "            await google.colab.kernel.invokeFunction('convertToInteractive',\n",
              "                                                     [key], {});\n",
              "          if (!dataTable) return;\n",
              "\n",
              "          const docLinkHtml = 'Like what you see? Visit the ' +\n",
              "            '<a target=\"_blank\" href=https://colab.research.google.com/notebooks/data_table.ipynb>data table notebook</a>'\n",
              "            + ' to learn more about interactive tables.';\n",
              "          element.innerHTML = '';\n",
              "          dataTable['output_type'] = 'display_data';\n",
              "          await google.colab.output.renderOutput(dataTable, element);\n",
              "          const docLink = document.createElement('div');\n",
              "          docLink.innerHTML = docLinkHtml;\n",
              "          element.appendChild(docLink);\n",
              "        }\n",
              "      </script>\n",
              "    </div>\n",
              "  </div>\n",
              "  "
            ]
          },
          "metadata": {},
          "execution_count": 21
        }
      ]
    },
    {
      "cell_type": "markdown",
      "source": [
        "#### task is to predict which anchor and target pair are talking about the same thing"
      ],
      "metadata": {
        "id": "br8KIMamIHEY"
      }
    },
    {
      "cell_type": "code",
      "source": [
        "tok_ds"
      ],
      "metadata": {
        "colab": {
          "base_uri": "https://localhost:8080/"
        },
        "id": "IPQqTSn9lv1f",
        "outputId": "a4aa6532-c811-448b-a089-6e3869af25df"
      },
      "execution_count": 22,
      "outputs": [
        {
          "output_type": "execute_result",
          "data": {
            "text/plain": [
              "Dataset({\n",
              "    features: ['id', 'anchor', 'target', 'context', 'score', 'input', 'input_ids', 'token_type_ids', 'attention_mask'],\n",
              "    num_rows: 36473\n",
              "})"
            ]
          },
          "metadata": {},
          "execution_count": 22
        }
      ]
    },
    {
      "cell_type": "code",
      "source": [
        "row = tok_ds[0]\n",
        "row['input'], row['input_ids'],row['token_type_ids']"
      ],
      "metadata": {
        "colab": {
          "base_uri": "https://localhost:8080/"
        },
        "id": "vmGV1DvgmPSv",
        "outputId": "519a8b3d-1714-46d1-d4a3-84250ad3a5b8"
      },
      "execution_count": 23,
      "outputs": [
        {
          "output_type": "execute_result",
          "data": {
            "text/plain": [
              "('TEXT1: A47; TEXT2: abatement of pollution; ANC1: abatement',\n",
              " [1,\n",
              "  54453,\n",
              "  435,\n",
              "  294,\n",
              "  336,\n",
              "  5753,\n",
              "  346,\n",
              "  54453,\n",
              "  445,\n",
              "  294,\n",
              "  47284,\n",
              "  265,\n",
              "  6435,\n",
              "  346,\n",
              "  23702,\n",
              "  435,\n",
              "  294,\n",
              "  47284,\n",
              "  2],\n",
              " [0, 0, 0, 0, 0, 0, 0, 0, 0, 0, 0, 0, 0, 0, 0, 0, 0, 0, 0])"
            ]
          },
          "metadata": {},
          "execution_count": 23
        }
      ]
    },
    {
      "cell_type": "code",
      "source": [
        "tokz.vocab['▁pollution']"
      ],
      "metadata": {
        "colab": {
          "base_uri": "https://localhost:8080/"
        },
        "id": "zEY5X7uXooYp",
        "outputId": "a9ad4846-da61-426f-b54d-03dff35523da"
      },
      "execution_count": 24,
      "outputs": [
        {
          "output_type": "execute_result",
          "data": {
            "text/plain": [
              "6435"
            ]
          },
          "metadata": {},
          "execution_count": 24
        }
      ]
    },
    {
      "cell_type": "markdown",
      "source": [
        "* Finally, we need to prepare our labels. Transformers always assumes that your labels has the column name labels, but in our dataset it's currently score. Therefore, we need to rename it:"
      ],
      "metadata": {
        "id": "EQI8l_bD2pcZ"
      }
    },
    {
      "cell_type": "code",
      "source": [
        "tok_ds"
      ],
      "metadata": {
        "colab": {
          "base_uri": "https://localhost:8080/"
        },
        "id": "hQBqowa93CSD",
        "outputId": "a821cecb-89bf-497f-fd70-002779b5928f"
      },
      "execution_count": 41,
      "outputs": [
        {
          "output_type": "execute_result",
          "data": {
            "text/plain": [
              "Dataset({\n",
              "    features: ['id', 'anchor', 'target', 'context', 'score', 'input', 'input_ids', 'token_type_ids', 'attention_mask'],\n",
              "    num_rows: 36473\n",
              "})"
            ]
          },
          "metadata": {},
          "execution_count": 41
        }
      ]
    },
    {
      "cell_type": "code",
      "source": [
        "tok_ds = tok_ds.rename_columns({'score':'labels'})"
      ],
      "metadata": {
        "id": "Wn9NLrrw0RGY"
      },
      "execution_count": 25,
      "outputs": []
    },
    {
      "cell_type": "code",
      "source": [
        "tok_ds"
      ],
      "metadata": {
        "colab": {
          "base_uri": "https://localhost:8080/"
        },
        "id": "gTYbaOr33ciY",
        "outputId": "c3dcc703-551d-483f-8db6-20ca85ca7117"
      },
      "execution_count": 26,
      "outputs": [
        {
          "output_type": "execute_result",
          "data": {
            "text/plain": [
              "Dataset({\n",
              "    features: ['id', 'anchor', 'target', 'context', 'labels', 'input', 'input_ids', 'token_type_ids', 'attention_mask'],\n",
              "    num_rows: 36473\n",
              "})"
            ]
          },
          "metadata": {},
          "execution_count": 26
        }
      ]
    },
    {
      "cell_type": "markdown",
      "source": [
        "## Test and validation sets"
      ],
      "metadata": {
        "id": "u56Oz00X3h92"
      }
    },
    {
      "cell_type": "code",
      "source": [
        "eval_df = pd.read_csv(path/'test.csv')\n",
        "eval_df.describe()"
      ],
      "metadata": {
        "colab": {
          "base_uri": "https://localhost:8080/",
          "height": 175
        },
        "id": "vpMq_yAV3eCy",
        "outputId": "2822370b-7c27-4a88-e95e-1936b2ec7198"
      },
      "execution_count": 27,
      "outputs": [
        {
          "output_type": "execute_result",
          "data": {
            "text/plain": [
              "                      id      anchor                         target context\n",
              "count                 36          36                             36      36\n",
              "unique                36          34                             36      29\n",
              "top     4112d61851461f60  el display  inorganic photoconductor drum     G02\n",
              "freq                   1           2                              1       3"
            ],
            "text/html": [
              "\n",
              "  <div id=\"df-b5afa205-b388-48be-8c33-abc50fac1524\">\n",
              "    <div class=\"colab-df-container\">\n",
              "      <div>\n",
              "<style scoped>\n",
              "    .dataframe tbody tr th:only-of-type {\n",
              "        vertical-align: middle;\n",
              "    }\n",
              "\n",
              "    .dataframe tbody tr th {\n",
              "        vertical-align: top;\n",
              "    }\n",
              "\n",
              "    .dataframe thead th {\n",
              "        text-align: right;\n",
              "    }\n",
              "</style>\n",
              "<table border=\"1\" class=\"dataframe\">\n",
              "  <thead>\n",
              "    <tr style=\"text-align: right;\">\n",
              "      <th></th>\n",
              "      <th>id</th>\n",
              "      <th>anchor</th>\n",
              "      <th>target</th>\n",
              "      <th>context</th>\n",
              "    </tr>\n",
              "  </thead>\n",
              "  <tbody>\n",
              "    <tr>\n",
              "      <th>count</th>\n",
              "      <td>36</td>\n",
              "      <td>36</td>\n",
              "      <td>36</td>\n",
              "      <td>36</td>\n",
              "    </tr>\n",
              "    <tr>\n",
              "      <th>unique</th>\n",
              "      <td>36</td>\n",
              "      <td>34</td>\n",
              "      <td>36</td>\n",
              "      <td>29</td>\n",
              "    </tr>\n",
              "    <tr>\n",
              "      <th>top</th>\n",
              "      <td>4112d61851461f60</td>\n",
              "      <td>el display</td>\n",
              "      <td>inorganic photoconductor drum</td>\n",
              "      <td>G02</td>\n",
              "    </tr>\n",
              "    <tr>\n",
              "      <th>freq</th>\n",
              "      <td>1</td>\n",
              "      <td>2</td>\n",
              "      <td>1</td>\n",
              "      <td>3</td>\n",
              "    </tr>\n",
              "  </tbody>\n",
              "</table>\n",
              "</div>\n",
              "      <button class=\"colab-df-convert\" onclick=\"convertToInteractive('df-b5afa205-b388-48be-8c33-abc50fac1524')\"\n",
              "              title=\"Convert this dataframe to an interactive table.\"\n",
              "              style=\"display:none;\">\n",
              "        \n",
              "  <svg xmlns=\"http://www.w3.org/2000/svg\" height=\"24px\"viewBox=\"0 0 24 24\"\n",
              "       width=\"24px\">\n",
              "    <path d=\"M0 0h24v24H0V0z\" fill=\"none\"/>\n",
              "    <path d=\"M18.56 5.44l.94 2.06.94-2.06 2.06-.94-2.06-.94-.94-2.06-.94 2.06-2.06.94zm-11 1L8.5 8.5l.94-2.06 2.06-.94-2.06-.94L8.5 2.5l-.94 2.06-2.06.94zm10 10l.94 2.06.94-2.06 2.06-.94-2.06-.94-.94-2.06-.94 2.06-2.06.94z\"/><path d=\"M17.41 7.96l-1.37-1.37c-.4-.4-.92-.59-1.43-.59-.52 0-1.04.2-1.43.59L10.3 9.45l-7.72 7.72c-.78.78-.78 2.05 0 2.83L4 21.41c.39.39.9.59 1.41.59.51 0 1.02-.2 1.41-.59l7.78-7.78 2.81-2.81c.8-.78.8-2.07 0-2.86zM5.41 20L4 18.59l7.72-7.72 1.47 1.35L5.41 20z\"/>\n",
              "  </svg>\n",
              "      </button>\n",
              "      \n",
              "  <style>\n",
              "    .colab-df-container {\n",
              "      display:flex;\n",
              "      flex-wrap:wrap;\n",
              "      gap: 12px;\n",
              "    }\n",
              "\n",
              "    .colab-df-convert {\n",
              "      background-color: #E8F0FE;\n",
              "      border: none;\n",
              "      border-radius: 50%;\n",
              "      cursor: pointer;\n",
              "      display: none;\n",
              "      fill: #1967D2;\n",
              "      height: 32px;\n",
              "      padding: 0 0 0 0;\n",
              "      width: 32px;\n",
              "    }\n",
              "\n",
              "    .colab-df-convert:hover {\n",
              "      background-color: #E2EBFA;\n",
              "      box-shadow: 0px 1px 2px rgba(60, 64, 67, 0.3), 0px 1px 3px 1px rgba(60, 64, 67, 0.15);\n",
              "      fill: #174EA6;\n",
              "    }\n",
              "\n",
              "    [theme=dark] .colab-df-convert {\n",
              "      background-color: #3B4455;\n",
              "      fill: #D2E3FC;\n",
              "    }\n",
              "\n",
              "    [theme=dark] .colab-df-convert:hover {\n",
              "      background-color: #434B5C;\n",
              "      box-shadow: 0px 1px 3px 1px rgba(0, 0, 0, 0.15);\n",
              "      filter: drop-shadow(0px 1px 2px rgba(0, 0, 0, 0.3));\n",
              "      fill: #FFFFFF;\n",
              "    }\n",
              "  </style>\n",
              "\n",
              "      <script>\n",
              "        const buttonEl =\n",
              "          document.querySelector('#df-b5afa205-b388-48be-8c33-abc50fac1524 button.colab-df-convert');\n",
              "        buttonEl.style.display =\n",
              "          google.colab.kernel.accessAllowed ? 'block' : 'none';\n",
              "\n",
              "        async function convertToInteractive(key) {\n",
              "          const element = document.querySelector('#df-b5afa205-b388-48be-8c33-abc50fac1524');\n",
              "          const dataTable =\n",
              "            await google.colab.kernel.invokeFunction('convertToInteractive',\n",
              "                                                     [key], {});\n",
              "          if (!dataTable) return;\n",
              "\n",
              "          const docLinkHtml = 'Like what you see? Visit the ' +\n",
              "            '<a target=\"_blank\" href=https://colab.research.google.com/notebooks/data_table.ipynb>data table notebook</a>'\n",
              "            + ' to learn more about interactive tables.';\n",
              "          element.innerHTML = '';\n",
              "          dataTable['output_type'] = 'display_data';\n",
              "          await google.colab.output.renderOutput(dataTable, element);\n",
              "          const docLink = document.createElement('div');\n",
              "          docLink.innerHTML = docLinkHtml;\n",
              "          element.appendChild(docLink);\n",
              "        }\n",
              "      </script>\n",
              "    </div>\n",
              "  </div>\n",
              "  "
            ]
          },
          "metadata": {},
          "execution_count": 27
        }
      ]
    },
    {
      "cell_type": "code",
      "source": [
        "dds = tok_ds.train_test_split(0.25, seed=42)\n",
        "dds"
      ],
      "metadata": {
        "colab": {
          "base_uri": "https://localhost:8080/"
        },
        "id": "DfRNbht13ljz",
        "outputId": "6380f678-b7bc-431d-e22d-1bba237c3a22"
      },
      "execution_count": 28,
      "outputs": [
        {
          "output_type": "execute_result",
          "data": {
            "text/plain": [
              "DatasetDict({\n",
              "    train: Dataset({\n",
              "        features: ['id', 'anchor', 'target', 'context', 'labels', 'input', 'input_ids', 'token_type_ids', 'attention_mask'],\n",
              "        num_rows: 27354\n",
              "    })\n",
              "    test: Dataset({\n",
              "        features: ['id', 'anchor', 'target', 'context', 'labels', 'input', 'input_ids', 'token_type_ids', 'attention_mask'],\n",
              "        num_rows: 9119\n",
              "    })\n",
              "})"
            ]
          },
          "metadata": {},
          "execution_count": 28
        }
      ]
    },
    {
      "cell_type": "markdown",
      "source": [
        "## Test Set"
      ],
      "metadata": {
        "id": "Y9Lr7A9gpUwc"
      }
    },
    {
      "cell_type": "code",
      "source": [
        "eval_df['input'] = 'TEXT1: ' + eval_df.context + '; TEXT2: ' + eval_df.target + '; ANC1: ' + eval_df.anchor\n",
        "eval_ds = Dataset.from_pandas(eval_df).map(tok_func, batched=True)"
      ],
      "metadata": {
        "colab": {
          "base_uri": "https://localhost:8080/",
          "height": 49,
          "referenced_widgets": [
            "5b11249949c0493695c160ddf88e85df",
            "8e924c2026fe4f418b741869fcc9e9c9",
            "f4e2c17f5aae455db3f30712061f9d6f",
            "8ebc419002fa4f69be3b5fd879bf19cd",
            "b819999a45514ec7bcc471f0c4c38ce7",
            "dedef43df6d74189b3d8b68c4a5b454d",
            "5096fbcfaafb4cedb15a2ff161adb92b",
            "2fad4b1225684b4f8990b5ef681cdf0b",
            "becbbcb1b59c492a9ce7bd201893cc71",
            "ac87018dbe0244ed9763f3edb7b64d51",
            "3a54d80988bd410da9f1d55dd78a3513"
          ]
        },
        "id": "0n-HTHwapWLT",
        "outputId": "7b6e543b-ec87-4705-dd52-aae364f64de9"
      },
      "execution_count": 29,
      "outputs": [
        {
          "output_type": "display_data",
          "data": {
            "text/plain": [
              "  0%|          | 0/1 [00:00<?, ?ba/s]"
            ],
            "application/vnd.jupyter.widget-view+json": {
              "version_major": 2,
              "version_minor": 0,
              "model_id": "5b11249949c0493695c160ddf88e85df"
            }
          },
          "metadata": {}
        }
      ]
    },
    {
      "cell_type": "code",
      "source": [
        "eval_ds"
      ],
      "metadata": {
        "colab": {
          "base_uri": "https://localhost:8080/"
        },
        "id": "IKfzY2sKqfU7",
        "outputId": "484c4c5d-e4d7-4816-f374-479bc70acc97"
      },
      "execution_count": 30,
      "outputs": [
        {
          "output_type": "execute_result",
          "data": {
            "text/plain": [
              "Dataset({\n",
              "    features: ['id', 'anchor', 'target', 'context', 'input', 'input_ids', 'token_type_ids', 'attention_mask'],\n",
              "    num_rows: 36\n",
              "})"
            ]
          },
          "metadata": {},
          "execution_count": 30
        }
      ]
    },
    {
      "cell_type": "markdown",
      "source": [
        "* Transformers expects metrics to be returned as a dict, since that way the trainer knows what label to use, so let's create a function to do that:"
      ],
      "metadata": {
        "id": "uB5n2iHiquN8"
      }
    },
    {
      "cell_type": "code",
      "source": [
        "def corr(x,y):\n",
        "  return np.corrcoef(x,y)[0][1]\n",
        "def corr_d(eval_pred):\n",
        "  return {'pearson': corr(*eval_pred)}"
      ],
      "metadata": {
        "id": "qbKh-gczqvSq"
      },
      "execution_count": 31,
      "outputs": []
    },
    {
      "cell_type": "code",
      "source": [
        "def show_corr(df, a, b):\n",
        "    x,y = df[a],df[b]\n",
        "    plt.scatter(x,y, alpha=0.5, s=4)\n",
        "    plt.title(f'{a} vs {b}; r: {corr(x, y):.2f}')"
      ],
      "metadata": {
        "id": "SU8_MFJOq-cv"
      },
      "execution_count": 32,
      "outputs": []
    },
    {
      "cell_type": "markdown",
      "source": [
        "## Training the model"
      ],
      "metadata": {
        "id": "F8bNWG8crBUu"
      }
    },
    {
      "cell_type": "code",
      "source": [
        "from transformers import TrainingArguments,Trainer"
      ],
      "metadata": {
        "id": "WEZv5TMKrDjs"
      },
      "execution_count": 33,
      "outputs": []
    },
    {
      "cell_type": "code",
      "source": [
        "bs = 128\n",
        "epochs = 4\n",
        "lr = 8e-5"
      ],
      "metadata": {
        "id": "2NpIwzndrTXQ"
      },
      "execution_count": 34,
      "outputs": []
    },
    {
      "cell_type": "code",
      "source": [
        "args = TrainingArguments('outputs', \n",
        "                         learning_rate=lr, \n",
        "                         warmup_ratio=0.1, \n",
        "                         lr_scheduler_type='cosine', \n",
        "                         fp16=True,\n",
        "                         evaluation_strategy=\"epoch\", \n",
        "                         per_device_train_batch_size=bs, \n",
        "                         per_device_eval_batch_size=bs*2,\n",
        "                         num_train_epochs=epochs, \n",
        "                         weight_decay=0.01, \n",
        "                         report_to='none')"
      ],
      "metadata": {
        "id": "fvEsTp0zrYd9"
      },
      "execution_count": 35,
      "outputs": []
    },
    {
      "cell_type": "markdown",
      "source": [
        "* in this case it is being treated as a regression problem hence num_labels =1\n"
      ],
      "metadata": {
        "id": "T6_wE08T1CMJ"
      }
    },
    {
      "cell_type": "code",
      "source": [
        "model = AutoModelForSequenceClassification.from_pretrained(model_nm, num_labels=1)\n"
      ],
      "metadata": {
        "colab": {
          "base_uri": "https://localhost:8080/"
        },
        "id": "JzOQhyLLrkkZ",
        "outputId": "ff69c58a-1a32-4503-9523-311a33d0c55a"
      },
      "execution_count": 36,
      "outputs": [
        {
          "output_type": "stream",
          "name": "stderr",
          "text": [
            "Some weights of the model checkpoint at microsoft/deberta-v3-small were not used when initializing DebertaV2ForSequenceClassification: ['lm_predictions.lm_head.bias', 'lm_predictions.lm_head.dense.weight', 'mask_predictions.LayerNorm.bias', 'mask_predictions.classifier.weight', 'lm_predictions.lm_head.LayerNorm.bias', 'mask_predictions.dense.bias', 'mask_predictions.classifier.bias', 'mask_predictions.dense.weight', 'mask_predictions.LayerNorm.weight', 'lm_predictions.lm_head.dense.bias', 'lm_predictions.lm_head.LayerNorm.weight']\n",
            "- This IS expected if you are initializing DebertaV2ForSequenceClassification from the checkpoint of a model trained on another task or with another architecture (e.g. initializing a BertForSequenceClassification model from a BertForPreTraining model).\n",
            "- This IS NOT expected if you are initializing DebertaV2ForSequenceClassification from the checkpoint of a model that you expect to be exactly identical (initializing a BertForSequenceClassification model from a BertForSequenceClassification model).\n",
            "Some weights of DebertaV2ForSequenceClassification were not initialized from the model checkpoint at microsoft/deberta-v3-small and are newly initialized: ['pooler.dense.bias', 'pooler.dense.weight', 'classifier.weight', 'classifier.bias']\n",
            "You should probably TRAIN this model on a down-stream task to be able to use it for predictions and inference.\n"
          ]
        }
      ]
    },
    {
      "cell_type": "code",
      "source": [
        "trainer = Trainer(model, \n",
        "                  args, \n",
        "                  train_dataset=dds['train'], \n",
        "                  eval_dataset=dds['test'],\n",
        "                  tokenizer=tokz,\n",
        "                  compute_metrics=corr_d)"
      ],
      "metadata": {
        "colab": {
          "base_uri": "https://localhost:8080/"
        },
        "id": "dsYBQV9brzUL",
        "outputId": "89d3463d-4d22-438d-e24a-99112d0148b8"
      },
      "execution_count": 38,
      "outputs": [
        {
          "output_type": "stream",
          "name": "stderr",
          "text": [
            "Using cuda_amp half precision backend\n"
          ]
        }
      ]
    },
    {
      "cell_type": "code",
      "source": [
        "trainer.train()"
      ],
      "metadata": {
        "colab": {
          "base_uri": "https://localhost:8080/",
          "height": 1000
        },
        "id": "4qoScEOzr4_M",
        "outputId": "831e1161-5438-4c93-efe7-cb33cfc662ff"
      },
      "execution_count": 39,
      "outputs": [
        {
          "output_type": "stream",
          "name": "stderr",
          "text": [
            "The following columns in the training set don't have a corresponding argument in `DebertaV2ForSequenceClassification.forward` and have been ignored: anchor, target, input, id, context. If anchor, target, input, id, context are not expected by `DebertaV2ForSequenceClassification.forward`,  you can safely ignore this message.\n",
            "/usr/local/lib/python3.7/dist-packages/transformers/optimization.py:310: FutureWarning: This implementation of AdamW is deprecated and will be removed in a future version. Use the PyTorch implementation torch.optim.AdamW instead, or set `no_deprecation_warning=True` to disable this warning\n",
            "  FutureWarning,\n",
            "***** Running training *****\n",
            "  Num examples = 27354\n",
            "  Num Epochs = 4\n",
            "  Instantaneous batch size per device = 128\n",
            "  Total train batch size (w. parallel, distributed & accumulation) = 128\n",
            "  Gradient Accumulation steps = 1\n",
            "  Total optimization steps = 856\n",
            "You're using a DebertaV2TokenizerFast tokenizer. Please note that with a fast tokenizer, using the `__call__` method is faster than using a method to encode the text followed by a call to the `pad` method to get a padded encoding.\n",
            "/usr/local/lib/python3.7/dist-packages/transformers/models/deberta_v2/modeling_deberta_v2.py:746: UserWarning: To copy construct from a tensor, it is recommended to use sourceTensor.clone().detach() or sourceTensor.clone().detach().requires_grad_(True), rather than torch.tensor(sourceTensor).\n",
            "  scale, dtype=query_layer.dtype\n",
            "/usr/local/lib/python3.7/dist-packages/transformers/models/deberta_v2/modeling_deberta_v2.py:829: UserWarning: To copy construct from a tensor, it is recommended to use sourceTensor.clone().detach() or sourceTensor.clone().detach().requires_grad_(True), rather than torch.tensor(sourceTensor).\n",
            "  score += c2p_att / torch.tensor(scale, dtype=c2p_att.dtype)\n",
            "/usr/local/lib/python3.7/dist-packages/transformers/models/deberta_v2/modeling_deberta_v2.py:852: UserWarning: To copy construct from a tensor, it is recommended to use sourceTensor.clone().detach() or sourceTensor.clone().detach().requires_grad_(True), rather than torch.tensor(sourceTensor).\n",
            "  score += p2c_att / torch.tensor(scale, dtype=p2c_att.dtype)\n"
          ]
        },
        {
          "output_type": "display_data",
          "data": {
            "text/plain": [
              "<IPython.core.display.HTML object>"
            ],
            "text/html": [
              "\n",
              "    <div>\n",
              "      \n",
              "      <progress value='856' max='856' style='width:300px; height:20px; vertical-align: middle;'></progress>\n",
              "      [856/856 04:40, Epoch 4/4]\n",
              "    </div>\n",
              "    <table border=\"1\" class=\"dataframe\">\n",
              "  <thead>\n",
              " <tr style=\"text-align: left;\">\n",
              "      <th>Epoch</th>\n",
              "      <th>Training Loss</th>\n",
              "      <th>Validation Loss</th>\n",
              "      <th>Pearson</th>\n",
              "    </tr>\n",
              "  </thead>\n",
              "  <tbody>\n",
              "    <tr>\n",
              "      <td>1</td>\n",
              "      <td>No log</td>\n",
              "      <td>0.026049</td>\n",
              "      <td>0.798084</td>\n",
              "    </tr>\n",
              "    <tr>\n",
              "      <td>2</td>\n",
              "      <td>No log</td>\n",
              "      <td>0.024597</td>\n",
              "      <td>0.822589</td>\n",
              "    </tr>\n",
              "    <tr>\n",
              "      <td>3</td>\n",
              "      <td>0.036400</td>\n",
              "      <td>0.023750</td>\n",
              "      <td>0.830213</td>\n",
              "    </tr>\n",
              "    <tr>\n",
              "      <td>4</td>\n",
              "      <td>0.036400</td>\n",
              "      <td>0.022939</td>\n",
              "      <td>0.832610</td>\n",
              "    </tr>\n",
              "  </tbody>\n",
              "</table><p>"
            ]
          },
          "metadata": {}
        },
        {
          "output_type": "stream",
          "name": "stderr",
          "text": [
            "The following columns in the evaluation set don't have a corresponding argument in `DebertaV2ForSequenceClassification.forward` and have been ignored: anchor, target, input, id, context. If anchor, target, input, id, context are not expected by `DebertaV2ForSequenceClassification.forward`,  you can safely ignore this message.\n",
            "***** Running Evaluation *****\n",
            "  Num examples = 9119\n",
            "  Batch size = 256\n",
            "The following columns in the evaluation set don't have a corresponding argument in `DebertaV2ForSequenceClassification.forward` and have been ignored: anchor, target, input, id, context. If anchor, target, input, id, context are not expected by `DebertaV2ForSequenceClassification.forward`,  you can safely ignore this message.\n",
            "***** Running Evaluation *****\n",
            "  Num examples = 9119\n",
            "  Batch size = 256\n",
            "Saving model checkpoint to outputs/checkpoint-500\n",
            "Configuration saved in outputs/checkpoint-500/config.json\n",
            "Model weights saved in outputs/checkpoint-500/pytorch_model.bin\n",
            "tokenizer config file saved in outputs/checkpoint-500/tokenizer_config.json\n",
            "Special tokens file saved in outputs/checkpoint-500/special_tokens_map.json\n",
            "/usr/local/lib/python3.7/dist-packages/transformers/models/deberta_v2/modeling_deberta_v2.py:746: UserWarning: To copy construct from a tensor, it is recommended to use sourceTensor.clone().detach() or sourceTensor.clone().detach().requires_grad_(True), rather than torch.tensor(sourceTensor).\n",
            "  scale, dtype=query_layer.dtype\n",
            "/usr/local/lib/python3.7/dist-packages/transformers/models/deberta_v2/modeling_deberta_v2.py:829: UserWarning: To copy construct from a tensor, it is recommended to use sourceTensor.clone().detach() or sourceTensor.clone().detach().requires_grad_(True), rather than torch.tensor(sourceTensor).\n",
            "  score += c2p_att / torch.tensor(scale, dtype=c2p_att.dtype)\n",
            "/usr/local/lib/python3.7/dist-packages/transformers/models/deberta_v2/modeling_deberta_v2.py:852: UserWarning: To copy construct from a tensor, it is recommended to use sourceTensor.clone().detach() or sourceTensor.clone().detach().requires_grad_(True), rather than torch.tensor(sourceTensor).\n",
            "  score += p2c_att / torch.tensor(scale, dtype=p2c_att.dtype)\n",
            "The following columns in the evaluation set don't have a corresponding argument in `DebertaV2ForSequenceClassification.forward` and have been ignored: anchor, target, input, id, context. If anchor, target, input, id, context are not expected by `DebertaV2ForSequenceClassification.forward`,  you can safely ignore this message.\n",
            "***** Running Evaluation *****\n",
            "  Num examples = 9119\n",
            "  Batch size = 256\n",
            "The following columns in the evaluation set don't have a corresponding argument in `DebertaV2ForSequenceClassification.forward` and have been ignored: anchor, target, input, id, context. If anchor, target, input, id, context are not expected by `DebertaV2ForSequenceClassification.forward`,  you can safely ignore this message.\n",
            "***** Running Evaluation *****\n",
            "  Num examples = 9119\n",
            "  Batch size = 256\n",
            "\n",
            "\n",
            "Training completed. Do not forget to share your model on huggingface.co/models =)\n",
            "\n",
            "\n"
          ]
        },
        {
          "output_type": "execute_result",
          "data": {
            "text/plain": [
              "TrainOutput(global_step=856, training_loss=0.026862074281567724, metrics={'train_runtime': 283.5557, 'train_samples_per_second': 385.871, 'train_steps_per_second': 3.019, 'total_flos': 716605488222960.0, 'train_loss': 0.026862074281567724, 'epoch': 4.0})"
            ]
          },
          "metadata": {},
          "execution_count": 39
        }
      ]
    },
    {
      "cell_type": "markdown",
      "source": [
        "## Make Predictions"
      ],
      "metadata": {
        "id": "KGbovsNMvSzo"
      }
    },
    {
      "cell_type": "code",
      "source": [
        "preds = trainer.predict(eval_ds).predictions.astype(float)\n",
        "print(type(preds))"
      ],
      "metadata": {
        "colab": {
          "base_uri": "https://localhost:8080/",
          "height": 124
        },
        "id": "B0bI7z7MsGu7",
        "outputId": "4d918e33-abad-4feb-b014-30257b05b66b"
      },
      "execution_count": 40,
      "outputs": [
        {
          "output_type": "stream",
          "name": "stderr",
          "text": [
            "The following columns in the test set don't have a corresponding argument in `DebertaV2ForSequenceClassification.forward` and have been ignored: anchor, target, input, id, context. If anchor, target, input, id, context are not expected by `DebertaV2ForSequenceClassification.forward`,  you can safely ignore this message.\n",
            "***** Running Prediction *****\n",
            "  Num examples = 36\n",
            "  Batch size = 256\n"
          ]
        },
        {
          "output_type": "display_data",
          "data": {
            "text/plain": [
              "<IPython.core.display.HTML object>"
            ],
            "text/html": []
          },
          "metadata": {}
        },
        {
          "output_type": "stream",
          "name": "stdout",
          "text": [
            "<class 'numpy.ndarray'>\n"
          ]
        }
      ]
    },
    {
      "cell_type": "code",
      "source": [
        "preds"
      ],
      "metadata": {
        "colab": {
          "base_uri": "https://localhost:8080/"
        },
        "id": "qWFmhlu7t7Mc",
        "outputId": "490a20f9-a739-477a-f116-bda805ba1d0d"
      },
      "execution_count": 41,
      "outputs": [
        {
          "output_type": "execute_result",
          "data": {
            "text/plain": [
              "array([[ 0.53369141],\n",
              "       [ 0.671875  ],\n",
              "       [ 0.59619141],\n",
              "       [ 0.34960938],\n",
              "       [-0.04095459],\n",
              "       [ 0.5546875 ],\n",
              "       [ 0.53320312],\n",
              "       [ 0.02990723],\n",
              "       [ 0.26025391],\n",
              "       [ 1.09863281],\n",
              "       [ 0.24206543],\n",
              "       [ 0.27197266],\n",
              "       [ 0.79492188],\n",
              "       [ 0.95800781],\n",
              "       [ 0.77246094],\n",
              "       [ 0.578125  ],\n",
              "       [ 0.28857422],\n",
              "       [-0.01110077],\n",
              "       [ 0.65380859],\n",
              "       [ 0.38549805],\n",
              "       [ 0.49267578],\n",
              "       [ 0.28320312],\n",
              "       [ 0.18579102],\n",
              "       [ 0.2434082 ],\n",
              "       [ 0.58056641],\n",
              "       [-0.04116821],\n",
              "       [-0.03625488],\n",
              "       [-0.0329895 ],\n",
              "       [-0.02307129],\n",
              "       [ 0.578125  ],\n",
              "       [ 0.3203125 ],\n",
              "       [ 0.04769897],\n",
              "       [ 0.76171875],\n",
              "       [ 0.53320312],\n",
              "       [ 0.49658203],\n",
              "       [ 0.22998047]])"
            ]
          },
          "metadata": {},
          "execution_count": 41
        }
      ]
    },
    {
      "cell_type": "markdown",
      "source": [
        "* some of our predictions are <0, or >1\n",
        "* fixing the boundary predictions"
      ],
      "metadata": {
        "id": "OfQ4-lLCudu_"
      }
    },
    {
      "cell_type": "code",
      "source": [
        "preds = np.clip(preds, 0, 1)"
      ],
      "metadata": {
        "id": "Uj3Ay6-7t730"
      },
      "execution_count": 42,
      "outputs": []
    },
    {
      "cell_type": "code",
      "source": [
        "preds"
      ],
      "metadata": {
        "colab": {
          "base_uri": "https://localhost:8080/"
        },
        "id": "jSvUuZP-ukaj",
        "outputId": "1097f0dd-31eb-4f2a-f600-0860816a03dc"
      },
      "execution_count": 43,
      "outputs": [
        {
          "output_type": "execute_result",
          "data": {
            "text/plain": [
              "array([[0.53369141],\n",
              "       [0.671875  ],\n",
              "       [0.59619141],\n",
              "       [0.34960938],\n",
              "       [0.        ],\n",
              "       [0.5546875 ],\n",
              "       [0.53320312],\n",
              "       [0.02990723],\n",
              "       [0.26025391],\n",
              "       [1.        ],\n",
              "       [0.24206543],\n",
              "       [0.27197266],\n",
              "       [0.79492188],\n",
              "       [0.95800781],\n",
              "       [0.77246094],\n",
              "       [0.578125  ],\n",
              "       [0.28857422],\n",
              "       [0.        ],\n",
              "       [0.65380859],\n",
              "       [0.38549805],\n",
              "       [0.49267578],\n",
              "       [0.28320312],\n",
              "       [0.18579102],\n",
              "       [0.2434082 ],\n",
              "       [0.58056641],\n",
              "       [0.        ],\n",
              "       [0.        ],\n",
              "       [0.        ],\n",
              "       [0.        ],\n",
              "       [0.578125  ],\n",
              "       [0.3203125 ],\n",
              "       [0.04769897],\n",
              "       [0.76171875],\n",
              "       [0.53320312],\n",
              "       [0.49658203],\n",
              "       [0.22998047]])"
            ]
          },
          "metadata": {},
          "execution_count": 43
        }
      ]
    },
    {
      "cell_type": "code",
      "source": [
        "preds.shape"
      ],
      "metadata": {
        "colab": {
          "base_uri": "https://localhost:8080/"
        },
        "id": "C-EjRmajuk50",
        "outputId": "ef5d7e11-8ef6-45a7-c43a-d4dab855be37"
      },
      "execution_count": 44,
      "outputs": [
        {
          "output_type": "execute_result",
          "data": {
            "text/plain": [
              "(36, 1)"
            ]
          },
          "metadata": {},
          "execution_count": 44
        }
      ]
    },
    {
      "cell_type": "code",
      "source": [
        "eval_df.head()"
      ],
      "metadata": {
        "colab": {
          "base_uri": "https://localhost:8080/",
          "height": 206
        },
        "id": "v6M6v98XvHzW",
        "outputId": "41c727da-8b14-48ae-a3ba-76b91b18fc77"
      },
      "execution_count": 45,
      "outputs": [
        {
          "output_type": "execute_result",
          "data": {
            "text/plain": [
              "                 id              anchor                         target  \\\n",
              "0  4112d61851461f60            opc drum  inorganic photoconductor drum   \n",
              "1  09e418c93a776564     adjust gas flow              altering gas flow   \n",
              "2  36baf228038e314b      lower trunnion                 lower locating   \n",
              "3  1f37ead645e7f0c8       cap component                  upper portion   \n",
              "4  71a5b6ad068d531f  neural stimulation      artificial neural network   \n",
              "\n",
              "  context  \\\n",
              "0     G02   \n",
              "1     F23   \n",
              "2     B60   \n",
              "3     D06   \n",
              "4     H04   \n",
              "\n",
              "                                                                    input  \n",
              "0        TEXT1: G02; TEXT2: inorganic photoconductor drum; ANC1: opc drum  \n",
              "1             TEXT1: F23; TEXT2: altering gas flow; ANC1: adjust gas flow  \n",
              "2                 TEXT1: B60; TEXT2: lower locating; ANC1: lower trunnion  \n",
              "3                   TEXT1: D06; TEXT2: upper portion; ANC1: cap component  \n",
              "4  TEXT1: H04; TEXT2: artificial neural network; ANC1: neural stimulation  "
            ],
            "text/html": [
              "\n",
              "  <div id=\"df-6dccb9a6-4b08-4d1d-8b2f-b5d562e73e87\">\n",
              "    <div class=\"colab-df-container\">\n",
              "      <div>\n",
              "<style scoped>\n",
              "    .dataframe tbody tr th:only-of-type {\n",
              "        vertical-align: middle;\n",
              "    }\n",
              "\n",
              "    .dataframe tbody tr th {\n",
              "        vertical-align: top;\n",
              "    }\n",
              "\n",
              "    .dataframe thead th {\n",
              "        text-align: right;\n",
              "    }\n",
              "</style>\n",
              "<table border=\"1\" class=\"dataframe\">\n",
              "  <thead>\n",
              "    <tr style=\"text-align: right;\">\n",
              "      <th></th>\n",
              "      <th>id</th>\n",
              "      <th>anchor</th>\n",
              "      <th>target</th>\n",
              "      <th>context</th>\n",
              "      <th>input</th>\n",
              "    </tr>\n",
              "  </thead>\n",
              "  <tbody>\n",
              "    <tr>\n",
              "      <th>0</th>\n",
              "      <td>4112d61851461f60</td>\n",
              "      <td>opc drum</td>\n",
              "      <td>inorganic photoconductor drum</td>\n",
              "      <td>G02</td>\n",
              "      <td>TEXT1: G02; TEXT2: inorganic photoconductor drum; ANC1: opc drum</td>\n",
              "    </tr>\n",
              "    <tr>\n",
              "      <th>1</th>\n",
              "      <td>09e418c93a776564</td>\n",
              "      <td>adjust gas flow</td>\n",
              "      <td>altering gas flow</td>\n",
              "      <td>F23</td>\n",
              "      <td>TEXT1: F23; TEXT2: altering gas flow; ANC1: adjust gas flow</td>\n",
              "    </tr>\n",
              "    <tr>\n",
              "      <th>2</th>\n",
              "      <td>36baf228038e314b</td>\n",
              "      <td>lower trunnion</td>\n",
              "      <td>lower locating</td>\n",
              "      <td>B60</td>\n",
              "      <td>TEXT1: B60; TEXT2: lower locating; ANC1: lower trunnion</td>\n",
              "    </tr>\n",
              "    <tr>\n",
              "      <th>3</th>\n",
              "      <td>1f37ead645e7f0c8</td>\n",
              "      <td>cap component</td>\n",
              "      <td>upper portion</td>\n",
              "      <td>D06</td>\n",
              "      <td>TEXT1: D06; TEXT2: upper portion; ANC1: cap component</td>\n",
              "    </tr>\n",
              "    <tr>\n",
              "      <th>4</th>\n",
              "      <td>71a5b6ad068d531f</td>\n",
              "      <td>neural stimulation</td>\n",
              "      <td>artificial neural network</td>\n",
              "      <td>H04</td>\n",
              "      <td>TEXT1: H04; TEXT2: artificial neural network; ANC1: neural stimulation</td>\n",
              "    </tr>\n",
              "  </tbody>\n",
              "</table>\n",
              "</div>\n",
              "      <button class=\"colab-df-convert\" onclick=\"convertToInteractive('df-6dccb9a6-4b08-4d1d-8b2f-b5d562e73e87')\"\n",
              "              title=\"Convert this dataframe to an interactive table.\"\n",
              "              style=\"display:none;\">\n",
              "        \n",
              "  <svg xmlns=\"http://www.w3.org/2000/svg\" height=\"24px\"viewBox=\"0 0 24 24\"\n",
              "       width=\"24px\">\n",
              "    <path d=\"M0 0h24v24H0V0z\" fill=\"none\"/>\n",
              "    <path d=\"M18.56 5.44l.94 2.06.94-2.06 2.06-.94-2.06-.94-.94-2.06-.94 2.06-2.06.94zm-11 1L8.5 8.5l.94-2.06 2.06-.94-2.06-.94L8.5 2.5l-.94 2.06-2.06.94zm10 10l.94 2.06.94-2.06 2.06-.94-2.06-.94-.94-2.06-.94 2.06-2.06.94z\"/><path d=\"M17.41 7.96l-1.37-1.37c-.4-.4-.92-.59-1.43-.59-.52 0-1.04.2-1.43.59L10.3 9.45l-7.72 7.72c-.78.78-.78 2.05 0 2.83L4 21.41c.39.39.9.59 1.41.59.51 0 1.02-.2 1.41-.59l7.78-7.78 2.81-2.81c.8-.78.8-2.07 0-2.86zM5.41 20L4 18.59l7.72-7.72 1.47 1.35L5.41 20z\"/>\n",
              "  </svg>\n",
              "      </button>\n",
              "      \n",
              "  <style>\n",
              "    .colab-df-container {\n",
              "      display:flex;\n",
              "      flex-wrap:wrap;\n",
              "      gap: 12px;\n",
              "    }\n",
              "\n",
              "    .colab-df-convert {\n",
              "      background-color: #E8F0FE;\n",
              "      border: none;\n",
              "      border-radius: 50%;\n",
              "      cursor: pointer;\n",
              "      display: none;\n",
              "      fill: #1967D2;\n",
              "      height: 32px;\n",
              "      padding: 0 0 0 0;\n",
              "      width: 32px;\n",
              "    }\n",
              "\n",
              "    .colab-df-convert:hover {\n",
              "      background-color: #E2EBFA;\n",
              "      box-shadow: 0px 1px 2px rgba(60, 64, 67, 0.3), 0px 1px 3px 1px rgba(60, 64, 67, 0.15);\n",
              "      fill: #174EA6;\n",
              "    }\n",
              "\n",
              "    [theme=dark] .colab-df-convert {\n",
              "      background-color: #3B4455;\n",
              "      fill: #D2E3FC;\n",
              "    }\n",
              "\n",
              "    [theme=dark] .colab-df-convert:hover {\n",
              "      background-color: #434B5C;\n",
              "      box-shadow: 0px 1px 3px 1px rgba(0, 0, 0, 0.15);\n",
              "      filter: drop-shadow(0px 1px 2px rgba(0, 0, 0, 0.3));\n",
              "      fill: #FFFFFF;\n",
              "    }\n",
              "  </style>\n",
              "\n",
              "      <script>\n",
              "        const buttonEl =\n",
              "          document.querySelector('#df-6dccb9a6-4b08-4d1d-8b2f-b5d562e73e87 button.colab-df-convert');\n",
              "        buttonEl.style.display =\n",
              "          google.colab.kernel.accessAllowed ? 'block' : 'none';\n",
              "\n",
              "        async function convertToInteractive(key) {\n",
              "          const element = document.querySelector('#df-6dccb9a6-4b08-4d1d-8b2f-b5d562e73e87');\n",
              "          const dataTable =\n",
              "            await google.colab.kernel.invokeFunction('convertToInteractive',\n",
              "                                                     [key], {});\n",
              "          if (!dataTable) return;\n",
              "\n",
              "          const docLinkHtml = 'Like what you see? Visit the ' +\n",
              "            '<a target=\"_blank\" href=https://colab.research.google.com/notebooks/data_table.ipynb>data table notebook</a>'\n",
              "            + ' to learn more about interactive tables.';\n",
              "          element.innerHTML = '';\n",
              "          dataTable['output_type'] = 'display_data';\n",
              "          await google.colab.output.renderOutput(dataTable, element);\n",
              "          const docLink = document.createElement('div');\n",
              "          docLink.innerHTML = docLinkHtml;\n",
              "          element.appendChild(docLink);\n",
              "        }\n",
              "      </script>\n",
              "    </div>\n",
              "  </div>\n",
              "  "
            ]
          },
          "metadata": {},
          "execution_count": 45
        }
      ]
    },
    {
      "cell_type": "code",
      "source": [
        "eval_df['score'] = preds"
      ],
      "metadata": {
        "id": "vvTIPZHruoas"
      },
      "execution_count": 46,
      "outputs": []
    },
    {
      "cell_type": "code",
      "source": [
        "eval_df.head()"
      ],
      "metadata": {
        "colab": {
          "base_uri": "https://localhost:8080/",
          "height": 250
        },
        "id": "nJHXb4PzvNmk",
        "outputId": "610738f8-a30c-48c6-b86b-4695b5fb960a"
      },
      "execution_count": 47,
      "outputs": [
        {
          "output_type": "execute_result",
          "data": {
            "text/plain": [
              "                 id              anchor                         target  \\\n",
              "0  4112d61851461f60            opc drum  inorganic photoconductor drum   \n",
              "1  09e418c93a776564     adjust gas flow              altering gas flow   \n",
              "2  36baf228038e314b      lower trunnion                 lower locating   \n",
              "3  1f37ead645e7f0c8       cap component                  upper portion   \n",
              "4  71a5b6ad068d531f  neural stimulation      artificial neural network   \n",
              "\n",
              "  context  \\\n",
              "0     G02   \n",
              "1     F23   \n",
              "2     B60   \n",
              "3     D06   \n",
              "4     H04   \n",
              "\n",
              "                                                                    input  \\\n",
              "0        TEXT1: G02; TEXT2: inorganic photoconductor drum; ANC1: opc drum   \n",
              "1             TEXT1: F23; TEXT2: altering gas flow; ANC1: adjust gas flow   \n",
              "2                 TEXT1: B60; TEXT2: lower locating; ANC1: lower trunnion   \n",
              "3                   TEXT1: D06; TEXT2: upper portion; ANC1: cap component   \n",
              "4  TEXT1: H04; TEXT2: artificial neural network; ANC1: neural stimulation   \n",
              "\n",
              "      score  \n",
              "0  0.533691  \n",
              "1  0.671875  \n",
              "2  0.596191  \n",
              "3  0.349609  \n",
              "4  0.000000  "
            ],
            "text/html": [
              "\n",
              "  <div id=\"df-b47a0892-5e4a-4251-b466-1bf2c956026d\">\n",
              "    <div class=\"colab-df-container\">\n",
              "      <div>\n",
              "<style scoped>\n",
              "    .dataframe tbody tr th:only-of-type {\n",
              "        vertical-align: middle;\n",
              "    }\n",
              "\n",
              "    .dataframe tbody tr th {\n",
              "        vertical-align: top;\n",
              "    }\n",
              "\n",
              "    .dataframe thead th {\n",
              "        text-align: right;\n",
              "    }\n",
              "</style>\n",
              "<table border=\"1\" class=\"dataframe\">\n",
              "  <thead>\n",
              "    <tr style=\"text-align: right;\">\n",
              "      <th></th>\n",
              "      <th>id</th>\n",
              "      <th>anchor</th>\n",
              "      <th>target</th>\n",
              "      <th>context</th>\n",
              "      <th>input</th>\n",
              "      <th>score</th>\n",
              "    </tr>\n",
              "  </thead>\n",
              "  <tbody>\n",
              "    <tr>\n",
              "      <th>0</th>\n",
              "      <td>4112d61851461f60</td>\n",
              "      <td>opc drum</td>\n",
              "      <td>inorganic photoconductor drum</td>\n",
              "      <td>G02</td>\n",
              "      <td>TEXT1: G02; TEXT2: inorganic photoconductor drum; ANC1: opc drum</td>\n",
              "      <td>0.533691</td>\n",
              "    </tr>\n",
              "    <tr>\n",
              "      <th>1</th>\n",
              "      <td>09e418c93a776564</td>\n",
              "      <td>adjust gas flow</td>\n",
              "      <td>altering gas flow</td>\n",
              "      <td>F23</td>\n",
              "      <td>TEXT1: F23; TEXT2: altering gas flow; ANC1: adjust gas flow</td>\n",
              "      <td>0.671875</td>\n",
              "    </tr>\n",
              "    <tr>\n",
              "      <th>2</th>\n",
              "      <td>36baf228038e314b</td>\n",
              "      <td>lower trunnion</td>\n",
              "      <td>lower locating</td>\n",
              "      <td>B60</td>\n",
              "      <td>TEXT1: B60; TEXT2: lower locating; ANC1: lower trunnion</td>\n",
              "      <td>0.596191</td>\n",
              "    </tr>\n",
              "    <tr>\n",
              "      <th>3</th>\n",
              "      <td>1f37ead645e7f0c8</td>\n",
              "      <td>cap component</td>\n",
              "      <td>upper portion</td>\n",
              "      <td>D06</td>\n",
              "      <td>TEXT1: D06; TEXT2: upper portion; ANC1: cap component</td>\n",
              "      <td>0.349609</td>\n",
              "    </tr>\n",
              "    <tr>\n",
              "      <th>4</th>\n",
              "      <td>71a5b6ad068d531f</td>\n",
              "      <td>neural stimulation</td>\n",
              "      <td>artificial neural network</td>\n",
              "      <td>H04</td>\n",
              "      <td>TEXT1: H04; TEXT2: artificial neural network; ANC1: neural stimulation</td>\n",
              "      <td>0.000000</td>\n",
              "    </tr>\n",
              "  </tbody>\n",
              "</table>\n",
              "</div>\n",
              "      <button class=\"colab-df-convert\" onclick=\"convertToInteractive('df-b47a0892-5e4a-4251-b466-1bf2c956026d')\"\n",
              "              title=\"Convert this dataframe to an interactive table.\"\n",
              "              style=\"display:none;\">\n",
              "        \n",
              "  <svg xmlns=\"http://www.w3.org/2000/svg\" height=\"24px\"viewBox=\"0 0 24 24\"\n",
              "       width=\"24px\">\n",
              "    <path d=\"M0 0h24v24H0V0z\" fill=\"none\"/>\n",
              "    <path d=\"M18.56 5.44l.94 2.06.94-2.06 2.06-.94-2.06-.94-.94-2.06-.94 2.06-2.06.94zm-11 1L8.5 8.5l.94-2.06 2.06-.94-2.06-.94L8.5 2.5l-.94 2.06-2.06.94zm10 10l.94 2.06.94-2.06 2.06-.94-2.06-.94-.94-2.06-.94 2.06-2.06.94z\"/><path d=\"M17.41 7.96l-1.37-1.37c-.4-.4-.92-.59-1.43-.59-.52 0-1.04.2-1.43.59L10.3 9.45l-7.72 7.72c-.78.78-.78 2.05 0 2.83L4 21.41c.39.39.9.59 1.41.59.51 0 1.02-.2 1.41-.59l7.78-7.78 2.81-2.81c.8-.78.8-2.07 0-2.86zM5.41 20L4 18.59l7.72-7.72 1.47 1.35L5.41 20z\"/>\n",
              "  </svg>\n",
              "      </button>\n",
              "      \n",
              "  <style>\n",
              "    .colab-df-container {\n",
              "      display:flex;\n",
              "      flex-wrap:wrap;\n",
              "      gap: 12px;\n",
              "    }\n",
              "\n",
              "    .colab-df-convert {\n",
              "      background-color: #E8F0FE;\n",
              "      border: none;\n",
              "      border-radius: 50%;\n",
              "      cursor: pointer;\n",
              "      display: none;\n",
              "      fill: #1967D2;\n",
              "      height: 32px;\n",
              "      padding: 0 0 0 0;\n",
              "      width: 32px;\n",
              "    }\n",
              "\n",
              "    .colab-df-convert:hover {\n",
              "      background-color: #E2EBFA;\n",
              "      box-shadow: 0px 1px 2px rgba(60, 64, 67, 0.3), 0px 1px 3px 1px rgba(60, 64, 67, 0.15);\n",
              "      fill: #174EA6;\n",
              "    }\n",
              "\n",
              "    [theme=dark] .colab-df-convert {\n",
              "      background-color: #3B4455;\n",
              "      fill: #D2E3FC;\n",
              "    }\n",
              "\n",
              "    [theme=dark] .colab-df-convert:hover {\n",
              "      background-color: #434B5C;\n",
              "      box-shadow: 0px 1px 3px 1px rgba(0, 0, 0, 0.15);\n",
              "      filter: drop-shadow(0px 1px 2px rgba(0, 0, 0, 0.3));\n",
              "      fill: #FFFFFF;\n",
              "    }\n",
              "  </style>\n",
              "\n",
              "      <script>\n",
              "        const buttonEl =\n",
              "          document.querySelector('#df-b47a0892-5e4a-4251-b466-1bf2c956026d button.colab-df-convert');\n",
              "        buttonEl.style.display =\n",
              "          google.colab.kernel.accessAllowed ? 'block' : 'none';\n",
              "\n",
              "        async function convertToInteractive(key) {\n",
              "          const element = document.querySelector('#df-b47a0892-5e4a-4251-b466-1bf2c956026d');\n",
              "          const dataTable =\n",
              "            await google.colab.kernel.invokeFunction('convertToInteractive',\n",
              "                                                     [key], {});\n",
              "          if (!dataTable) return;\n",
              "\n",
              "          const docLinkHtml = 'Like what you see? Visit the ' +\n",
              "            '<a target=\"_blank\" href=https://colab.research.google.com/notebooks/data_table.ipynb>data table notebook</a>'\n",
              "            + ' to learn more about interactive tables.';\n",
              "          element.innerHTML = '';\n",
              "          dataTable['output_type'] = 'display_data';\n",
              "          await google.colab.output.renderOutput(dataTable, element);\n",
              "          const docLink = document.createElement('div');\n",
              "          docLink.innerHTML = docLinkHtml;\n",
              "          element.appendChild(docLink);\n",
              "        }\n",
              "      </script>\n",
              "    </div>\n",
              "  </div>\n",
              "  "
            ]
          },
          "metadata": {},
          "execution_count": 47
        }
      ]
    },
    {
      "cell_type": "code",
      "source": [
        "eval_ds"
      ],
      "metadata": {
        "colab": {
          "base_uri": "https://localhost:8080/"
        },
        "id": "9GkH0aw6vmH7",
        "outputId": "c13d6c4f-da3b-4c0d-ec0a-20d550bded08"
      },
      "execution_count": 48,
      "outputs": [
        {
          "output_type": "execute_result",
          "data": {
            "text/plain": [
              "Dataset({\n",
              "    features: ['id', 'anchor', 'target', 'context', 'input', 'input_ids', 'token_type_ids', 'attention_mask'],\n",
              "    num_rows: 36\n",
              "})"
            ]
          },
          "metadata": {},
          "execution_count": 48
        }
      ]
    },
    {
      "cell_type": "markdown",
      "source": [
        "## Make Submission"
      ],
      "metadata": {
        "id": "XVXpuEdKviDM"
      }
    },
    {
      "cell_type": "code",
      "source": [
        "import datasets\n",
        "\n",
        "submission = datasets.Dataset.from_dict({\n",
        "    'id': eval_ds['id'],\n",
        "    'score': preds\n",
        "})\n",
        "\n",
        "submission.to_csv('submission.csv', index=False)"
      ],
      "metadata": {
        "colab": {
          "base_uri": "https://localhost:8080/",
          "height": 66,
          "referenced_widgets": [
            "5fa4a30b06234574b710865bb21da7e9",
            "d2cf3627a76141faac26d0423be412e8",
            "e4ddd420a7cf4ab0a3fcab09a82b969c",
            "d0116c9e71154520a693ae7d7efe89dc",
            "b6c81f5d0f3d4b65a8eb9eefa3bf27a4",
            "a46cae50d6ea460882922b5fb30a0fc0",
            "47a82eef97dd490397bc8dedb3fd48e0",
            "3d4b73d6a0c845e28e30e62576fc7810",
            "115d59fe9ee64595ab75df383675b449",
            "2e578ed6181241af99a1156ad90e19d5",
            "fd523fd4fd0646d29d6fd7e27f2a763a"
          ]
        },
        "id": "1cwo6GtmvQMb",
        "outputId": "52dd11b7-6657-429d-eec9-a104f13ee864"
      },
      "execution_count": 49,
      "outputs": [
        {
          "output_type": "display_data",
          "data": {
            "text/plain": [
              "Creating CSV from Arrow format:   0%|          | 0/1 [00:00<?, ?ba/s]"
            ],
            "application/vnd.jupyter.widget-view+json": {
              "version_major": 2,
              "version_minor": 0,
              "model_id": "5fa4a30b06234574b710865bb21da7e9"
            }
          },
          "metadata": {}
        },
        {
          "output_type": "execute_result",
          "data": {
            "text/plain": [
              "1024"
            ]
          },
          "metadata": {},
          "execution_count": 49
        }
      ]
    }
  ]
}